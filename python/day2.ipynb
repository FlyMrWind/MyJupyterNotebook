{
 "cells": [
  {
   "cell_type": "markdown",
   "metadata": {},
   "source": [
    "### 第五章 if语句"
   ]
  },
  {
   "cell_type": "markdown",
   "metadata": {},
   "source": [
    "if语句是python中的条件判断语句，属于分支结构的一种。"
   ]
  },
  {
   "cell_type": "markdown",
   "metadata": {},
   "source": [
    "#### 5.1 示例"
   ]
  },
  {
   "cell_type": "code",
   "execution_count": 2,
   "metadata": {
    "ExecuteTime": {
     "end_time": "2019-08-01T06:59:57.570062Z",
     "start_time": "2019-08-01T06:59:57.563068Z"
    }
   },
   "outputs": [
    {
     "name": "stdout",
     "output_type": "stream",
     "text": [
      "Audi0\n",
      "BMW\n",
      "Subaru\n",
      "Toyota\n"
     ]
    }
   ],
   "source": [
    "# 1.for循环里参杂条件语句\n",
    "cars = ['audi0', 'bmw', 'subaru', 'toyota']\n",
    "\n",
    "for car in cars:\n",
    "    if car == 'bmw':\n",
    "        print(car.upper())\n",
    "    else:\n",
    "        print(car.title())"
   ]
  },
  {
   "cell_type": "markdown",
   "metadata": {},
   "source": [
    "#### 5.2 条件测试"
   ]
  },
  {
   "cell_type": "code",
   "execution_count": 3,
   "metadata": {
    "ExecuteTime": {
     "end_time": "2019-08-01T07:03:22.233190Z",
     "start_time": "2019-08-01T07:03:22.219194Z"
    }
   },
   "outputs": [
    {
     "data": {
      "text/plain": [
       "True"
      ]
     },
     "execution_count": 3,
     "metadata": {},
     "output_type": "execute_result"
    }
   ],
   "source": [
    "# 1.逻辑表达式\n",
    "car = 'Audi'\n",
    "car.lower() == 'audi' # 条件判断是否相等"
   ]
  },
  {
   "cell_type": "code",
   "execution_count": 5,
   "metadata": {
    "ExecuteTime": {
     "end_time": "2019-08-01T07:04:53.963659Z",
     "start_time": "2019-08-01T07:04:53.956678Z"
    }
   },
   "outputs": [
    {
     "data": {
      "text/plain": [
       "'Audi'"
      ]
     },
     "execution_count": 5,
     "metadata": {},
     "output_type": "execute_result"
    }
   ],
   "source": [
    "car # lower()、upper()和title()等函数不会改变原来变量的值"
   ]
  },
  {
   "cell_type": "markdown",
   "metadata": {},
   "source": [
    "评注：python里的逻辑表达式有：==、！=、>、<、>=和<=。"
   ]
  },
  {
   "cell_type": "code",
   "execution_count": 6,
   "metadata": {
    "ExecuteTime": {
     "end_time": "2019-08-01T07:10:44.502258Z",
     "start_time": "2019-08-01T07:10:44.496263Z"
    }
   },
   "outputs": [
    {
     "data": {
      "text/plain": [
       "False"
      ]
     },
     "execution_count": 6,
     "metadata": {},
     "output_type": "execute_result"
    }
   ],
   "source": [
    "# 2.逻辑关系式\n",
    "age_0 = 22\n",
    "age_1 = 18\n",
    "age_0 >= 21 and age_1 >= 21 # and逻辑与，or逻辑或"
   ]
  },
  {
   "cell_type": "code",
   "execution_count": 7,
   "metadata": {
    "ExecuteTime": {
     "end_time": "2019-08-01T07:31:53.537949Z",
     "start_time": "2019-08-01T07:31:53.531968Z"
    }
   },
   "outputs": [
    {
     "data": {
      "text/plain": [
       "True"
      ]
     },
     "execution_count": 7,
     "metadata": {},
     "output_type": "execute_result"
    }
   ],
   "source": [
    "# 3.通过关键字in判断某个特定值是否在列表中\n",
    "requested_topping = ['mushrooms', 'onions', 'pineapple']\n",
    "'mushrooms' in requested_topping"
   ]
  },
  {
   "cell_type": "code",
   "execution_count": 8,
   "metadata": {
    "ExecuteTime": {
     "end_time": "2019-08-01T07:32:15.217983Z",
     "start_time": "2019-08-01T07:32:15.209989Z"
    }
   },
   "outputs": [
    {
     "data": {
      "text/plain": [
       "False"
      ]
     },
     "execution_count": 8,
     "metadata": {},
     "output_type": "execute_result"
    }
   ],
   "source": [
    "'mushrooms' not in requested_topping"
   ]
  },
  {
   "cell_type": "code",
   "execution_count": 9,
   "metadata": {
    "ExecuteTime": {
     "end_time": "2019-08-01T07:36:07.953046Z",
     "start_time": "2019-08-01T07:36:07.948051Z"
    }
   },
   "outputs": [],
   "source": [
    "# 4.布尔型变量\n",
    "game_start = True"
   ]
  },
  {
   "cell_type": "markdown",
   "metadata": {},
   "source": [
    "#### 5.3 if语句"
   ]
  },
  {
   "cell_type": "code",
   "execution_count": 1,
   "metadata": {
    "ExecuteTime": {
     "end_time": "2019-08-03T01:59:14.299157Z",
     "start_time": "2019-08-03T01:59:14.292164Z"
    }
   },
   "outputs": [
    {
     "name": "stdout",
     "output_type": "stream",
     "text": [
      "You are old enough to vote.\n"
     ]
    }
   ],
   "source": [
    "# 1.简单if语句\n",
    "age = 19\n",
    "if age >= 18:\n",
    "    print(\"You are old enough to vote.\")"
   ]
  },
  {
   "cell_type": "code",
   "execution_count": 2,
   "metadata": {
    "ExecuteTime": {
     "end_time": "2019-08-03T02:01:03.689809Z",
     "start_time": "2019-08-03T02:01:03.683811Z"
    }
   },
   "outputs": [
    {
     "name": "stdout",
     "output_type": "stream",
     "text": [
      "Sorry, you are too young to vote.\n"
     ]
    }
   ],
   "source": [
    "# 2.if-else语句\n",
    "age = 17\n",
    "if age >= 18:\n",
    "    print(\"You are old enough to vote.\")\n",
    "else:\n",
    "    print(\"Sorry, you are too young to vote.\")"
   ]
  },
  {
   "cell_type": "code",
   "execution_count": 3,
   "metadata": {
    "ExecuteTime": {
     "end_time": "2019-08-03T02:48:26.696875Z",
     "start_time": "2019-08-03T02:48:26.689878Z"
    }
   },
   "outputs": [
    {
     "name": "stdout",
     "output_type": "stream",
     "text": [
      "You admission cost is $5.\n"
     ]
    }
   ],
   "source": [
    "# 3.if-elif-else结构\n",
    "# pyhton只执行其中的一个代码块\n",
    "age = 12 \n",
    "\n",
    "if age < 4:\n",
    "    price = 0 \n",
    "elif age < 18:\n",
    "    price = 5 \n",
    "else:\n",
    "    price = 10\n",
    "\n",
    "print(\"You admission cost is $\" + str(price) + \".\")"
   ]
  },
  {
   "cell_type": "markdown",
   "metadata": {},
   "source": [
    "#### 5.4 使用if语句处理列表"
   ]
  },
  {
   "cell_type": "code",
   "execution_count": 4,
   "metadata": {
    "ExecuteTime": {
     "end_time": "2019-08-03T03:41:14.567419Z",
     "start_time": "2019-08-03T03:41:14.558440Z"
    }
   },
   "outputs": [
    {
     "name": "stdout",
     "output_type": "stream",
     "text": [
      "Adding mushrooms\n",
      "Sorry, we are out of green peppers right now.\n",
      "Adding extra chheese\n",
      "\n",
      "Finished making your pizza!\n"
     ]
    }
   ],
   "source": [
    "requested_toppings = [\"mushrooms\", \"greens peppers\", \"extra chheese\"]\n",
    "\n",
    "for requested_topping in requested_toppings:\n",
    "    if requested_topping == \"greens peppers\":\n",
    "        print(\"Sorry, we are out of green peppers right now.\")\n",
    "    else:\n",
    "        print(\"Adding \" + requested_topping)\n",
    "print(\"\\nFinished making your pizza!\")\n"
   ]
  },
  {
   "cell_type": "code",
   "execution_count": 5,
   "metadata": {
    "ExecuteTime": {
     "end_time": "2019-08-03T03:44:52.937195Z",
     "start_time": "2019-08-03T03:44:52.930198Z"
    }
   },
   "outputs": [
    {
     "name": "stdout",
     "output_type": "stream",
     "text": [
      "Are you sure you want a plain pizza?\n"
     ]
    }
   ],
   "source": [
    "# 检测列表是否为空\n",
    "request_toppings = []\n",
    "\n",
    "if request_toppings:\n",
    "    for request_topping in request_toppings:\n",
    "        print(\"Adding \" + request_topping)\n",
    "    print(\"\\nFinished making your pizza.\")\n",
    "else:\n",
    "    print(\"Are you sure you want a plain pizza?\")"
   ]
  },
  {
   "cell_type": "markdown",
   "metadata": {},
   "source": [
    "评注：在if语句中将列表名用在条件表达式中时，Python将在列表 至少包含一个元素时返回True，并在列表为空时返回False。"
   ]
  },
  {
   "cell_type": "markdown",
   "metadata": {},
   "source": [
    "#### 5.5 设置if语句的格式"
   ]
  },
  {
   "cell_type": "markdown",
   "metadata": {},
   "source": [
    "在条件测试的格式设置方面，PEP8提供的唯一 建议是，在诸如==、>=和<=等比较运算符两边各添加一个空格，例如，if age < 4: 要比if age<4: 好。"
   ]
  },
  {
   "cell_type": "markdown",
   "metadata": {},
   "source": [
    "小结：在本章中学习了if语句以及相应的if-else和if-elif-else结构。这些语句和结构为python的流程控制提供了良好的解决方案。"
   ]
  },
  {
   "cell_type": "markdown",
   "metadata": {},
   "source": [
    "### 第六章 字典"
   ]
  },
  {
   "cell_type": "markdown",
   "metadata": {},
   "source": [
    "#### 6.1 简单的字典"
   ]
  },
  {
   "cell_type": "code",
   "execution_count": 4,
   "metadata": {
    "ExecuteTime": {
     "end_time": "2019-08-04T03:01:15.687239Z",
     "start_time": "2019-08-04T03:01:15.680258Z"
    }
   },
   "outputs": [
    {
     "name": "stdout",
     "output_type": "stream",
     "text": [
      "green\n",
      "5\n"
     ]
    }
   ],
   "source": [
    "# 1.访问字典中某个键关联的值\n",
    "alien_0 = {'color': 'green', 'points': 5}\n",
    "print(alien_0['color'])\n",
    "print(alien_0['points'])"
   ]
  },
  {
   "cell_type": "markdown",
   "metadata": {},
   "source": [
    "评注：python中的字典由一对花括号括起来，是一系列键值对组合起来的，每个键都有一个值相关联，可以使用键来访问任何与之对应的值。字典中的值可以是python中的任何数据类型。"
   ]
  },
  {
   "cell_type": "code",
   "execution_count": 7,
   "metadata": {
    "ExecuteTime": {
     "end_time": "2019-08-04T03:03:43.314322Z",
     "start_time": "2019-08-04T03:03:43.309328Z"
    }
   },
   "outputs": [
    {
     "name": "stdout",
     "output_type": "stream",
     "text": [
      "You just earned 5 points.\n"
     ]
    }
   ],
   "source": [
    "new_points = alien_0['points']\n",
    "print(\"You just earned \" + str(new_points) + \" points.\")"
   ]
  },
  {
   "cell_type": "code",
   "execution_count": 17,
   "metadata": {
    "ExecuteTime": {
     "end_time": "2019-08-04T07:01:43.034942Z",
     "start_time": "2019-08-04T07:01:42.746966Z"
    }
   },
   "outputs": [
    {
     "name": "stdout",
     "output_type": "stream",
     "text": [
      "{'color': 'green', 'points': 5}\n",
      "{'color': 'red', 'points': 5, 'x_position': 0, 'y_position': 25}\n"
     ]
    }
   ],
   "source": [
    "# 2.往字典中添加键值对\n",
    "alien_0 = {'color': 'green', 'points': 5}\n",
    "print(alien_0)\n",
    "\n",
    "alien_0['x_position'] = 0\n",
    "alien_0['y_position'] = 25\n",
    "alien_0['color'] = 'red'\n",
    "print(alien_0)"
   ]
  },
  {
   "cell_type": "markdown",
   "metadata": {},
   "source": [
    "评注：在上述的赋值语句中，程序首先会查找字典中是否存在相应的键，如果不存在则添加新的键值对，如果存在会修改键对应的值。所以为了方便，有些时候可以创建一个空字典，在程序执行的过程中添加新的键值对。"
   ]
  },
  {
   "cell_type": "code",
   "execution_count": 18,
   "metadata": {
    "ExecuteTime": {
     "end_time": "2019-08-04T07:45:11.504701Z",
     "start_time": "2019-08-04T07:45:11.498706Z"
    }
   },
   "outputs": [
    {
     "name": "stdout",
     "output_type": "stream",
     "text": [
      "{'color': 'green', 'points': 5}\n",
      "{'color': 'green'}\n"
     ]
    }
   ],
   "source": [
    "# 3.通过del语句删除键值对\n",
    "alien_0 = {'color': 'green', 'points': 5}\n",
    "print(alien_0)\n",
    "del alien_0['points']\n",
    "print(alien_0)"
   ]
  },
  {
   "cell_type": "markdown",
   "metadata": {},
   "source": [
    "评注：此删除操作是永久性的，被删除的键值对不可恢复。"
   ]
  },
  {
   "cell_type": "markdown",
   "metadata": {},
   "source": [
    "#### 6.3 遍历字典"
   ]
  },
  {
   "cell_type": "code",
   "execution_count": 29,
   "metadata": {
    "ExecuteTime": {
     "end_time": "2019-08-04T10:36:16.297823Z",
     "start_time": "2019-08-04T10:36:16.291830Z"
    }
   },
   "outputs": [
    {
     "name": "stdout",
     "output_type": "stream",
     "text": [
      "key: username\n",
      "valse: efermi\n",
      "key: first\n",
      "valse: enrico\n",
      "key: last\n",
      "valse: fermi\n"
     ]
    }
   ],
   "source": [
    "# 1.遍历所有键值对\n",
    "user_0 = {\n",
    "    'username': 'efermi',\n",
    "    'first': 'enrico',\n",
    "    'last': 'fermi'\n",
    "    }\n",
    "for key, value in user_0.items(): # 循环的次数是键值对的个数\n",
    "    print(\"key: \" + key)\n",
    "    print(\"valse: \" + value)"
   ]
  },
  {
   "cell_type": "markdown",
   "metadata": {},
   "source": [
    "评注：item()方法返回键值对列表。"
   ]
  },
  {
   "cell_type": "code",
   "execution_count": 39,
   "metadata": {
    "ExecuteTime": {
     "end_time": "2019-08-04T10:47:34.319467Z",
     "start_time": "2019-08-04T10:47:34.310472Z"
    }
   },
   "outputs": [
    {
     "name": "stdout",
     "output_type": "stream",
     "text": [
      "jen sarah edward phil \n",
      "jen sarah edward phil "
     ]
    }
   ],
   "source": [
    "# 2.遍历键\n",
    "favorite_language = {\n",
    "    'jen': 'python',\n",
    "    'sarah': 'c',\n",
    "    'edward': 'ruby',\n",
    "    'phil': 'python'\n",
    "    }\n",
    "for name in favorite_language.keys(): # 遍历字典的键\n",
    "    print(name, end=' ')\n",
    "print(end='\\n')\n",
    "for name in favorite_language:\n",
    "    print(name, end=' ')"
   ]
  },
  {
   "cell_type": "markdown",
   "metadata": {},
   "source": [
    "评注：keys()方法返回字典的键列表。遍历字典时，会默认遍历所有的键，但是显式地使用方法keys()可让代码更容易理解。"
   ]
  },
  {
   "cell_type": "code",
   "execution_count": 57,
   "metadata": {
    "ExecuteTime": {
     "end_time": "2019-08-04T11:09:01.771624Z",
     "start_time": "2019-08-04T11:09:01.765630Z"
    }
   },
   "outputs": [
    {
     "name": "stdout",
     "output_type": "stream",
     "text": [
      "Edward, thank you for taking the poll.\n",
      "Jen, thank you for taking the poll.\n",
      "Phil, thank you for taking the poll.\n",
      "Sarah, thank you for taking the poll.\n",
      "Edward, thank you for taking the poll.\n",
      "Jen, thank you for taking the poll.\n",
      "Phil, thank you for taking the poll.\n",
      "Sarah, thank you for taking the poll.\n"
     ]
    }
   ],
   "source": [
    "for name in sorted(favorite_language.keys()):\n",
    "    print(name.title() + \", thank you for taking the poll.\")\n",
    "\n",
    "temp = list(favorite_language.keys())\n",
    "temp.sort()\n",
    "for name in temp:\n",
    "    print(name.title() + \", thank you for taking the poll.\")"
   ]
  },
  {
   "cell_type": "markdown",
   "metadata": {
    "ExecuteTime": {
     "end_time": "2019-08-04T11:05:22.739362Z",
     "start_time": "2019-08-04T11:05:22.733368Z"
    }
   },
   "source": [
    "评注：sorted()排序不会改变原列表，而是返回排好序的列表。而sort()是在原列表的基础上进行排序操作。"
   ]
  },
  {
   "cell_type": "code",
   "execution_count": 62,
   "metadata": {
    "ExecuteTime": {
     "end_time": "2019-08-04T11:22:41.088099Z",
     "start_time": "2019-08-04T11:22:41.081104Z"
    }
   },
   "outputs": [
    {
     "name": "stdout",
     "output_type": "stream",
     "text": [
      "python c ruby python \n",
      "c ruby python "
     ]
    }
   ],
   "source": [
    "# 3.遍历值\n",
    "favorite_language = {\n",
    "    'jen': 'python',\n",
    "    'sarah': 'c',\n",
    "    'edward': 'ruby',\n",
    "    'phil': 'python'\n",
    "    }\n",
    "for language in favorite_language.values():\n",
    "    print(language, end=' ')\n",
    "print()\n",
    "for language in set(favorite_language.values()):\n",
    "    print(language, end=' ')"
   ]
  },
  {
   "cell_type": "markdown",
   "metadata": {},
   "source": [
    "评注：values()函数返回值列表，不包含任何键。第一个for循环打印出了字典的所有值，没有考虑是否重复。而第二个for循环中，用了set()函数将列表转换为集合，自动剔除了重复的值。"
   ]
  },
  {
   "cell_type": "markdown",
   "metadata": {},
   "source": [
    "#### 6.4 字典的嵌套"
   ]
  },
  {
   "cell_type": "markdown",
   "metadata": {},
   "source": [
    "有时候，需要将一系列字典存储在列表中，或将列表作为值存储在字典中，这称为嵌套。你 可以在列表中嵌套字典、在字典中嵌套列表甚至在字典中嵌套字典"
   ]
  },
  {
   "cell_type": "code",
   "execution_count": 63,
   "metadata": {
    "ExecuteTime": {
     "end_time": "2019-08-04T12:08:21.757799Z",
     "start_time": "2019-08-04T12:08:21.742812Z"
    }
   },
   "outputs": [
    {
     "name": "stdout",
     "output_type": "stream",
     "text": [
      "{'color': 'green', 'points': 5}\n",
      "{'color': 'yellow', 'points': 10}\n",
      "{'color': 'red', 'points': 15}\n"
     ]
    }
   ],
   "source": [
    "# 1.将字典作为列表的元素存储在列表中\n",
    "aliens = []\n",
    "\n",
    "alien_0 = {'color': 'green', 'points': 5}\n",
    "aliens.append(alien_0)\n",
    "alien_1 = {'color': 'yellow', 'points': 10}\n",
    "aliens.append(alien_1)\n",
    "alien_2 = {'color': 'red', 'points': 15}\n",
    "aliens.append(alien_2)\n",
    "\n",
    "for alien in aliens:\n",
    "    print(alien)"
   ]
  },
  {
   "cell_type": "markdown",
   "metadata": {},
   "source": [
    "评注：以上示例代码将机器人的属性用字典存储，然后将每个机器人当作一个元素放入列表里。字典可以理解为C语言中的结构体变量，保存着某一类事物的属性名称和值。"
   ]
  },
  {
   "cell_type": "code",
   "execution_count": 69,
   "metadata": {
    "ExecuteTime": {
     "end_time": "2019-08-04T12:24:17.407782Z",
     "start_time": "2019-08-04T12:24:17.395791Z"
    }
   },
   "outputs": [
    {
     "name": "stdout",
     "output_type": "stream",
     "text": [
      "{'color': 'green', 'point': 5, 'speed': 'slow'}\n",
      "{'color': 'green', 'point': 5, 'speed': 'slow'}\n",
      "{'color': 'green', 'point': 5, 'speed': 'slow'}\n",
      "{'color': 'green', 'point': 5, 'speed': 'slow'}\n",
      "{'color': 'green', 'point': 5, 'speed': 'slow'}\n",
      "{'color': 'green', 'point': 5, 'speed': 'slow'}\n",
      "{'color': 'green', 'point': 5, 'speed': 'slow'}\n",
      "{'color': 'green', 'point': 5, 'speed': 'slow'}\n",
      "{'color': 'green', 'point': 5, 'speed': 'slow'}\n",
      "{'color': 'green', 'point': 5, 'speed': 'slow'}\n",
      "{'color': 'yellow', 'point': 10, 'speed': 'medium'}\n",
      "{'color': 'yellow', 'point': 10, 'speed': 'medium'}\n",
      "{'color': 'yellow', 'point': 10, 'speed': 'medium'}\n",
      "{'color': 'yellow', 'point': 10, 'speed': 'medium'}\n",
      "{'color': 'yellow', 'point': 10, 'speed': 'medium'}\n",
      "{'color': 'green', 'point': 5, 'speed': 'slow'}\n",
      "{'color': 'green', 'point': 5, 'speed': 'slow'}\n",
      "{'color': 'green', 'point': 5, 'speed': 'slow'}\n",
      "{'color': 'green', 'point': 5, 'speed': 'slow'}\n",
      "{'color': 'green', 'point': 5, 'speed': 'slow'}\n"
     ]
    }
   ],
   "source": [
    "aliens = []\n",
    "for idx in range(0,30):\n",
    "    if idx < 10:\n",
    "        new_alien = {'color': 'green', 'point': 5, 'speed': 'slow'}\n",
    "    elif idx < 20:\n",
    "        new_alien = {'color': 'yellow', 'point': 10, 'speed': 'medium'}\n",
    "    else:\n",
    "        new_alien = {'color': 'red', 'point': 15, 'speed': 'fast'}\n",
    "    aliens.append(new_alien)\n",
    "\n",
    "for alien in aliens[:10]:\n",
    "    print(alien)\n",
    "\n",
    "for alien in aliens[:5]:\n",
    "    if alien['color'] == 'green':\n",
    "        alien['color'] = 'yellow'\n",
    "        alien['point'] = 10\n",
    "        alien['speed'] = 'medium'\n",
    "        \n",
    "for alien in aliens[:10]:\n",
    "    print(alien)"
   ]
  },
  {
   "cell_type": "code",
   "execution_count": 73,
   "metadata": {
    "ExecuteTime": {
     "end_time": "2019-08-04T12:34:30.414564Z",
     "start_time": "2019-08-04T12:34:30.407569Z"
    },
    "scrolled": true
   },
   "outputs": [
    {
     "name": "stdout",
     "output_type": "stream",
     "text": [
      "You ordered athick-crust pizza with the following toppings: \n",
      "\tmushrooms\n",
      "\textra cheese\n"
     ]
    }
   ],
   "source": [
    "# 2.将列表作为字典的值存储在字典中\n",
    "pizza = {\n",
    "    'crust': 'thick',\n",
    "    'toppings': ['mushrooms', 'extra cheese']\n",
    "}\n",
    "print(\"You ordered a\" + pizza['crust'] + \"-crust pizza with the following toppings: \")\n",
    "for topping in pizza['toppings']:\n",
    "    print(\"\\t\" + topping)"
   ]
  },
  {
   "cell_type": "markdown",
   "metadata": {},
   "source": [
    "评注：当需要在字典中将一个键关联到多个值时，都可以在字典中嵌套一个列表。"
   ]
  },
  {
   "cell_type": "code",
   "execution_count": 77,
   "metadata": {
    "ExecuteTime": {
     "end_time": "2019-08-04T12:56:09.049502Z",
     "start_time": "2019-08-04T12:56:09.041512Z"
    }
   },
   "outputs": [
    {
     "name": "stdout",
     "output_type": "stream",
     "text": [
      "\n",
      "Usename: aeinstein\n",
      "\tFull name: Albert Einstein\n",
      "\tLocation: Princeton\n",
      "\n",
      "Usename: mcurie\n",
      "\tFull name: Marie Curie\n",
      "\tLocation: Paris\n"
     ]
    }
   ],
   "source": [
    "# 3.在字典中存储字典\n",
    "users = {\n",
    "    'aeinstein': {'first': 'albert', 'last': 'einstein', 'location': 'princeton'},\n",
    "    'mcurie': {'first': 'marie', 'last': 'curie', 'location': 'paris'}\n",
    "}\n",
    "\n",
    "for username, user_info in users.items():\n",
    "    print(\"\\nUsename: \" + username)\n",
    "    full_name = user_info['first'].title() + ' ' + user_info['last'].title()\n",
    "    print(\"\\t\" + \"Full name: \" + full_name)\n",
    "    print(\"\\t\" + \"Location: \" + user_info['location'].title())"
   ]
  },
  {
   "cell_type": "markdown",
   "metadata": {},
   "source": [
    "评注：字典的键可以是python任何不可动态修改的数据类型，如整型数，浮点数，元组，字符串，布尔型变量等，而字典的值可以是任何数据类型。"
   ]
  },
  {
   "cell_type": "markdown",
   "metadata": {},
   "source": [
    "小结：本章中学习了如何定义字典，以及如何访问、添加和删除字典的键值对。在此基础上，还学习了如何遍历字典的健、值以及键值对等。还学习了字典的嵌套，这对组合各种信息具有重大的帮助。"
   ]
  },
  {
   "cell_type": "markdown",
   "metadata": {},
   "source": [
    "### 第七章 用户输入和white循环"
   ]
  },
  {
   "cell_type": "markdown",
   "metadata": {},
   "source": [
    "在本章中将学习如何接受用户的输入，让程序能够对其进行处理。"
   ]
  },
  {
   "cell_type": "markdown",
   "metadata": {},
   "source": [
    "### 7.1 函数input()的工作原理"
   ]
  },
  {
   "cell_type": "code",
   "execution_count": 1,
   "metadata": {
    "ExecuteTime": {
     "end_time": "2019-08-06T02:55:57.275709Z",
     "start_time": "2019-08-06T02:54:40.833350Z"
    }
   },
   "outputs": [
    {
     "name": "stdout",
     "output_type": "stream",
     "text": [
      "Tell me something, and I will repeat it back to you.Today is Tuesday.\n",
      "Today is Tuesday.\n"
     ]
    }
   ],
   "source": [
    "message = input(\"Tell me something, and I will repeat it back to you.\")\n",
    "print(message)"
   ]
  },
  {
   "cell_type": "code",
   "execution_count": 3,
   "metadata": {
    "ExecuteTime": {
     "end_time": "2019-08-06T03:13:30.884669Z",
     "start_time": "2019-08-06T03:13:22.109678Z"
    }
   },
   "outputs": [
    {
     "name": "stdout",
     "output_type": "stream",
     "text": [
      "Please enter your name: Hesz\n",
      "Hello, Hesz!\n"
     ]
    }
   ],
   "source": [
    "name = input(\"Please enter your name: \")\n",
    "print(\"Hello, \" + name + \"!\")"
   ]
  },
  {
   "cell_type": "code",
   "execution_count": null,
   "metadata": {
    "ExecuteTime": {
     "start_time": "2019-08-06T03:46:37.699Z"
    }
   },
   "outputs": [],
   "source": [
    "prompt ='''\n",
    "If you tell us who you are, we can perspnlize the message you see.\n",
    "What is your first name?'''\n",
    "\n",
    "name = input(prompt)\n",
    "print(\"\\nHello, \" + name + \"!\")"
   ]
  },
  {
   "cell_type": "code",
   "execution_count": 5,
   "metadata": {
    "ExecuteTime": {
     "end_time": "2019-08-06T03:15:03.215009Z",
     "start_time": "2019-08-06T03:15:00.932309Z"
    }
   },
   "outputs": [
    {
     "name": "stdout",
     "output_type": "stream",
     "text": [
      "How old are you?20\n",
      "You are old enough to vote.\n"
     ]
    }
   ],
   "source": [
    "age = int(input(\"How old are you?\"))\n",
    "if age > 18:\n",
    "    print(\"You are old enough to vote.\")"
   ]
  },
  {
   "cell_type": "markdown",
   "metadata": {},
   "source": [
    "评注：input()函数将获取的的输入保存为字符串的形式，所以需要int()函数将其转换为数值输入。"
   ]
  },
  {
   "cell_type": "code",
   "execution_count": 7,
   "metadata": {
    "ExecuteTime": {
     "end_time": "2019-08-06T03:22:58.484887Z",
     "start_time": "2019-08-06T03:22:56.871793Z"
    }
   },
   "outputs": [
    {
     "name": "stdout",
     "output_type": "stream",
     "text": [
      "Please enter a number, and I will tell\n",
      "you if it's even or odd:5\n",
      "\n",
      "The number 5 is odd.\n"
     ]
    }
   ],
   "source": [
    "# 求模(取余)运算符%\n",
    "number = int(input('''Please enter a number, and I will tell\n",
    "you if it's even or odd:'''))\n",
    "\n",
    "if number % 2 == 0:\n",
    "    print(\"\\nThe number \" + str(number) + \" is even.\")\n",
    "else:\n",
    "    print(\"\\nThe number \" + str(number) + \" is odd.\")"
   ]
  },
  {
   "cell_type": "markdown",
   "metadata": {},
   "source": [
    "#### 7.2 while循环"
   ]
  },
  {
   "cell_type": "code",
   "execution_count": 9,
   "metadata": {
    "ExecuteTime": {
     "end_time": "2019-08-06T03:35:56.310155Z",
     "start_time": "2019-08-06T03:35:35.795812Z"
    }
   },
   "outputs": [
    {
     "name": "stdout",
     "output_type": "stream",
     "text": [
      "\n",
      "Tell me something, and I will repeat it back to you:\n",
      "Enter 'quit' to end the program.Hello, everyone!\n",
      "Hello, everyone!\n",
      "\n",
      "Tell me something, and I will repeat it back to you:\n",
      "Enter 'quit' to end the program.quit\n"
     ]
    }
   ],
   "source": [
    "prompt = \"\\nTell me something, and I will repeat it back to you:\"\n",
    "prompt += \"\\nEnter 'quit' to end the program.\"\n",
    "message = input(prompt)\n",
    "while message != 'quit':\n",
    "    print(message)\n",
    "    message = input(prompt)"
   ]
  },
  {
   "cell_type": "code",
   "execution_count": 11,
   "metadata": {
    "ExecuteTime": {
     "end_time": "2019-08-06T03:38:36.703336Z",
     "start_time": "2019-08-06T03:38:14.837807Z"
    }
   },
   "outputs": [
    {
     "name": "stdout",
     "output_type": "stream",
     "text": [
      "\n",
      "Tell me something, and I will repeat it back to you:\n",
      "Enter 'quit' to end the program.Today is Tuesday.\n",
      "Today is Tuesday.\n",
      "\n",
      "Tell me something, and I will repeat it back to you:\n",
      "Enter 'quit' to end the program.quit\n"
     ]
    }
   ],
   "source": [
    "prompt = \"\\nTell me something, and I will repeat it back to you:\"\n",
    "prompt += \"\\nEnter 'quit' to end the program.\"\n",
    "\n",
    "active = True\n",
    "while active:\n",
    "    message = input(prompt)\n",
    "    if message != 'quit':\n",
    "        print(message)\n",
    "    else:\n",
    "        active = False   "
   ]
  },
  {
   "cell_type": "markdown",
   "metadata": {},
   "source": [
    "评注：两个程序反别展示了while循环的两种控制方式，第一种直接通过逻辑表达式来控制循环的结束，第二种通过一个标志来控制循环的过程。"
   ]
  },
  {
   "cell_type": "code",
   "execution_count": 5,
   "metadata": {
    "ExecuteTime": {
     "end_time": "2019-08-06T04:08:52.467403Z",
     "start_time": "2019-08-06T04:08:46.754649Z"
    }
   },
   "outputs": [
    {
     "name": "stdout",
     "output_type": "stream",
     "text": [
      "\n",
      "Please enter the name of a city you have visited:\n",
      "(Enter 'quit' when you are finished.)beijing\n",
      "I'd like to go to Beijing!\n",
      "\n",
      "Please enter the name of a city you have visited:\n",
      "(Enter 'quit' when you are finished.)quit\n"
     ]
    }
   ],
   "source": [
    "# 通过break语句跳出循环\n",
    "prompt = \"\\nPlease enter the name of a city you have visited:\"\n",
    "prompt += \"\\n(Enter 'quit' when you are finished.)\"\n",
    "\n",
    "while True:\n",
    "    city = input(prompt)\n",
    "    if city =='quit':\n",
    "        break\n",
    "    else:\n",
    "        print(\"I'd like to go to \" + city.title() + \"!\")"
   ]
  },
  {
   "cell_type": "code",
   "execution_count": 4,
   "metadata": {
    "ExecuteTime": {
     "end_time": "2019-08-06T03:58:21.480124Z",
     "start_time": "2019-08-06T03:58:21.473130Z"
    }
   },
   "outputs": [
    {
     "name": "stdout",
     "output_type": "stream",
     "text": [
      "1\n",
      "3\n",
      "5\n",
      "7\n",
      "9\n"
     ]
    }
   ],
   "source": [
    "# 循环中使用continue语句\n",
    "current_number = 0\n",
    "while current_number < 10:\n",
    "    current_number += 1\n",
    "    if current_number % 2 == 0:\n",
    "        continue\n",
    "    print(current_number)"
   ]
  },
  {
   "cell_type": "markdown",
   "metadata": {},
   "source": [
    "#### 7.3 使用while循环来处理列表和字典"
   ]
  },
  {
   "cell_type": "code",
   "execution_count": 7,
   "metadata": {
    "ExecuteTime": {
     "end_time": "2019-08-06T09:12:39.795691Z",
     "start_time": "2019-08-06T09:12:39.787697Z"
    }
   },
   "outputs": [
    {
     "name": "stdout",
     "output_type": "stream",
     "text": [
      "Verifying user: Condace\n",
      "Verifying user: Brain\n",
      "Verifying user: Alien\n",
      "\n",
      "The following users have been confirmed: \n",
      "condace\n",
      "brain\n",
      "alien\n"
     ]
    }
   ],
   "source": [
    "unconfirmed_users = ['alien', 'brain', 'condace']\n",
    "confirmed_users = []\n",
    "\n",
    "while unconfirmed_users: # 当列表不为空时执行循环\n",
    "    current_user = unconfirmed_users.pop() # 弹出最后一个元素并且返回该值\n",
    "    print(\"Verifying user: \" + current_user.title())\n",
    "    confirmed_users.append(current_user)\n",
    "print(\"\\nThe following users have been confirmed: \")\n",
    "for confirmed_user in confirmed_users:\n",
    "    print(confirmed_user)"
   ]
  },
  {
   "cell_type": "code",
   "execution_count": 11,
   "metadata": {
    "ExecuteTime": {
     "end_time": "2019-08-06T10:14:52.773091Z",
     "start_time": "2019-08-06T10:14:52.766096Z"
    }
   },
   "outputs": [
    {
     "name": "stdout",
     "output_type": "stream",
     "text": [
      "['dog', 'cat', 'dog', 'goldfish', 'cat', 'rabbit', 'cat']\n",
      "['dog', 'dog', 'goldfish', 'rabbit']\n"
     ]
    }
   ],
   "source": [
    "pets = ['dog', 'cat', 'dog', 'goldfish', 'cat', 'rabbit', 'cat']\n",
    "print(pets)\n",
    "\n",
    "while  'cat' in pets:\n",
    "    pets.remove('cat')\n",
    "\n",
    "print(pets)"
   ]
  },
  {
   "cell_type": "code",
   "execution_count": 14,
   "metadata": {
    "ExecuteTime": {
     "end_time": "2019-08-06T11:31:10.207517Z",
     "start_time": "2019-08-06T11:15:47.084508Z"
    }
   },
   "outputs": [
    {
     "name": "stdout",
     "output_type": "stream",
     "text": [
      "\n",
      "What is yout name?Jack\n",
      "Which mountain would you like to climb someday?Huang Mountain\n",
      "Would you like to let another person respond?(yes/no)yes\n",
      "\n",
      "What is yout name?Lucy\n",
      "Which mountain would you like to climb someday?Hua\n",
      "Would you like to let another person respond?(yes/no)no\n",
      "\n",
      "--- Poll Results ---\n",
      "Jack would you like to climb Huang Mountain.\n",
      "Lucy would you like to climb Hua.\n"
     ]
    }
   ],
   "source": [
    "responses = {}\n",
    "polling_active = True\n",
    "while polling_active:\n",
    "    name = input(\"\\nWhat is yout name?\")\n",
    "    response = input(\"Which mountain would you like to climb someday?\")\n",
    "    responses[name] = response\n",
    "    repeat = input(\"Would you like to let another person respond?(yes/no)\")\n",
    "    if repeat == 'no':\n",
    "        polling_active = False\n",
    "print(\"\\n--- Poll Results ---\")\n",
    "for name, response in responses.items():\n",
    "    print(name + \" would you like to climb \" + response + \".\")"
   ]
  },
  {
   "cell_type": "markdown",
   "metadata": {},
   "source": [
    "小结：在本章中学习了如何使用input()来让用户提供交互性的输入，以及如何使用while循环让程序按照用户的要求不断的运行。还学习了多种控制while循环的方法，如通过条件判断语句、标志位以及break和continue语句等。"
   ]
  }
 ],
 "metadata": {
  "kernelspec": {
   "display_name": "Python 3",
   "language": "python",
   "name": "python3"
  },
  "language_info": {
   "codemirror_mode": {
    "name": "ipython",
    "version": 3
   },
   "file_extension": ".py",
   "mimetype": "text/x-python",
   "name": "python",
   "nbconvert_exporter": "python",
   "pygments_lexer": "ipython3",
   "version": "3.6.8"
  },
  "varInspector": {
   "cols": {
    "lenName": 16,
    "lenType": 16,
    "lenVar": 40
   },
   "kernels_config": {
    "python": {
     "delete_cmd_postfix": "",
     "delete_cmd_prefix": "del ",
     "library": "var_list.py",
     "varRefreshCmd": "print(var_dic_list())"
    },
    "r": {
     "delete_cmd_postfix": ") ",
     "delete_cmd_prefix": "rm(",
     "library": "var_list.r",
     "varRefreshCmd": "cat(var_dic_list()) "
    }
   },
   "types_to_exclude": [
    "module",
    "function",
    "builtin_function_or_method",
    "instance",
    "_Feature"
   ],
   "window_display": false
  }
 },
 "nbformat": 4,
 "nbformat_minor": 2
}
