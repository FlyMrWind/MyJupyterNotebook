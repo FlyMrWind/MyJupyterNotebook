{
 "cells": [
  {
   "cell_type": "code",
   "execution_count": 2,
   "metadata": {
    "ExecuteTime": {
     "end_time": "2019-07-27T12:27:32.382614Z",
     "start_time": "2019-07-27T12:27:32.377629Z"
    }
   },
   "outputs": [
    {
     "name": "stdout",
     "output_type": "stream",
     "text": [
      "Hellow python world!\n"
     ]
    }
   ],
   "source": [
    "print('Hellow python world!')"
   ]
  },
  {
   "cell_type": "markdown",
   "metadata": {},
   "source": [
    "### 第二章 变量和简单数字类型"
   ]
  },
  {
   "cell_type": "markdown",
   "metadata": {},
   "source": [
    "#### 2.3 字符串"
   ]
  },
  {
   "cell_type": "markdown",
   "metadata": {},
   "source": [
    "1.大小写修改"
   ]
  },
  {
   "cell_type": "code",
   "execution_count": 3,
   "metadata": {
    "ExecuteTime": {
     "end_time": "2019-07-28T01:54:55.854710Z",
     "start_time": "2019-07-28T01:54:55.848718Z"
    }
   },
   "outputs": [
    {
     "name": "stdout",
     "output_type": "stream",
     "text": [
      "Ada Lovelace\n",
      "ada lovelace\n",
      "ADA LOVELACE\n",
      "ada lovelace\n",
      "ada lovelace\n",
      "ada lovelace\n"
     ]
    }
   ],
   "source": [
    "name = 'ada lovelace'\n",
    "print(name.title())  # 首字母大写\n",
    "print(name.upper())  # 字符串大写字母显示\n",
    "print(name.lower())  # 字符串小写字母显示"
   ]
  },
  {
   "cell_type": "markdown",
   "metadata": {},
   "source": [
    "2.合并字符串"
   ]
  },
  {
   "cell_type": "code",
   "execution_count": 4,
   "metadata": {
    "ExecuteTime": {
     "end_time": "2019-07-27T12:27:35.534795Z",
     "start_time": "2019-07-27T12:27:35.527802Z"
    }
   },
   "outputs": [
    {
     "name": "stdout",
     "output_type": "stream",
     "text": [
      "ada lovelace\n",
      "ada lovelace\n"
     ]
    }
   ],
   "source": [
    "first_name = 'ada'\n",
    "last_name = 'lovelace'\n",
    "full_name = first_name + ' ' + last_name  # 通过+号来拼接字符串\n",
    "print(full_name)\n",
    "print(first_name + ' ' + last_name)"
   ]
  },
  {
   "cell_type": "markdown",
   "metadata": {},
   "source": [
    "3.转义字符"
   ]
  },
  {
   "cell_type": "code",
   "execution_count": 5,
   "metadata": {
    "ExecuteTime": {
     "end_time": "2019-07-27T12:27:36.623168Z",
     "start_time": "2019-07-27T12:27:36.617173Z"
    }
   },
   "outputs": [
    {
     "name": "stdout",
     "output_type": "stream",
     "text": [
      "\tPython\n",
      "\n",
      "Python\n",
      "Lanuages: \n",
      "\tPython\n",
      "\tC\n",
      "\tJava\n"
     ]
    }
   ],
   "source": [
    "print('\\tPython')  # 制表符tab\n",
    "print('\\nPython')  # 换行符\n",
    "print('Lanuages: \\n\\tPython\\n\\tC\\n\\tJava')"
   ]
  },
  {
   "cell_type": "markdown",
   "metadata": {},
   "source": [
    "4.删除首位的空白(空格或者制表符)"
   ]
  },
  {
   "cell_type": "code",
   "execution_count": 6,
   "metadata": {
    "ExecuteTime": {
     "end_time": "2019-07-27T12:27:38.666005Z",
     "start_time": "2019-07-27T12:27:38.658010Z"
    },
    "scrolled": false
   },
   "outputs": [
    {
     "name": "stdout",
     "output_type": "stream",
     "text": [
      " python \n",
      " python\n",
      "python \n",
      "python\n"
     ]
    }
   ],
   "source": [
    "favorite_language = ' python '\n",
    "favorite_language_1 = favorite_language.rstrip()  # 删除字符串右边的空格\n",
    "favorite_language_2 = favorite_language.lstrip()  # 删除字符串左边的空格\n",
    "favorite_language_3 = favorite_language.strip()  # 删除字符串两边的空格\n",
    "print(favorite_language)\n",
    "print(favorite_language_1)\n",
    "print(favorite_language_2)\n",
    "print(favorite_language_3)"
   ]
  },
  {
   "cell_type": "markdown",
   "metadata": {},
   "source": [
    "#### 2.4 数字"
   ]
  },
  {
   "cell_type": "code",
   "execution_count": 2,
   "metadata": {},
   "outputs": [
    {
     "name": "stdout",
     "output_type": "stream",
     "text": [
      "0.45199999999999996\n",
      "0.30000000000000004\n",
      "Happy 23rd Birthday!\n"
     ]
    }
   ],
   "source": [
    "print(0.1 + 0.352)\n",
    "print(3 * 0.1)\n",
    "age = 23\n",
    "message = 'Happy ' + str(age) + 'rd Birthday!'  # str()将非字符串值表示为字符串\n",
    "print(message)"
   ]
  },
  {
   "cell_type": "markdown",
   "metadata": {},
   "source": [
    "小结：在本章中学习了python中常用的数据类型以及变量的定义和修改等。"
   ]
  },
  {
   "cell_type": "markdown",
   "metadata": {},
   "source": [
    "### 第三章 列表"
   ]
  },
  {
   "cell_type": "markdown",
   "metadata": {},
   "source": [
    "#### 3.1 列表的访问"
   ]
  },
  {
   "cell_type": "code",
   "execution_count": 15,
   "metadata": {
    "ExecuteTime": {
     "end_time": "2019-07-27T12:28:44.162246Z",
     "start_time": "2019-07-27T12:28:44.154251Z"
    }
   },
   "outputs": [
    {
     "name": "stdout",
     "output_type": "stream",
     "text": [
      "Trek\n",
      "Redline\n",
      "Specialized\n",
      "Specialized\n",
      "My first bicycle was a Trek.\n"
     ]
    }
   ],
   "source": [
    "bicicyle = ['trek', 'cannondale', 'redline', 'specialized']\n",
    "print(bicicyle[0].title())  # 列表的正序索引从0开始\n",
    "print(bicicyle[2].title())\n",
    "print(bicicyle[3].title())\n",
    "print(bicicyle[-1].title())  # 列表的逆序索引从-1开始\n",
    "message = 'My first bicycle was a ' + bicicyle[0].title() + '.'\n",
    "print(message)"
   ]
  },
  {
   "cell_type": "markdown",
   "metadata": {},
   "source": [
    "3.2 修改、添加和删除元素"
   ]
  },
  {
   "cell_type": "code",
   "execution_count": 16,
   "metadata": {
    "ExecuteTime": {
     "end_time": "2019-07-27T12:28:45.735341Z",
     "start_time": "2019-07-27T12:28:45.728344Z"
    }
   },
   "outputs": [
    {
     "name": "stdout",
     "output_type": "stream",
     "text": [
      "['honda', 'yamnha', 'suzuki']\n",
      "['ducati', 'yamnha', 'suzuki']\n"
     ]
    }
   ],
   "source": [
    "motorcycles = ['honda', 'yamnha', 'suzuki']\n",
    "print(motorcycles)\n",
    "motorcycles[0] = 'ducati'  # 修改列表元素\n",
    "print(motorcycles)"
   ]
  },
  {
   "cell_type": "code",
   "execution_count": 17,
   "metadata": {
    "ExecuteTime": {
     "end_time": "2019-07-27T12:28:47.128540Z",
     "start_time": "2019-07-27T12:28:47.121541Z"
    }
   },
   "outputs": [
    {
     "name": "stdout",
     "output_type": "stream",
     "text": [
      "['ducati', 'yamnha', 'suzuki', 'honda']\n",
      "['honda', 'yamaha', 'suzuki']\n",
      "['honda', 'ducati', 'yamaha', 'suzuki']\n"
     ]
    }
   ],
   "source": [
    "motorcycles.append('honda')  # 在列表的末尾添加新元素\n",
    "print(motorcycles)\n",
    "\n",
    "motorcycles_ = []\n",
    "motorcycles_.append('honda')\n",
    "motorcycles_.append('yamaha')\n",
    "motorcycles_.append('suzuki')\n",
    "print(motorcycles_)\n",
    "'''在列表中的任意位置插入新元素，第一个参数是正序的索引值，第二个元素是新元素的值。该操作会把插入位置以后的所有元素右移一位'''\n",
    "motorcycles_.insert(1, 'ducati')\n",
    "print(motorcycles_)"
   ]
  },
  {
   "cell_type": "code",
   "execution_count": 18,
   "metadata": {
    "ExecuteTime": {
     "end_time": "2019-07-27T12:28:49.315277Z",
     "start_time": "2019-07-27T12:28:49.305283Z"
    },
    "code_folding": []
   },
   "outputs": [
    {
     "name": "stdout",
     "output_type": "stream",
     "text": [
      "['ducati', 'yamaha', 'suzuki']\n",
      "['ducati', 'yamaha']\n",
      "suzuki\n",
      "['ducati', 'yamnha', 'suzuki', 'honda']\n",
      "['yamnha', 'suzuki', 'honda']\n",
      "The first motorcycles I owned was a Ducati.\n",
      "['honda', 'yamdha', 'suzuki', 'ducati']\n",
      "['honda', 'yamdha', 'suzuki']\n",
      "['honda', 'yamdha', 'suzuki', 'ducati']\n",
      "A Ducatiis too expensive for me.\n"
     ]
    }
   ],
   "source": [
    "# 删除元素\n",
    "# 1.使用del语句删除元素，需要知道要删除的元素在列表中的位置(索引值)。\n",
    "del motorcycles_[0]  # 删除列表中的第1个元素\n",
    "print(motorcycles_)\n",
    "# 2.使用方法pop()删除元素(弹出列表中的最后一个元素，返回该元素的值)\n",
    "popped_motorcycle = motorcycles_.pop()\n",
    "print(motorcycles_)\n",
    "print(popped_motorcycle)\n",
    "# 3.使用方法pop()弹出列表中任何位置的元素，只需要指定pop()里面的参数(索引值)。\n",
    "print(motorcycles)\n",
    "first_owned = motorcycles.pop(0)\n",
    "print(motorcycles)\n",
    "print('The first motorcycles I owned was a ' + first_owned.title() + '.')\n",
    "# 4.使用remov()根据值删除元素，适用于不知道元素所在的位置只知道元素的值的情况下。\n",
    "motorcycles = ['honda', 'yamdha', 'suzuki', 'ducati']\n",
    "print(motorcycles)\n",
    "motorcycles.remove('ducati')\n",
    "print(motorcycles)\n",
    "\n",
    "motorcycles = ['honda', 'yamdha', 'suzuki', 'ducati'] \n",
    "element_remove ='ducati'\n",
    "print(motorcycles)\n",
    "print('A ' + element_remove.title() + 'is too expensive for me.')"
   ]
  },
  {
   "cell_type": "markdown",
   "metadata": {},
   "source": [
    "评注：使用remoe()只删除第一个特定的值。如果要删除列表中对应于该值的所有元素，则需要使用循环来完成。"
   ]
  },
  {
   "cell_type": "markdown",
   "metadata": {},
   "source": [
    "#### 3.2 组织列表"
   ]
  },
  {
   "cell_type": "code",
   "execution_count": 19,
   "metadata": {
    "ExecuteTime": {
     "end_time": "2019-07-27T12:28:51.376089Z",
     "start_time": "2019-07-27T12:28:51.372092Z"
    }
   },
   "outputs": [
    {
     "name": "stdout",
     "output_type": "stream",
     "text": [
      "['audi', 'bmw', 'subaru', 'toyota']\n"
     ]
    }
   ],
   "source": [
    "# 1.使用sort()对列表进行永久性排列\n",
    "cars = ['bmw', 'audi', 'toyota', 'subaru']\n",
    "cars.sort() # 将列表里的字符串按首字母顺序排列\n",
    "print(cars)"
   ]
  },
  {
   "cell_type": "markdown",
   "metadata": {},
   "source": [
    "评注：sort()函数对列表的排序操作是永久性的，即会直接改变原数组的顺序。"
   ]
  },
  {
   "cell_type": "code",
   "execution_count": 22,
   "metadata": {
    "ExecuteTime": {
     "end_time": "2019-07-27T12:31:11.221502Z",
     "start_time": "2019-07-27T12:31:11.216502Z"
    }
   },
   "outputs": [
    {
     "name": "stdout",
     "output_type": "stream",
     "text": [
      "['toyota', 'subaru', 'bmw', 'audi']\n"
     ]
    }
   ],
   "source": [
    "cars = ['bmw', 'audi', 'toyota', 'subaru']\n",
    "cars.sort(reverse=True) # 以与字母顺序相反的顺序排列\n",
    "print(cars)"
   ]
  },
  {
   "cell_type": "code",
   "execution_count": 24,
   "metadata": {
    "ExecuteTime": {
     "end_time": "2019-07-27T12:39:41.803970Z",
     "start_time": "2019-07-27T12:39:41.796975Z"
    }
   },
   "outputs": [
    {
     "name": "stdout",
     "output_type": "stream",
     "text": [
      "Here is the orginal list: \n",
      "['bmw', 'audi', 'toyota', 'subaru']\n",
      "\n",
      "Here is the sorted list: \n",
      "['audi', 'bmw', 'subaru', 'toyota']\n",
      "\n",
      "Here is the original list again: \n",
      "['bmw', 'audi', 'toyota', 'subaru']\n"
     ]
    }
   ],
   "source": [
    "# 2.使用sorted()对列表进行临时排序\n",
    "cars = ['bmw', 'audi', 'toyota', 'subaru']\n",
    "print(\"Here is the orginal list: \")\n",
    "print(cars)\n",
    "print(\"\\nHere is the sorted list: \")\n",
    "print(sorted(cars))\n",
    "print(\"\\nHere is the original list again: \")\n",
    "print(cars)"
   ]
  },
  {
   "cell_type": "markdown",
   "metadata": {},
   "source": [
    "评注：sorted()函数会返回一个排好序的数组，而原数组的顺序没有改变。如果想要让数组按相反的顺序排列，也可传入参数reverse=True。对比sort()和sorted()，前者相当于列表这种数据类型的成员函数，可以直接调用而不需传入参数。而后者则需要将列表作为参数传递到函数中去，因为后者也需要将排好序的列表作为参数返回。"
   ]
  },
  {
   "cell_type": "code",
   "execution_count": 25,
   "metadata": {
    "ExecuteTime": {
     "end_time": "2019-07-27T12:54:04.662753Z",
     "start_time": "2019-07-27T12:54:04.654755Z"
    },
    "code_folding": []
   },
   "outputs": [
    {
     "name": "stdout",
     "output_type": "stream",
     "text": [
      "['bmw', 'audi', 'toyota', 'subaru']\n",
      "['subaru', 'toyota', 'audi', 'bmw']\n"
     ]
    }
   ],
   "source": [
    "# 3.调用reverse()反转列表顺序\n",
    "cars = ['bmw', 'audi', 'toyota', 'subaru']\n",
    "print(cars)\n",
    "\n",
    "cars.reverse()\n",
    "print(cars)"
   ]
  },
  {
   "cell_type": "code",
   "execution_count": 27,
   "metadata": {
    "ExecuteTime": {
     "end_time": "2019-07-27T12:56:15.855146Z",
     "start_time": "2019-07-27T12:56:15.840155Z"
    },
    "code_folding": []
   },
   "outputs": [
    {
     "data": {
      "text/plain": [
       "4"
      ]
     },
     "execution_count": 27,
     "metadata": {},
     "output_type": "execute_result"
    }
   ],
   "source": [
    "# 4.调用len()获取列表长度\n",
    "cars = ['bmw', 'audi','toyota', 'subaru']\n",
    "len(cars)"
   ]
  },
  {
   "cell_type": "markdown",
   "metadata": {},
   "source": [
    "小结：在本章中学习了列表这种数据类型，以及如何修改、添加和删除列表里的元素。还对如何进行排序进行了探索，以及如何获取列表的长度等。"
   ]
  },
  {
   "cell_type": "markdown",
   "metadata": {},
   "source": [
    "### 第四章 操作列表(list)"
   ]
  },
  {
   "cell_type": "markdown",
   "metadata": {},
   "source": [
    "#### 4.1 遍历列表"
   ]
  },
  {
   "cell_type": "code",
   "execution_count": 5,
   "metadata": {
    "ExecuteTime": {
     "end_time": "2019-07-28T02:32:29.819922Z",
     "start_time": "2019-07-28T02:32:29.813925Z"
    },
    "code_folding": [],
    "scrolled": false
   },
   "outputs": [
    {
     "name": "stdout",
     "output_type": "stream",
     "text": [
      "alice\n",
      "david\n",
      "carolina\n"
     ]
    }
   ],
   "source": [
    "# 1.使用for循环遍历列表\n",
    "magicians = ['alice', 'david', 'carolina']\n",
    "for magician in magicians:\n",
    "    print(magician)"
   ]
  },
  {
   "cell_type": "code",
   "execution_count": 11,
   "metadata": {
    "ExecuteTime": {
     "end_time": "2019-07-28T02:53:00.993199Z",
     "start_time": "2019-07-28T02:53:00.986203Z"
    }
   },
   "outputs": [
    {
     "name": "stdout",
     "output_type": "stream",
     "text": [
      "Alice, that was a great trick.\n",
      "I can't wait to see your next trick, Alice.\n",
      "\n",
      "David, that was a great trick.\n",
      "I can't wait to see your next trick, David.\n",
      "\n",
      "Carolina, that was a great trick.\n",
      "I can't wait to see your next trick, Carolina.\n",
      "\n",
      "Thank you, every. That was a great magic show!\n"
     ]
    }
   ],
   "source": [
    "magicians = ['alice', 'david', 'carolina']\n",
    "for magician in magicians:\n",
    "    print(magician.title() + ', that was a great trick.')\n",
    "    print(\"I can't wait to see your next trick, \" + magician.title() + '.\\n')\n",
    "print(\"Thank you, every. That was a great magic show!\")"
   ]
  },
  {
   "cell_type": "markdown",
   "metadata": {},
   "source": [
    "评注：使用for循环来批量处理数据是对数据集进行整体操作的有效方法。python以缩进作为代码的组织方式，相同的缩进代表着代码块处于相同等级。应该养成良好的缩进习惯，从而避免缩进错误的出现。"
   ]
  },
  {
   "cell_type": "markdown",
   "metadata": {},
   "source": [
    "#### 4.2 创建数值列表"
   ]
  },
  {
   "cell_type": "code",
   "execution_count": 20,
   "metadata": {
    "ExecuteTime": {
     "end_time": "2019-07-31T12:11:16.538825Z",
     "start_time": "2019-07-31T12:11:16.528832Z"
    }
   },
   "outputs": [
    {
     "name": "stdout",
     "output_type": "stream",
     "text": [
      "1\n",
      "2\n",
      "3\n",
      "4\n"
     ]
    }
   ],
   "source": [
    "# 1.使用函数rane()\n",
    "for value in range(1,5):\n",
    "    print(value)"
   ]
  },
  {
   "cell_type": "markdown",
   "metadata": {},
   "source": [
    "评注：得到的结果包括起始值而不包括终点值。"
   ]
  },
  {
   "cell_type": "code",
   "execution_count": 24,
   "metadata": {
    "ExecuteTime": {
     "end_time": "2019-07-31T12:13:04.134777Z",
     "start_time": "2019-07-31T12:13:04.128781Z"
    }
   },
   "outputs": [
    {
     "name": "stdout",
     "output_type": "stream",
     "text": [
      "[2, 4, 6, 8, 10]\n"
     ]
    }
   ],
   "source": [
    "# 2.使用range()创建数字列表\n",
    "numbers = list(range(2, 11, 2)) # 第三个参数是步长\n",
    "print(numbers)"
   ]
  },
  {
   "cell_type": "code",
   "execution_count": 25,
   "metadata": {
    "ExecuteTime": {
     "end_time": "2019-07-31T12:16:46.951288Z",
     "start_time": "2019-07-31T12:16:46.944289Z"
    }
   },
   "outputs": [
    {
     "name": "stdout",
     "output_type": "stream",
     "text": [
      "1\n",
      "10\n",
      "55\n"
     ]
    }
   ],
   "source": [
    "# 3.求列表的最小值、最大值和列表求和\n",
    "digits = [1, 2, 3, 4, 5, 6, 7, 8, 9, 10]\n",
    "print(min(digits))\n",
    "print(max(digits))\n",
    "print(sum(digits))"
   ]
  },
  {
   "cell_type": "code",
   "execution_count": 26,
   "metadata": {
    "ExecuteTime": {
     "end_time": "2019-07-31T12:36:37.874636Z",
     "start_time": "2019-07-31T12:36:37.841655Z"
    }
   },
   "outputs": [
    {
     "name": "stdout",
     "output_type": "stream",
     "text": [
      "[1, 4, 9, 16, 25, 36, 49, 64, 81, 100]\n"
     ]
    }
   ],
   "source": [
    "# 4.解析法生成列表\n",
    "suquares = [value**2 for value in range(1, 11)]\n",
    "print(squares)"
   ]
  },
  {
   "cell_type": "markdown",
   "metadata": {},
   "source": [
    "#### 4.4 列表切片"
   ]
  },
  {
   "cell_type": "code",
   "execution_count": 27,
   "metadata": {
    "ExecuteTime": {
     "end_time": "2019-07-31T12:38:07.332515Z",
     "start_time": "2019-07-31T12:38:07.317536Z"
    }
   },
   "outputs": [
    {
     "name": "stdout",
     "output_type": "stream",
     "text": [
      "['charles', 'martina', 'michael']\n"
     ]
    }
   ],
   "source": [
    "# 1.使用索引进行切片\n",
    "players = ['charles', 'martina', 'michael', 'florence', 'eli']\n",
    "print(players[0:3])"
   ]
  },
  {
   "cell_type": "code",
   "execution_count": 28,
   "metadata": {
    "ExecuteTime": {
     "end_time": "2019-07-31T12:40:07.551611Z",
     "start_time": "2019-07-31T12:40:07.545618Z"
    }
   },
   "outputs": [
    {
     "name": "stdout",
     "output_type": "stream",
     "text": [
      "Charles\n",
      "Martina\n",
      "Michael\n"
     ]
    }
   ],
   "source": [
    "# 2.遍历切片\n",
    "players = ['charles', 'martina', 'michael', 'florence', 'eli']\n",
    "for player in players[0:3]:\n",
    "    print(player.title())"
   ]
  },
  {
   "cell_type": "code",
   "execution_count": 29,
   "metadata": {
    "ExecuteTime": {
     "end_time": "2019-07-31T12:43:29.291983Z",
     "start_time": "2019-07-31T12:43:29.264000Z"
    }
   },
   "outputs": [
    {
     "name": "stdout",
     "output_type": "stream",
     "text": [
      "['pizza', 'falafel', 'carrot cake', 'hamburger']\n",
      "['pizza', 'falafel', 'carrot cake', 'hamburger']\n",
      "['pizza', 'falafel', 'carrot cake', 'ice cream']\n"
     ]
    }
   ],
   "source": [
    "# 3.赋值列表\n",
    "\n",
    "food_1 = ['pizza', 'falafel', 'carrot cake']\n",
    "\n",
    "food_2 = food_1\n",
    "food_3 = food_1[:]\n",
    "\n",
    "food_2.append('hamburger')\n",
    "food_3.append('ice cream')\n",
    "\n",
    "print(food_1)\n",
    "print(food_2)\n",
    "print(food_3)"
   ]
  },
  {
   "cell_type": "markdown",
   "metadata": {},
   "source": [
    "#### 4.5 元组(tuple)"
   ]
  },
  {
   "cell_type": "markdown",
   "metadata": {},
   "source": [
    "元组可以看作是不可修改的列表，访问其中元素的方法与列表一致，都是通过下标索引值访问。"
   ]
  },
  {
   "cell_type": "code",
   "execution_count": 34,
   "metadata": {
    "ExecuteTime": {
     "end_time": "2019-07-31T12:51:11.181700Z",
     "start_time": "2019-07-31T12:51:11.175703Z"
    }
   },
   "outputs": [
    {
     "name": "stdout",
     "output_type": "stream",
     "text": [
      "200\n",
      "50\n"
     ]
    }
   ],
   "source": [
    "dimensions = (200, 50)\n",
    "print(dimensions[0])\n",
    "print(dimensions[1])"
   ]
  },
  {
   "cell_type": "markdown",
   "metadata": {},
   "source": [
    "评注：元组一定被定义是不可修改的，任何修改元组元素的操作都会被返回错误信息。"
   ]
  },
  {
   "cell_type": "code",
   "execution_count": 35,
   "metadata": {
    "ExecuteTime": {
     "end_time": "2019-07-31T12:51:12.470956Z",
     "start_time": "2019-07-31T12:51:12.465959Z"
    }
   },
   "outputs": [
    {
     "name": "stdout",
     "output_type": "stream",
     "text": [
      "200\n",
      "50\n"
     ]
    }
   ],
   "source": [
    "# 遍历元组\n",
    "for dimension in dimensions:\n",
    "    print(dimension)"
   ]
  },
  {
   "cell_type": "code",
   "execution_count": 36,
   "metadata": {
    "ExecuteTime": {
     "end_time": "2019-07-31T12:53:09.758221Z",
     "start_time": "2019-07-31T12:53:09.751227Z"
    }
   },
   "outputs": [
    {
     "name": "stdout",
     "output_type": "stream",
     "text": [
      "200\n",
      "50\n",
      "200\n",
      "400\n"
     ]
    }
   ],
   "source": [
    "# 给元组变量赋值\n",
    "dimensions = (200, 50)\n",
    "for dimension in dimensions:\n",
    "    print(dimension)\n",
    "    \n",
    "dimensions = (200, 400)\n",
    "for dimension in dimensions:\n",
    "    print(dimension)\n"
   ]
  },
  {
   "cell_type": "markdown",
   "metadata": {},
   "source": [
    "评注：相比于列表，元组是更简单的数据结构。如果需要存储的一组值在程序的整个生命周期内都不变，可使用元组。 "
   ]
  },
  {
   "cell_type": "markdown",
   "metadata": {},
   "source": [
    "小结：本章学习了列表的创建、访问和切片等操作。还学习了元组这中数据类型。"
   ]
  }
 ],
 "metadata": {
  "kernelspec": {
   "display_name": "Python 3",
   "language": "python",
   "name": "python3"
  },
  "language_info": {
   "codemirror_mode": {
    "name": "ipython",
    "version": 3
   },
   "file_extension": ".py",
   "mimetype": "text/x-python",
   "name": "python",
   "nbconvert_exporter": "python",
   "pygments_lexer": "ipython3",
   "version": "3.6.8"
  },
  "toc": {
   "base_numbering": 1,
   "nav_menu": {
    "height": "545.99px",
    "width": "242.986px"
   },
   "number_sections": false,
   "sideBar": false,
   "skip_h1_title": false,
   "title_cell": "Table of Contents",
   "title_sidebar": "Contents",
   "toc_cell": false,
   "toc_position": {
    "height": "280.955px",
    "left": "1846.33px",
    "top": "91.5104px",
    "width": "262.552px"
   },
   "toc_section_display": true,
   "toc_window_display": true
  },
  "varInspector": {
   "cols": {
    "lenName": 16,
    "lenType": 16,
    "lenVar": 40
   },
   "kernels_config": {
    "python": {
     "delete_cmd_postfix": "",
     "delete_cmd_prefix": "del ",
     "library": "var_list.py",
     "varRefreshCmd": "print(var_dic_list())"
    },
    "r": {
     "delete_cmd_postfix": ") ",
     "delete_cmd_prefix": "rm(",
     "library": "var_list.r",
     "varRefreshCmd": "cat(var_dic_list()) "
    }
   },
   "types_to_exclude": [
    "module",
    "function",
    "builtin_function_or_method",
    "instance",
    "_Feature"
   ],
   "window_display": false
  }
 },
 "nbformat": 4,
 "nbformat_minor": 2
}
