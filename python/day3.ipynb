{
 "cells": [
  {
   "cell_type": "markdown",
   "metadata": {},
   "source": [
    "### 第八章 函数"
   ]
  },
  {
   "cell_type": "markdown",
   "metadata": {},
   "source": [
    "#### 8.1 定义函数"
   ]
  },
  {
   "cell_type": "code",
   "execution_count": 1,
   "metadata": {
    "ExecuteTime": {
     "end_time": "2019-08-07T04:01:35.523799Z",
     "start_time": "2019-08-07T04:01:35.515801Z"
    }
   },
   "outputs": [
    {
     "name": "stdout",
     "output_type": "stream",
     "text": [
      "Hello!\n"
     ]
    }
   ],
   "source": [
    "def great_user():\n",
    "    \"\"\"显示简单的问候语\"\"\"\n",
    "    print(\"Hello!\")\n",
    "\n",
    "great_user()"
   ]
  },
  {
   "cell_type": "markdown",
   "metadata": {},
   "source": [
    "评注：def语句定义函数。"
   ]
  },
  {
   "cell_type": "code",
   "execution_count": 2,
   "metadata": {
    "ExecuteTime": {
     "end_time": "2019-08-07T04:29:35.708705Z",
     "start_time": "2019-08-07T04:29:35.700711Z"
    }
   },
   "outputs": [
    {
     "name": "stdout",
     "output_type": "stream",
     "text": [
      "Hello, Jesse!\n"
     ]
    }
   ],
   "source": [
    "# 带参数的函数定义\n",
    "def great_user(username): \n",
    "    \"\"\"显示简答的问候语\"\"\"\n",
    "    print(\"Hello, \" + username.title() + \"!\")\n",
    "\n",
    "great_user('jesse')"
   ]
  },
  {
   "cell_type": "markdown",
   "metadata": {},
   "source": [
    "评注：上述例子中username是形参，'jesse'是实参。"
   ]
  },
  {
   "cell_type": "markdown",
   "metadata": {},
   "source": [
    "#### 8.2 传递参数"
   ]
  },
  {
   "cell_type": "code",
   "execution_count": null,
   "metadata": {
    "ExecuteTime": {
     "start_time": "2019-08-25T14:46:27.707Z"
    }
   },
   "outputs": [],
   "source": [
    "def describe_pet(animal_type, pet_name):\n",
    "    \"\"\"显示宠物的信息\"\"\"\n",
    "    print(\"\\nI have a \" + animal_type, pet_name)\n",
    "    print(\"My \" + animal_type + \"'s name is \" + pet_name.title() + \".\")\n",
    "    \n",
    "describe_pet('hamster', 'harry')"
   ]
  },
  {
   "cell_type": "code",
   "execution_count": 3,
   "metadata": {
    "ExecuteTime": {
     "end_time": "2019-08-26T02:30:50.367769Z",
     "start_time": "2019-08-26T02:30:50.359769Z"
    }
   },
   "outputs": [
    {
     "name": "stdout",
     "output_type": "stream",
     "text": [
      "\n",
      "I have a hamster harry\n",
      "My hamster's name is Harry.\n",
      "\n",
      "I have a harry hamster\n",
      "My harry's name is Hamster.\n"
     ]
    }
   ],
   "source": [
    "# 采用关键字实参的方法可以将实参和形参直接关联起来，在传递参数时不会混淆。\n",
    "def describe_pet(animal_type, pet_name):\n",
    "    \"\"\"显示宠物的信息\"\"\"\n",
    "    print(\"\\nI have a \" + animal_type, pet_name)\n",
    "    print(\"My \" + animal_type + \"'s name is \" + pet_name.title() + \".\")\n",
    "    \n",
    "describe_pet(animal_type='hamster', pet_name='harry')\n",
    "describe_pet(pet_name='hamster', animal_type='harry') # 两个调用顺序不同，但是效果一样"
   ]
  },
  {
   "cell_type": "code",
   "execution_count": 7,
   "metadata": {
    "ExecuteTime": {
     "end_time": "2019-08-27T02:27:52.506913Z",
     "start_time": "2019-08-27T02:27:52.499931Z"
    }
   },
   "outputs": [
    {
     "name": "stdout",
     "output_type": "stream",
     "text": [
      "\n",
      "I have a hamster harry\n",
      "My hamster's name is Harry.\n"
     ]
    }
   ],
   "source": [
    "# 给形参指定默认值，在调用函数中如果没有指定实参，则将使用默认值来执行函数体\n",
    "def describe_pet(pet_name, animal_type='dog'):\n",
    "    \"\"\"显示宠物的信息\"\"\"\n",
    "    print(\"\\nI have a \" + animal_type, pet_name)\n",
    "    print(\"My \" + animal_type + \"'s name is \" + pet_name.title() + \".\")\n",
    "    \n",
    "describe_pet(animal_type='hamster', pet_name='harry')"
   ]
  },
  {
   "cell_type": "markdown",
   "metadata": {},
   "source": [
    "评注：指定默认值的形参，在调用函数时可以不指定实参，但是没有指定默认值的形参，在调用时必须指定实参，否则会报错。"
   ]
  },
  {
   "cell_type": "markdown",
   "metadata": {},
   "source": [
    "#### 8.3 函数返回值"
   ]
  },
  {
   "cell_type": "code",
   "execution_count": 8,
   "metadata": {
    "ExecuteTime": {
     "end_time": "2019-08-27T02:36:24.538788Z",
     "start_time": "2019-08-27T02:36:24.530791Z"
    }
   },
   "outputs": [
    {
     "name": "stdout",
     "output_type": "stream",
     "text": [
      "Jimi Hendrix\n"
     ]
    }
   ],
   "source": [
    "# 1.返回简单值\n",
    "def get_formatted_name(first_name, last_name):\n",
    "    \"\"\"返回整洁的姓名\"\"\"\n",
    "    full_name = first_name + ' ' + last_name\n",
    "    return full_name.title()\n",
    "\n",
    "musician = get_formatted_name('jimi', 'hendrix')\n",
    "print(musician)"
   ]
  },
  {
   "cell_type": "code",
   "execution_count": 19,
   "metadata": {
    "ExecuteTime": {
     "end_time": "2019-08-27T02:45:26.591356Z",
     "start_time": "2019-08-27T02:45:26.583359Z"
    }
   },
   "outputs": [
    {
     "name": "stdout",
     "output_type": "stream",
     "text": [
      "{'first': 'jimi', 'last': 'hendrix'}\n"
     ]
    }
   ],
   "source": [
    "# 2.返回字典\n",
    "def build_person(first_name, last_name):\n",
    "    person = {'first': first_name, 'last': last_name}\n",
    "    return person\n",
    "\n",
    "musician = build_person(\"jimi\", \"hendrix\")\n",
    "print(musician)"
   ]
  },
  {
   "cell_type": "code",
   "execution_count": 21,
   "metadata": {
    "ExecuteTime": {
     "end_time": "2019-08-27T02:54:24.384329Z",
     "start_time": "2019-08-27T02:54:24.378346Z"
    }
   },
   "outputs": [
    {
     "name": "stdout",
     "output_type": "stream",
     "text": [
      "{'first': 'jimi', 'last': 'hendrix', 'age': 27}\n"
     ]
    }
   ],
   "source": [
    "def build_person(first_name, last_name, age=None):\n",
    "    \"\"\"返回一个字典，其中包含有关一个人的信息\"\"\"\n",
    "    person = {'first': first_name, 'last': last_name}\n",
    "    if age:\n",
    "        person['age'] = age\n",
    "    return person\n",
    "musician = build_person('jimi', 'hendrix', age=27)\n",
    "print(musician)\n",
    "              "
   ]
  },
  {
   "cell_type": "code",
   "execution_count": 4,
   "metadata": {
    "ExecuteTime": {
     "end_time": "2019-08-27T03:08:35.893077Z",
     "start_time": "2019-08-27T03:08:22.557759Z"
    }
   },
   "outputs": [
    {
     "name": "stdout",
     "output_type": "stream",
     "text": [
      "\n",
      "Please tell me your name:\n",
      "(Enter 'quit' to exit.)\n",
      "First name: He\n",
      "Last name: SZ\n",
      "\n",
      "Hello, He SZ!\n",
      "\n",
      "Please tell me your name:\n",
      "(Enter 'quit' to exit.)\n",
      "First name: quit\n"
     ]
    }
   ],
   "source": [
    "# 例子，while循环中调用自定义的函数\n",
    "def get_formatted_name(first_name, last_name):\n",
    "    full_name = first_name + ' ' + last_name\n",
    "    return full_name\n",
    "while True:\n",
    "    print(\"\\nPlease tell me your name:\")\n",
    "    print(\"(Enter 'quit' to exit.)\")\n",
    "    f_name = input(\"First name: \")\n",
    "    if f_name == 'quit':\n",
    "        break\n",
    "    l_name = input(\"Last name: \")\n",
    "    if l_name == 'quit':\n",
    "        break\n",
    "    formatted_name = get_formatted_name(f_name, l_name)\n",
    "    print(\"\\nHello, \" + formatted_name + \"!\")"
   ]
  },
  {
   "cell_type": "markdown",
   "metadata": {},
   "source": [
    "#### 8.4 传递列表"
   ]
  },
  {
   "cell_type": "code",
   "execution_count": 5,
   "metadata": {
    "ExecuteTime": {
     "end_time": "2019-08-27T07:36:10.980241Z",
     "start_time": "2019-08-27T07:36:10.969248Z"
    }
   },
   "outputs": [
    {
     "name": "stdout",
     "output_type": "stream",
     "text": [
      "Hello, Hannah!\n",
      "Hello, Ty!\n",
      "Hello, Margot!\n"
     ]
    }
   ],
   "source": [
    "def greet_users(names):\n",
    "    for name in names:\n",
    "        msg = \"Hello, \" + name.title() + \"!\"\n",
    "        print(msg)\n",
    "        \n",
    "usernames = ['hannah', 'ty', 'margot']\n",
    "greet_users(usernames)"
   ]
  },
  {
   "cell_type": "markdown",
   "metadata": {},
   "source": [
    "评注：将列表传递给函数后，函数就可对其进行修改。在函数中对这个列表所做的任何修改都是永久性的，这让你能够高效地处理大量的数据。 "
   ]
  },
  {
   "cell_type": "code",
   "execution_count": 6,
   "metadata": {
    "ExecuteTime": {
     "end_time": "2019-08-27T07:53:16.272116Z",
     "start_time": "2019-08-27T07:53:16.264120Z"
    }
   },
   "outputs": [
    {
     "name": "stdout",
     "output_type": "stream",
     "text": [
      "Printing model: dodecahedron\n",
      "Printing model: robot pendant\n",
      "Printing model: iphone case\n",
      "\n",
      "The following models have benn printed:\n",
      "dodecahedron\n",
      "robot pendant\n",
      "iphone case\n"
     ]
    }
   ],
   "source": [
    "# 示例：3D打印模型\n",
    "def print_models(unprinted_designs, completed_models):\n",
    "    \"\"\"模拟打印每个设计，直到没有未打印的设计为止\n",
    "    打印每个设计后，都将移到列表completed_models中\"\"\"\n",
    "    while unprinted_designs: # 只要列表不为空就为真\n",
    "        current_design = unprinted_designs.pop()\n",
    "        # 模拟根据设计制作3D打印模型的过程\n",
    "        print(\"Printing model: \" + current_design)\n",
    "        completed_models.append(current_design)\n",
    "def show_completed_models(completed_models):\n",
    "    \"\"\"显示打印好的所有模型\"\"\"\n",
    "    print(\"\\nThe following models have been printed:\")\n",
    "    for completed_model in completed_models:\n",
    "        print(completed_model)\n",
    "unprinted_designs = ['iphone case', 'robot pendant', 'dodecahedron']\n",
    "completed_models = []\n",
    "print_models(unprinted_designs, completed_models)\n",
    "show_completed_models(completed_models)"
   ]
  },
  {
   "cell_type": "markdown",
   "metadata": {},
   "source": [
    "评注：上述例子中体现了面向程序设计的编程思想。在上述例子中，程序对原来的未打印列表直接进行了修改，程序结束后该列表为空。如何还需要查看原列表的信息，就需要对上述程序进行改进。如，可以先创建未打印列表的副本，然后将副本传递给函数体，这样原列表的信息就得以保存下来了。当然，这样做会花额外的时间和内存。"
   ]
  },
  {
   "cell_type": "code",
   "execution_count": 1,
   "metadata": {
    "ExecuteTime": {
     "end_time": "2019-08-28T03:25:09.420991Z",
     "start_time": "2019-08-28T03:25:09.336051Z"
    }
   },
   "outputs": [
    {
     "name": "stdout",
     "output_type": "stream",
     "text": [
      "\n",
      "Making a pizza with the following toppings: \n",
      "- pepperoni\n",
      "\n",
      "Making a pizza with the following toppings: \n",
      "- mushrooms\n",
      "- green peppers\n",
      "- extra cheese\n"
     ]
    }
   ],
   "source": [
    "# 传递任意数量的的实参\n",
    "\n",
    "def make_pizza(*toppings):\n",
    "    print(\"\\nMaking a pizza with the following toppings: \")\n",
    "    for topping in toppings:\n",
    "        print(\"- \" + topping)\n",
    "    \n",
    "make_pizza('pepperoni')\n",
    "make_pizza('mushrooms', 'green peppers', 'extra cheese')"
   ]
  },
  {
   "cell_type": "markdown",
   "metadata": {},
   "source": [
    "#### 8.6 将函数存储在模块中"
   ]
  },
  {
   "cell_type": "markdown",
   "metadata": {},
   "source": [
    "import module_name 可以导入整个模块。访问指定的变量或者函数需要使用module_name.function_name语句。  \n",
    "import module_name as mn 在导入模块时指定别名。  \n",
    "from modul_name import * 导入模块中所有的函数。可以直接通过函数名调用函数。  \n",
    "from module_name import function_name 可以导入模块中特定的函数。  \n",
    "from module_name import function_name as name 在导入特定函数时指定别名。\n"
   ]
  },
  {
   "cell_type": "markdown",
   "metadata": {},
   "source": [
    "#### 8.7 函数编写指南"
   ]
  },
  {
   "cell_type": "markdown",
   "metadata": {},
   "source": [
    "1.函数应该指定通俗易懂的描述性的名称。    \n",
    "2.函数应该包含简要阐述其功能的注释。  \n",
    "3.给形参指定默认值时，等号两边不要有空格。  \n",
    "4.在采用关键字实参的方法对函数进行调用时，等号两边也不能有空格。  \n",
    "5.如果没有在文件开头使用注释来描述整个程序，则所有import语句都应该放在文件的开头。  "
   ]
  },
  {
   "cell_type": "markdown",
   "metadata": {},
   "source": [
    "小结：函数是能够实现某个功能的代码段，在面向过程编程中具有重要的意义。在本章学习中，对函数的编写、参数传递以及调用进行简单的学习。还学习了如何将函数与列表、字典、if语句和while语句结合起来。最后还学习了如何导入模块以及函数。在函数编写时，还对一些约定俗成的规则进行了陈述。"
   ]
  },
  {
   "cell_type": "markdown",
   "metadata": {},
   "source": [
    "### 第九章 类"
   ]
  },
  {
   "cell_type": "markdown",
   "metadata": {},
   "source": [
    "面向对象编程是最有效的软件编写方法之一。在面对对象编程中，你编写表示现实世界中的事物和情景的类，某个类都具有通用的属性和行为，基于这些创建对象，这些对象也都具有通用的属性和行为。当然，也可以根据需要富裕每个对象独特的个性。使用面向对象编程可模拟显示情景，使得程序的执行过程更加符合人类的思维，这也是为什么面向对象编程如此有效的原因之一。"
   ]
  },
  {
   "cell_type": "markdown",
   "metadata": {},
   "source": [
    "#### 9.1 创建和使用类"
   ]
  },
  {
   "cell_type": "code",
   "execution_count": 2,
   "metadata": {
    "ExecuteTime": {
     "end_time": "2019-08-29T09:01:38.512750Z",
     "start_time": "2019-08-29T09:01:38.504757Z"
    }
   },
   "outputs": [],
   "source": [
    "# 创建Dog类\n",
    "class Dog(): # 类中的函数称为方法\n",
    "    \"\"\"一次模拟小狗的简单尝试\"\"\"\n",
    "    def __init__(self, name, age):\n",
    "        \"\"\"初始化属性\"\"\"\n",
    "        self.name = name\n",
    "        self.age = age\n",
    "    def sit(self):\n",
    "        \"\"\"模拟小狗被命令时蹲下\"\"\"\n",
    "        print(self.name.title() + \" is now siting.\")\n",
    "    def roll_over(self):\n",
    "        \"\"\"模拟小狗被命令时打滚\"\"\"\n",
    "        print(self.name.title() + \" rolled over!\")"
   ]
  },
  {
   "cell_type": "code",
   "execution_count": 4,
   "metadata": {
    "ExecuteTime": {
     "end_time": "2019-08-29T09:08:41.844194Z",
     "start_time": "2019-08-29T09:08:41.837198Z"
    }
   },
   "outputs": [
    {
     "name": "stdout",
     "output_type": "stream",
     "text": [
      "My dog's name is While.\n",
      "My dog is 6 years old.\n",
      "While is now siting.\n",
      "While rolled over!\n"
     ]
    }
   ],
   "source": [
    "# 创建Dog类的实例\n",
    "my_dog = Dog('while', 6)\n",
    "# .运算访问属性\n",
    "print(\"My dog's name is \" + my_dog.name.title() + \".\")\n",
    "print(\"My dog is \" + str(my_dog.age) + \" years old.\")  # str()函数将数字转换为字符串。\n",
    "# .运算调用方法\n",
    "my_dog.sit()\n",
    "my_dog.roll_over()"
   ]
  },
  {
   "cell_type": "code",
   "execution_count": 5,
   "metadata": {
    "ExecuteTime": {
     "end_time": "2019-08-29T09:22:39.172183Z",
     "start_time": "2019-08-29T09:22:39.165173Z"
    }
   },
   "outputs": [
    {
     "name": "stdout",
     "output_type": "stream",
     "text": [
      "Your dog's name is Black.\n",
      "Your dog is 5 years old.\n"
     ]
    }
   ],
   "source": [
    "# 创建另一个Dog实例\n",
    "your_dog  = Dog('Black', 5)\n",
    "print(\"Your dog's name is \" + your_dog.name.title() + \".\")\n",
    "print(\"Your dog is \" + str(your_dog.age) + \" years old.\")  # str()函数将数字转换为字符串。"
   ]
  },
  {
   "cell_type": "markdown",
   "metadata": {},
   "source": [
    "#### 9.2 使用类和实例"
   ]
  },
  {
   "cell_type": "code",
   "execution_count": 8,
   "metadata": {
    "ExecuteTime": {
     "end_time": "2019-08-29T13:35:20.864891Z",
     "start_time": "2019-08-29T13:35:20.843902Z"
    }
   },
   "outputs": [
    {
     "name": "stdout",
     "output_type": "stream",
     "text": [
      "2016 Audi A4\n",
      "Thie car has 0 mile on it.\n"
     ]
    }
   ],
   "source": [
    "# 创建Car类\n",
    "class Car():\n",
    "    \"\"\"一次模拟汽车的尝试\"\"\"\n",
    "    def __init__(self, make, model, year):\n",
    "        self.make = make\n",
    "        self.model = model\n",
    "        self.year = year\n",
    "        self.odometer_reading = 0\n",
    "        \n",
    "    def get_descriptive_name(self):\n",
    "        \"\"\"返回整洁的描述性信息\"\"\"\n",
    "        long_name = str(self.year) + \" \" + self.make + \" \" + self.model\n",
    "        return long_name.title()\n",
    "    def read_odometer(self):\n",
    "        \"\"\"打印一条指出汽车里程的消息\"\"\"\n",
    "        print(\"Thie car has \" + str(self.odometer_reading) + \" mile on it.\")\n",
    "\n",
    "new_car = Car(\"audi\", \"a4\", 2016)\n",
    "print(new_car.get_descriptive_name())\n",
    "new_car.read_odometer()"
   ]
  },
  {
   "cell_type": "markdown",
   "metadata": {},
   "source": [
    "修改对象属性的方法"
   ]
  },
  {
   "cell_type": "code",
   "execution_count": 9,
   "metadata": {
    "ExecuteTime": {
     "end_time": "2019-08-29T13:36:32.029924Z",
     "start_time": "2019-08-29T13:36:32.023929Z"
    }
   },
   "outputs": [
    {
     "name": "stdout",
     "output_type": "stream",
     "text": [
      "2016 Audi A4\n",
      "Thie car has 23 mile on it.\n"
     ]
    }
   ],
   "source": [
    "# 1.直接修改属性的值：\n",
    "new_car_1 = Car('audi', 'a4', 2016)\n",
    "print(new_car_1.get_descriptive_name())\n",
    "\n",
    "new_car.odometer_reading = 23\n",
    "new_car.read_odometer()"
   ]
  },
  {
   "cell_type": "code",
   "execution_count": 12,
   "metadata": {
    "ExecuteTime": {
     "end_time": "2019-08-29T13:44:05.197385Z",
     "start_time": "2019-08-29T13:44:05.183394Z"
    }
   },
   "outputs": [
    {
     "name": "stdout",
     "output_type": "stream",
     "text": [
      "2016 Audi A4\n",
      "Thie car has 23 mile on it.\n"
     ]
    }
   ],
   "source": [
    "# 2.通过类方法对类属性进行更新\n",
    "# 创建Car类\n",
    "class Car():\n",
    "    \"\"\"一次模拟汽车的尝试\"\"\"\n",
    "    def __init__(self, make, model, year):\n",
    "        self.make = make\n",
    "        self.model = model\n",
    "        self.year = year\n",
    "        self.odometer_reading = 0\n",
    "        \n",
    "    def get_descriptive_name(self):\n",
    "        \"\"\"返回整洁的描述性信息\"\"\"\n",
    "        long_name = str(self.year) + \" \" + self.make + \" \" + self.model\n",
    "        return long_name.title()\n",
    "    def read_odometer(self):\n",
    "        \"\"\"打印一条指出汽车里程的消息\"\"\"\n",
    "        print(\"Thie car has \" + str(self.odometer_reading) + \" mile on it.\")\n",
    "    def updata_odometer(self, mileage):\n",
    "        \"\"\"将里程表读数设置为指定的值\"\"\"\n",
    "        self.odometer_reading = mileage\n",
    "\n",
    "new_car = Car(\"audi\", \"a4\", 2016)\n",
    "print(new_car.get_descriptive_name())\n",
    "new_car.updata_odometer(23)\n",
    "new_car.read_odometer()"
   ]
  },
  {
   "cell_type": "code",
   "execution_count": 13,
   "metadata": {
    "ExecuteTime": {
     "end_time": "2019-08-29T13:55:02.692882Z",
     "start_time": "2019-08-29T13:55:02.677892Z"
    }
   },
   "outputs": [
    {
     "name": "stdout",
     "output_type": "stream",
     "text": [
      "2013 Subaru Outback\n",
      "Thie car has 23500 mile on it.\n",
      "Thie car has 23600 mile on it.\n"
     ]
    }
   ],
   "source": [
    "# 3.通过方法对属性值进行递增\n",
    "class Car():\n",
    "    \"\"\"一次模拟汽车的尝试\"\"\"\n",
    "    def __init__(self, make, model, year):\n",
    "        self.make = make\n",
    "        self.model = model\n",
    "        self.year = year\n",
    "        self.odometer_reading = 0\n",
    "        \n",
    "    def get_descriptive_name(self):\n",
    "        \"\"\"返回整洁的描述性信息\"\"\"\n",
    "        long_name = str(self.year) + \" \" + self.make + \" \" + self.model\n",
    "        return long_name.title()\n",
    "    def read_odometer(self):\n",
    "        \"\"\"打印一条指出汽车里程的消息\"\"\"\n",
    "        print(\"Thie car has \" + str(self.odometer_reading) + \" mile on it.\")\n",
    "    def updata_odometer(self, mileage):\n",
    "        \"\"\"将里程表读数设置为指定的值\"\"\"\n",
    "        self.odometer_reading = mileage\n",
    "    def increment_odometer(self, miles):\n",
    "        \"\"\"将里程表读数增加指定的量\"\"\"\n",
    "        self.odometer_reading += miles\n",
    "\n",
    "my_used_car = Car(\"subaru\", \"outback\",2013)\n",
    "print(my_used_car.get_descriptive_name())\n",
    "\n",
    "my_used_car.updata_odometer(23500)\n",
    "my_used_car.read_odometer()\n",
    "\n",
    "my_used_car.increment_odometer(100)\n",
    "my_used_car.read_odometer()"
   ]
  },
  {
   "cell_type": "markdown",
   "metadata": {},
   "source": [
    "#### 9.3 继承"
   ]
  },
  {
   "cell_type": "code",
   "execution_count": 2,
   "metadata": {
    "ExecuteTime": {
     "end_time": "2019-08-31T02:02:44.691963Z",
     "start_time": "2019-08-31T02:02:44.678972Z"
    }
   },
   "outputs": [
    {
     "name": "stdout",
     "output_type": "stream",
     "text": [
      "2016 Tesla Model S\n",
      "This car has a 70 -KWh battery.\n"
     ]
    }
   ],
   "source": [
    "# 汽车类\n",
    "class Car():\n",
    "    \"\"\"一次模拟汽车的尝试\"\"\"\n",
    "    def __init__(self, make, model, year):\n",
    "        self.make = make\n",
    "        self.model = model\n",
    "        self.year = year\n",
    "        self.odometer_reading = 0\n",
    "        \n",
    "    def get_descriptive_name(self):\n",
    "        \"\"\"返回整洁的描述性信息\"\"\"\n",
    "        long_name = str(self.year) + \" \" + self.make + \" \" + self.model\n",
    "        return long_name.title()\n",
    "    def read_odometer(self):\n",
    "        \"\"\"打印一条指出汽车里程的消息\"\"\"\n",
    "        print(\"Thie car has \" + str(self.odometer_reading) + \" mile on it.\")\n",
    "    def updata_odometer(self, mileage):\n",
    "        \"\"\"将里程表读数设置为指定的值\"\"\"\n",
    "        self.odometer_reading = mileage\n",
    "    def increment_odometer(self, miles):\n",
    "        \"\"\"将里程表读数增加指定的量\"\"\"\n",
    "        self.odometer_reading += miles\n",
    "\n",
    "class ElectricCar(Car): # 继承Car类\n",
    "    \"\"\"一次模拟汽车的简单尝试\"\"\"\n",
    "    def __init__(self, make, model, year):\n",
    "        \"\"\"初始化父类的属性\"\"\"\n",
    "        super().__init__(make, model, year)  # 调用父类的初始化函数\n",
    "        self.battery_size = 70\n",
    "    def describe_battery(self):\n",
    "        \"\"\"打印一条描述电瓶容量的消息\"\"\"\n",
    "        print(\"This car has a \" + str(self.battery_size) + \" -KWh battery.\")\n",
    "\n",
    "my_tesla = ElectricCar(\"tesla\", \"model s\", 2016)\n",
    "print(my_tesla.get_descriptive_name())\n",
    "my_tesla.describe_battery()"
   ]
  },
  {
   "cell_type": "code",
   "execution_count": 4,
   "metadata": {
    "ExecuteTime": {
     "end_time": "2019-08-31T02:03:03.465598Z",
     "start_time": "2019-08-31T02:03:03.455604Z"
    }
   },
   "outputs": [
    {
     "name": "stdout",
     "output_type": "stream",
     "text": [
      "This car doesn't need a gas tank!\n"
     ]
    }
   ],
   "source": [
    "# 重写父类的方法\n",
    "class ElectricCar(Car): # 继承Car类\n",
    "    \"\"\"一次模拟汽车的简单尝试\"\"\"\n",
    "    def __init__(self, make, model, year):\n",
    "        \"\"\"初始化父类的属性\"\"\"\n",
    "        super().__init__(make, model, year)  # 调用父类的初始化函数\n",
    "        self.battery_size = 70\n",
    "    def describe_battery(self):\n",
    "        \"\"\"打印一条描述电瓶容量的消息\"\"\"\n",
    "        print(\"This car has a \" + str(self.battery_size) + \" -KWh battery.\")\n",
    "    \n",
    "    def fill_gas_tank(self):\n",
    "        \"\"\"电动汽车没有油箱\"\"\"\n",
    "        print(\"This car doesn't need a gas tank!\")\n",
    "\n",
    "elec = ElectricCar(\"Tesla\", \"Model S\", 2016)\n",
    "elec.fill_gas_tank()"
   ]
  },
  {
   "cell_type": "code",
   "execution_count": 5,
   "metadata": {
    "ExecuteTime": {
     "end_time": "2019-08-31T02:15:41.976212Z",
     "start_time": "2019-08-31T02:15:41.965233Z"
    }
   },
   "outputs": [
    {
     "name": "stdout",
     "output_type": "stream",
     "text": [
      "2016 Tesla Model S\n",
      "This car has a 70 -KWh battery.\n"
     ]
    }
   ],
   "source": [
    "# 将类对象用作另一个类的属性\n",
    "class Battery():\n",
    "    \"\"\"一次模拟 电动汽车电瓶的简单尝试\"\"\"\n",
    "    def __init__(self, battery_size=70):\n",
    "        \"\"\"初始化电瓶的属性\"\"\"\n",
    "        self.battery_size = battery_size\n",
    "    def describe_battery(self):\n",
    "        \"\"\"打印一条描述电瓶容量的消息\"\"\"\n",
    "        print(\"This car has a \" + str(self.battery_size) + \" -KWh battery.\")\n",
    "        \n",
    "class ElectricCar(Car):\n",
    "    \"\"\"电动汽车的独特之处\"\"\"\n",
    "    \n",
    "    def __init__(self, make, model, year):\n",
    "        \"\"\"初始化父类的属性，再初始化电动汽车特有的属性\"\"\"\n",
    "        super().__init__(make, model, year)\n",
    "        self.battery = Battery()\n",
    "        \n",
    "my_tesla = ElectricCar(\"tesla\", \"model s\", 2016)\n",
    "print(my_tesla.get_descriptive_name())\n",
    "my_tesla.battery.describe_battery()"
   ]
  },
  {
   "cell_type": "markdown",
   "metadata": {},
   "source": [
    "评注：在上述的例子中，定义了Battery类，然后将整个类用作ElectricCar的属性，这做的好处是可以保证代码的简洁性，但相应的需要多做出一些工作。"
   ]
  },
  {
   "cell_type": "markdown",
   "metadata": {},
   "source": [
    "#### 9.4 导入类"
   ]
  },
  {
   "cell_type": "markdown",
   "metadata": {},
   "source": [
    "Python允许将类存储在模块中，然后在主程序导入所需的模块。这样做的好处是可以让代码更加简洁有序。也可以将不同的类存储在不同的模块(一个模块是一个py文件)中，或者将需要互相调用的类存储在相同的类中。"
   ]
  },
  {
   "cell_type": "markdown",
   "metadata": {},
   "source": [
    "在组织大型项目代码时，可以先在一个文件中完成所有工作，然后再将一些类或者函数移到独立的模块中。如果喜欢模块化的编程方式，也可以从一开始就将类放在独立的模块中，然后在主程序里将所有类组织起来。"
   ]
  },
  {
   "cell_type": "markdown",
   "metadata": {},
   "source": [
    "#### 9.5 Python标准库"
   ]
  },
  {
   "cell_type": "markdown",
   "metadata": {},
   "source": [
    "1.模块collections中的OrderedDict类。"
   ]
  },
  {
   "cell_type": "markdown",
   "metadata": {},
   "source": [
    "字典能将提示信息和数据关联起来，但是字典不记录添加键值对的顺序。OrderedDict实例的各种操作与字典相同，唯一的区别在于记录了键值对的添加顺序。"
   ]
  },
  {
   "cell_type": "code",
   "execution_count": 6,
   "metadata": {
    "ExecuteTime": {
     "end_time": "2019-09-01T12:50:35.909794Z",
     "start_time": "2019-09-01T12:50:35.899799Z"
    }
   },
   "outputs": [
    {
     "name": "stdout",
     "output_type": "stream",
     "text": [
      "Jen's favorite language is Python.\n",
      "Sarah's favorite language is C.\n",
      "Edward's favorite language is Ruby.\n",
      "Phil's favorite language is Python.\n"
     ]
    }
   ],
   "source": [
    "from collections import OrderedDict\n",
    "\n",
    "favorite_languages = OrderedDict() # 创建空的OrderedDict实例\n",
    "\n",
    "favorite_languages[\"jen\"] = \"python\"\n",
    "favorite_languages[\"sarah\"] = \"C\"\n",
    "favorite_languages[\"edward\"] = \"ruby\"\n",
    "favorite_languages[\"phil\"] = \"python\"\n",
    "\n",
    "for name, language in favorite_languages.items():\n",
    "    print(name.title() + \"'s favorite language is \" + language.title() + \".\")"
   ]
  },
  {
   "cell_type": "markdown",
   "metadata": {},
   "source": [
    "#### 9.6 类编码风格"
   ]
  },
  {
   "cell_type": "markdown",
   "metadata": {},
   "source": [
    "熟悉一些与类相关的编码风格有助于让你的程序更加清晰易读。 \n",
    "  \n",
    "  \n",
    "1.类名的定义采用驼峰命名法，即将类名中的每个单词的首字母都大写，而不在任何位置使用下划线。实例名和模块名都采用小写的格式。    \n",
    "2.在每个类的初始化方法上面都应该有一个文档字符串，简要描述类的功能，并且要遵循编写函数的文档字符串时采用的格式约定。  \n",
    "3.使用空行来分割代码。在类中使用一空行来分割方法，在模块中使用两个空行来分割类。  \n",
    "4.在导入语句之间，可以先导入标准库中的模块，然后再导入自己定义的模块。  "
   ]
  },
  {
   "cell_type": "markdown",
   "metadata": {},
   "source": [
    "小结：本章的学习围绕着类展开，分别对类的定义，类属性和类方法的使用进行学习，在此基础上还学习了类的继承以及类方法的重写。在最后还对模块的组织方式以及类的编码风格进行了介绍。类是模拟现实世界的重要编程手段，对于再现真实场景的构成具有重要意义，值得我们深入地去学习。"
   ]
  }
 ],
 "metadata": {
  "kernelspec": {
   "display_name": "Python 3",
   "language": "python",
   "name": "python3"
  },
  "language_info": {
   "codemirror_mode": {
    "name": "ipython",
    "version": 3
   },
   "file_extension": ".py",
   "mimetype": "text/x-python",
   "name": "python",
   "nbconvert_exporter": "python",
   "pygments_lexer": "ipython3",
   "version": "3.6.8"
  },
  "varInspector": {
   "cols": {
    "lenName": 16,
    "lenType": 16,
    "lenVar": 40
   },
   "kernels_config": {
    "python": {
     "delete_cmd_postfix": "",
     "delete_cmd_prefix": "del ",
     "library": "var_list.py",
     "varRefreshCmd": "print(var_dic_list())"
    },
    "r": {
     "delete_cmd_postfix": ") ",
     "delete_cmd_prefix": "rm(",
     "library": "var_list.r",
     "varRefreshCmd": "cat(var_dic_list()) "
    }
   },
   "types_to_exclude": [
    "module",
    "function",
    "builtin_function_or_method",
    "instance",
    "_Feature"
   ],
   "window_display": false
  }
 },
 "nbformat": 4,
 "nbformat_minor": 2
}
