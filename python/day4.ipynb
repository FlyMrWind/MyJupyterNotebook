{
 "cells": [
  {
   "cell_type": "markdown",
   "metadata": {},
   "source": [
    "### 第10章 文件和异常"
   ]
  },
  {
   "cell_type": "markdown",
   "metadata": {},
   "source": [
    "在前面的学习中已经掌握了编程所需的基本技能，本章主要讲述的是Python的文件处理机制和异常处理机制，这些内容有助于提高程序的适用性和稳定性。"
   ]
  },
  {
   "cell_type": "markdown",
   "metadata": {},
   "source": [
    "#### 10.1 从文件中读取数据"
   ]
  },
  {
   "cell_type": "code",
   "execution_count": 8,
   "metadata": {
    "ExecuteTime": {
     "end_time": "2019-09-02T02:03:19.906565Z",
     "start_time": "2019-09-02T02:03:19.898568Z"
    }
   },
   "outputs": [
    {
     "name": "stdout",
     "output_type": "stream",
     "text": [
      "3.1415926535\n",
      "  8979323846\n",
      "  2643383279\n"
     ]
    }
   ],
   "source": [
    "# 1.全部读取文本文件\n",
    "with open(\"pi_digits.txt\") as file_object: # open()函数返回文件对象\n",
    "    contents = file_object.read() # read()函数读取文件的全部内容，把它作为一个字符串赋给contents\n",
    "    print(contents.rstrip()) # 删除末尾的空白"
   ]
  },
  {
   "cell_type": "markdown",
   "metadata": {},
   "source": [
    "评注：open()函数接受文件的路径，返回一个表示文件的对象。with结构把文件的关闭时间交给系统来决定，在不再需要访问文件后会将其关闭。也可以采用open()和close()的组合来打开和关闭文件。但是有些时候并不能确切知道文件关闭的最佳时间，过早关闭文件反而会导致一些难以预料的错误。"
   ]
  },
  {
   "cell_type": "markdown",
   "metadata": {},
   "source": [
    "文件路径：将类似于上述例子中的简单文件路径传递给函数open()时，python将在当前执行的py文件所在的目录中查找文件，此时传递的文件地址称为相对文件路径。如果文件不在当前执行的py文件所在目录程序就会报错，完美解决该问题的办法是将文件的绝对路径传递给open()函数，即文件所在的计算机的具体路径，这样做的好处是不需要考虑当前执行的py文件存储在哪里。注意：windows系统的路径分隔符是反斜杠“\\”。"
   ]
  },
  {
   "cell_type": "code",
   "execution_count": 12,
   "metadata": {
    "ExecuteTime": {
     "end_time": "2019-09-02T02:08:13.805403Z",
     "start_time": "2019-09-02T02:08:13.796407Z"
    }
   },
   "outputs": [
    {
     "name": "stdout",
     "output_type": "stream",
     "text": [
      "3.1415926535\n",
      "  8979323846\n",
      "  2643383279\n"
     ]
    }
   ],
   "source": [
    "# 2.逐行读取文本文件\n",
    "filename = \"pi_digits.txt\"\n",
    "\n",
    "with open(filename) as file_object:\n",
    "    for line in file_object:\n",
    "        print(line.rstrip()) \n",
    "# print()语句默认有一个换行符，并且读取文件时每一行都有一个换行符，故需要用rstrip()函数去掉换行符，让输出变得更加紧凑。"
   ]
  },
  {
   "cell_type": "code",
   "execution_count": 17,
   "metadata": {
    "ExecuteTime": {
     "end_time": "2019-09-02T02:17:41.783679Z",
     "start_time": "2019-09-02T02:17:41.776681Z"
    }
   },
   "outputs": [
    {
     "name": "stdout",
     "output_type": "stream",
     "text": [
      "3.1415926535\n",
      "  8979323846\n",
      "  2643383279\n"
     ]
    }
   ],
   "source": [
    "# readlines()逐行读取文件内容，并且将其存储在列表中\n",
    "filename = \"pi_digits.txt\"\n",
    "\n",
    "with open(filename) as file_object:\n",
    "    lines = file_object.readlines()\n",
    "    \n",
    "for line in lines:\n",
    "    print(line.rstrip())"
   ]
  },
  {
   "cell_type": "code",
   "execution_count": 18,
   "metadata": {
    "ExecuteTime": {
     "end_time": "2019-09-02T02:29:23.646769Z",
     "start_time": "2019-09-02T02:29:23.639772Z"
    }
   },
   "outputs": [
    {
     "name": "stdout",
     "output_type": "stream",
     "text": [
      "3.1415926535  8979323846  2643383279\n",
      "36\n"
     ]
    }
   ],
   "source": [
    "filename = \"pi_digits.txt\"\n",
    "\n",
    "with open(filename) as file_object:\n",
    "    lines = file_object.readlines()\n",
    "\n",
    "pi_string = ''\n",
    "for line in lines:\n",
    "    pi_string += line.rstrip()\n",
    "    \n",
    "print(pi_string)\n",
    "print(len(pi_string))"
   ]
  },
  {
   "cell_type": "code",
   "execution_count": 20,
   "metadata": {
    "ExecuteTime": {
     "end_time": "2019-09-02T02:35:46.314438Z",
     "start_time": "2019-09-02T02:35:46.306444Z"
    }
   },
   "outputs": [
    {
     "name": "stdout",
     "output_type": "stream",
     "text": [
      "3.141592653589793238462643383279\n",
      "32\n"
     ]
    }
   ],
   "source": [
    "filename = \"pi_digits.txt\"\n",
    "\n",
    "with open(filename) as file_object:\n",
    "    lines = file_object.readlines()\n",
    "\n",
    "pi_string = \"\"\n",
    "for line in lines:\n",
    "    pi_string += line.strip()\n",
    "\n",
    "print(pi_string)\n",
    "print(len(pi_string))"
   ]
  },
  {
   "cell_type": "markdown",
   "metadata": {},
   "source": [
    "评注：读取文本文件时，Python将所有的文本都解读为字符串。如果读取的是数字，并且要作为数值来使用，则需要使用int()函数将其转换为整数，或使用函数float()将其转换为浮点数。"
   ]
  },
  {
   "cell_type": "code",
   "execution_count": 24,
   "metadata": {
    "ExecuteTime": {
     "end_time": "2019-09-02T03:07:13.653622Z",
     "start_time": "2019-09-02T03:07:09.623930Z"
    }
   },
   "outputs": [
    {
     "name": "stdout",
     "output_type": "stream",
     "text": [
      "Please enter your birthday: 110796\n",
      "Your birthday does't appear on the first million digits of pi.\n"
     ]
    }
   ],
   "source": [
    "filename = \"pi_million_digits.txt\"\n",
    "\n",
    "with open(filename) as file_object:\n",
    "    lines = file_object.readlines()\n",
    "\n",
    "pi_string = \"\"\n",
    "for line in lines:\n",
    "    pi_string += line.strip()\n",
    "\n",
    "birthday = input(\"Please enter your birthday: \")\n",
    "if  birthday in pi_string:\n",
    "    print(\"Congratulation!Your birthady appears in the first million digits of pi.\")\n",
    "else:\n",
    "    print(\"Your birthday does't appear on the first million digits of pi.\")"
   ]
  },
  {
   "cell_type": "markdown",
   "metadata": {},
   "source": [
    "评注：python可以处理任意大的数据，只需要你的内存足够。"
   ]
  },
  {
   "cell_type": "markdown",
   "metadata": {},
   "source": [
    "#### 10.2 写入文件"
   ]
  },
  {
   "cell_type": "markdown",
   "metadata": {},
   "source": [
    "保存数据的最简单的方式是将其写入到文件中，通过将输出写入文件，即便关闭包含程序输出的终端窗口，这些输出也依然存在，你可以在程序结束运行后查看这些输出，可与别人分享输出文件。"
   ]
  },
  {
   "cell_type": "code",
   "execution_count": 2,
   "metadata": {
    "ExecuteTime": {
     "end_time": "2019-09-03T07:23:13.472861Z",
     "start_time": "2019-09-03T07:23:13.455874Z"
    }
   },
   "outputs": [],
   "source": [
    "# 1.写入一行\n",
    "ilename = 'programming.txt'\n",
    "\n",
    "with open(filename, 'w') as file_object: # 'w'代表以写模式打开文件，省略模式参数系统将以只读模式打开文件\n",
    "    file_object.write(\"I love programming.\") # 文件对象的write()方法能够将字符串写入文件。"
   ]
  },
  {
   "cell_type": "markdown",
   "metadata": {},
   "source": [
    "评注：在使用open()函数打开文件时，可以指定文件的读取模式('r')、写入模式('w')、附加模式('a')或让你能够读取和写入文件的模式('r+')。如果省略了模式参数，则Python将以默认的只读模式打开文件。值得注意的是，使用'w'模式打开文件时，如果指定的文件不存在则Python会自动创建新的文件，如果文件已经存在则程序会先清空该文件。"
   ]
  },
  {
   "cell_type": "markdown",
   "metadata": {},
   "source": [
    "主页：Python只能讲字符串写入文本文件，要将数值数据存储到文本文件中，必须先试用函数str()将其转换为字符串格式。"
   ]
  },
  {
   "cell_type": "code",
   "execution_count": 6,
   "metadata": {
    "ExecuteTime": {
     "end_time": "2019-09-03T07:48:38.978000Z",
     "start_time": "2019-09-03T07:48:38.971004Z"
    }
   },
   "outputs": [],
   "source": [
    "filename = 'programming.txt'\n",
    "\n",
    "with open(filename, 'w') as file_object:\n",
    "    file_object.write(\"I love programming.\\n\")\n",
    "    file_object.write(\"I love creating new games.\\n\")"
   ]
  },
  {
   "cell_type": "markdown",
   "metadata": {},
   "source": [
    "评注：write()函数不会再写入的文本末尾添加换行符，因此如果你写入多行时没有指定换行符，文件最后的数据组织形式就不是你想要的结果。如果想要得到每一句末尾换行的效果，需要手动添加换行符。"
   ]
  },
  {
   "cell_type": "code",
   "execution_count": 7,
   "metadata": {
    "ExecuteTime": {
     "end_time": "2019-09-03T07:48:53.797458Z",
     "start_time": "2019-09-03T07:48:53.791461Z"
    }
   },
   "outputs": [],
   "source": [
    "# 3.将新的内容添加到文件中\n",
    "filename = 'programming.txt'\n",
    "\n",
    "with open(filename, 'a') as file_object:\n",
    "    file_object.write(\"I also love finding meaning in large datasets.\\n\")\n",
    "    file_object.write(\"I love ctreating apps that can run in a browser.\\n\")\n",
    "    "
   ]
  },
  {
   "cell_type": "markdown",
   "metadata": {},
   "source": [
    "#### 10.3 异常"
   ]
  },
  {
   "cell_type": "markdown",
   "metadata": {},
   "source": [
    "Python使用异常这种特殊对象来管理程序执行期间发生的错误。每当发生让Python不知所措的错误时，它都会创建一个异常对象。如果你编写了处理该异常的代码，程序将继续运行。如果你未对异常进行处理，程序将会停止，并显示一个traceback(回溯)，其中包含着有关异常的报告。"
   ]
  },
  {
   "cell_type": "code",
   "execution_count": 12,
   "metadata": {
    "ExecuteTime": {
     "end_time": "2019-09-03T08:57:10.559112Z",
     "start_time": "2019-09-03T08:57:10.554113Z"
    }
   },
   "outputs": [
    {
     "name": "stdout",
     "output_type": "stream",
     "text": [
      "You can't divide by zero!\n"
     ]
    }
   ],
   "source": [
    "# 1.使用try-except代码块处理ZeroDivisionError异常\n",
    "try:\n",
    "    print(5/0)\n",
    "except ZeroDivisionError:\n",
    "    print(\"You can't divide by zero!\")"
   ]
  },
  {
   "cell_type": "markdown",
   "metadata": {},
   "source": [
    "评注：try-except结构首先会执行try代码块，如果能够成功运行则会跳过except代码块。如果出现了错误，Python会查找except代码块，如果cxcept语句指定的错误类型与try代码块引发的错误一致，excep代码块就会被执行，否则直接返回错误的traceback(回溯)。try-except结构的好处是，即使程序产生了错误也不会直接终止程序的运行，只要能够正确捕捉到产生的错误类型，try-except后面的程序就可以继续执行。"
   ]
  },
  {
   "cell_type": "code",
   "execution_count": 15,
   "metadata": {
    "ExecuteTime": {
     "end_time": "2019-09-03T11:14:01.031303Z",
     "start_time": "2019-09-03T11:13:25.132844Z"
    }
   },
   "outputs": [
    {
     "name": "stdout",
     "output_type": "stream",
     "text": [
      "Give me two numbers, and I'll divide them.\n",
      "Enter 'q' to quit.\n",
      "\n",
      "First number: 2\n",
      "Second number: 0\n",
      "You can't divide by zero!\n",
      "\n",
      "First number: 2\n",
      "Second number: 1\n",
      "2.0\n",
      "\n",
      "First number: q\n"
     ]
    }
   ],
   "source": [
    "print(\"Give me two numbers, and I'll divide them.\")\n",
    "print(\"Enter 'q' to quit.\")\n",
    "\n",
    "while True:\n",
    "    first_number = input(\"\\nFirst number: \")\n",
    "    if first_number == 'q':\n",
    "        break\n",
    "    second_number = input(\"Second number: \")\n",
    "    if second_number == 'q':\n",
    "        break\n",
    "    try:\n",
    "        answer = int(first_number) / int(second_number)\n",
    "    except ZeroDivisionError:\n",
    "        print(\"You can't divide by zero!\")\n",
    "    else:\n",
    "        print(answer)"
   ]
  },
  {
   "cell_type": "markdown",
   "metadata": {},
   "source": [
    "评注：Python尝试执行try代码块中的袋代码；只有可能引发异常的代码才需要放在try语句中。有时候，有一些仅在try代码块成功执行时才需要运行的代码；这些代码应放在else代码块中。except代码块告诉Python，如果它尝试运行try代码块中的代码时引发了指定的异常该怎么办。"
   ]
  },
  {
   "cell_type": "code",
   "execution_count": 16,
   "metadata": {
    "ExecuteTime": {
     "end_time": "2019-09-03T11:38:43.296910Z",
     "start_time": "2019-09-03T11:38:43.290912Z"
    }
   },
   "outputs": [
    {
     "name": "stdout",
     "output_type": "stream",
     "text": [
      "Sorry, the file alien.txt does not exist.\n"
     ]
    }
   ],
   "source": [
    "# 2.处理FileNotFoundError异常\n",
    "filename = 'alien.txt'\n",
    "try:\n",
    "    with open(filename) as f_obj:\n",
    "        contents = f_obj.read()\n",
    "except FileNotFoundError:\n",
    "    msg = \"Sorry, the file \" + filename + \" does not exist.\"\n",
    "    print(msg)"
   ]
  },
  {
   "cell_type": "code",
   "execution_count": 22,
   "metadata": {
    "ExecuteTime": {
     "end_time": "2019-09-03T11:47:03.585810Z",
     "start_time": "2019-09-03T11:47:03.578816Z"
    }
   },
   "outputs": [
    {
     "data": {
      "text/plain": [
       "['Alice', 'in', 'Wonderland']"
      ]
     },
     "execution_count": 22,
     "metadata": {},
     "output_type": "execute_result"
    }
   ],
   "source": [
    "# 3.分析文本\n",
    "title = 'Alice in Wonderland'\n",
    "title.split()"
   ]
  },
  {
   "cell_type": "markdown",
   "metadata": {},
   "source": [
    "评注：方法split()以空格为分隔符将字符串分拆成多个部分并将这些部分都存储到一个列表中。得到的结果是一个包含字符串中所有单词的列表，虽然有些单词会包含标点符号。"
   ]
  },
  {
   "cell_type": "code",
   "execution_count": 23,
   "metadata": {
    "ExecuteTime": {
     "end_time": "2019-09-03T12:09:57.708039Z",
     "start_time": "2019-09-03T12:09:57.660065Z"
    }
   },
   "outputs": [
    {
     "name": "stdout",
     "output_type": "stream",
     "text": [
      "The file alice.txt has about 23953 words.\n"
     ]
    }
   ],
   "source": [
    "filename = 'alice.txt'\n",
    "\n",
    "try:\n",
    "    with open(filename) as f_obj: # 以默认的只读模式打开文件\n",
    "        contents = f_obj.read()   # read()函数将文本文件的内容读取为长字符串\n",
    "except FileNotFoundError:\n",
    "    msg = \"Sorry, the file \" + filename + \" dose not exist.\"\n",
    "    print(msg)\n",
    "# try代码块成功执行后，即文件被成功带开户，else代码块才会被执行\n",
    "else:\n",
    "    # 计算文件大致包含多少个单词\n",
    "    words = contents.split()\n",
    "    num_words = len(words)\n",
    "    print(\"The file \" + filename + \" has about \" + str(num_words) + \" words.\")"
   ]
  },
  {
   "cell_type": "code",
   "execution_count": 25,
   "metadata": {
    "ExecuteTime": {
     "end_time": "2019-09-03T12:16:19.711452Z",
     "start_time": "2019-09-03T12:16:19.690465Z"
    }
   },
   "outputs": [
    {
     "name": "stdout",
     "output_type": "stream",
     "text": [
      "The file alice.txt has about 23953 words.\n"
     ]
    }
   ],
   "source": [
    "# 处理多个文件，方便起见，先将上面的代码组织成函数\n",
    "def count_words(filename):\n",
    "    \"\"\"计算一个文件大致包含多少个单词\"\"\"\n",
    "    try:\n",
    "        with open(filename) as f_obj:\n",
    "            contents = f_obj.read()\n",
    "    except FileNotFoundError:\n",
    "        msg = \"Sorry, the file \" + filename + \" dose not exist.\"\n",
    "        print(msg)\n",
    "    else:\n",
    "        # 计算文件大致包含多少个单词\n",
    "        words = contents.split()\n",
    "        num_words = len(words)\n",
    "        print(\"The file \" + filename + \" has about \" + str(num_words) + \" words.\")\n",
    "filename = 'alice.txt'\n",
    "count_words(filename)"
   ]
  },
  {
   "cell_type": "code",
   "execution_count": 27,
   "metadata": {
    "ExecuteTime": {
     "end_time": "2019-09-03T12:19:37.180469Z",
     "start_time": "2019-09-03T12:19:37.162466Z"
    }
   },
   "outputs": [
    {
     "name": "stdout",
     "output_type": "stream",
     "text": [
      "The file alice.txt has about 23953 words.\n",
      "Sorry, the file moby_dict.txt dose not exist.\n",
      "The file alice.txt has about 23953 words.\n"
     ]
    }
   ],
   "source": [
    "filenames = ['alice.txt', 'moby_dict.txt', 'alice.txt']\n",
    "for filename in filenames:\n",
    "    count_words(filename)"
   ]
  },
  {
   "cell_type": "markdown",
   "metadata": {},
   "source": [
    "评注：在上述的代码中，假想了一个不存在的moby_dict.txt文件。可以发现Python在捕获到FileNotFoundError后执行了except代码块，程序并没有被该错误中断。如果想让代码在捕捉到FileNotFoundError后什么也不做的话，可以把except后的代码块替换为pass语句，提醒Python此处不做任何工作。pass语句还可以充当占位符，方便以后添加代码。程序开发者应该弄清楚，什么时候应该向用户反馈错误信息，什么时候应该隐藏。"
   ]
  },
  {
   "cell_type": "markdown",
   "metadata": {},
   "source": [
    "#### 10.4 存储数据"
   ]
  },
  {
   "cell_type": "markdown",
   "metadata": {},
   "source": [
    "程序把用户提供的信息存储在列表和字典等数据结构中，用户关闭程序前，你需要保存他们提供的信息，否则数据就会丢失。一种简单的方式就是使用模块json来存储数据。"
   ]
  },
  {
   "cell_type": "markdown",
   "metadata": {},
   "source": [
    "Json格式是为了JavaScript开发的，但是后来成为了一种常见的数据格式，被包括Python在内的众多语言采用。"
   ]
  },
  {
   "cell_type": "code",
   "execution_count": 3,
   "metadata": {
    "ExecuteTime": {
     "end_time": "2019-09-07T02:36:51.738389Z",
     "start_time": "2019-09-07T02:36:51.730392Z"
    }
   },
   "outputs": [],
   "source": [
    "# 1.使用json.dump()和json.load()\n",
    "# json.dump()接受两个参数：要存储的数据以及可用于存储数据的文件对象。\n",
    "import json\n",
    "\n",
    "numbers = [2 ,3, 5, 7, 11, 13]\n",
    "filename = 'numbers.json'\n",
    "with open(filename, 'w') as f_obj: # 以'w'模式打开文件，文件不存时会自动创建一个新的文件，文件已经存在时会被清空\n",
    "    json.dump(numbers, f_obj) # 两个参数：存储的数据；文件对象"
   ]
  },
  {
   "cell_type": "code",
   "execution_count": 10,
   "metadata": {
    "ExecuteTime": {
     "end_time": "2019-09-07T02:53:18.010141Z",
     "start_time": "2019-09-07T02:53:18.003146Z"
    }
   },
   "outputs": [
    {
     "name": "stdout",
     "output_type": "stream",
     "text": [
      "<class 'list'>\n",
      "[2, 3, 5, 7, 11, 13]\n"
     ]
    }
   ],
   "source": [
    "# json.load()接收文件对象\n",
    "import json \n",
    "\n",
    "filename = 'numbers.json'\n",
    "with open(filename) as f_obj:\n",
    "    numbers = json.load(f_obj)\n",
    "    print(type(numbers))\n",
    "print(numbers)"
   ]
  },
  {
   "cell_type": "markdown",
   "metadata": {},
   "source": [
    "评注：从json文件中恢复数据时，得到的数据类型与写入时一致。"
   ]
  },
  {
   "cell_type": "code",
   "execution_count": 14,
   "metadata": {
    "ExecuteTime": {
     "end_time": "2019-09-07T03:23:10.818544Z",
     "start_time": "2019-09-07T03:23:06.353108Z"
    }
   },
   "outputs": [
    {
     "name": "stdout",
     "output_type": "stream",
     "text": [
      "What is your name? Hesz\n",
      "We'll remember you when you come back, Hesz!\n"
     ]
    }
   ],
   "source": [
    "# 2.保存和读取用户生成的数据\n",
    "import json\n",
    "\n",
    "username = input(\"What is your name? \")\n",
    "\n",
    "filename = 'username.json'\n",
    "with open(filename, 'w') as f_obj:\n",
    "    json.dump(username, f_obj)\n",
    "    print(\"We'll remember you when you come back, \" + username + \"!\")"
   ]
  },
  {
   "cell_type": "code",
   "execution_count": 15,
   "metadata": {
    "ExecuteTime": {
     "end_time": "2019-09-07T03:23:12.820573Z",
     "start_time": "2019-09-07T03:23:12.812577Z"
    }
   },
   "outputs": [
    {
     "name": "stdout",
     "output_type": "stream",
     "text": [
      "<class 'str'>\n",
      "Welcome back, Hesz!\n"
     ]
    }
   ],
   "source": [
    "import json\n",
    "filename = 'username.json'\n",
    "\n",
    "with open(filename) as f_obj:\n",
    "    username = json.load(f_obj)\n",
    "    print(type(username))\n",
    "    print(\"Welcome back, \" + username + \"!\")"
   ]
  },
  {
   "cell_type": "code",
   "execution_count": 17,
   "metadata": {
    "ExecuteTime": {
     "end_time": "2019-09-07T03:28:35.592830Z",
     "start_time": "2019-09-07T03:28:35.584818Z"
    }
   },
   "outputs": [
    {
     "name": "stdout",
     "output_type": "stream",
     "text": [
      "Welcome back, Hesz!\n"
     ]
    }
   ],
   "source": [
    "import json\n",
    "\n",
    "# 如果以前存储了用户名，就加载它\n",
    "# 否则，就提示用户输入用户名并存储它\n",
    "filename = 'username.json'\n",
    "try:\n",
    "    with open(filename) as f_obj:\n",
    "        username = json.load(f_obj)\n",
    "except FileNotFoundError:\n",
    "    username = input(\"What is your name?\")\n",
    "    with open(filename, 'w') as f_obj:\n",
    "        json,dump(username, f_obj)\n",
    "        print(\"We'll remenber you when you come back, \" + username + \"!\")\n",
    "else:\n",
    "    print(\"Welcome back, \" + username + \"!\")\n"
   ]
  },
  {
   "cell_type": "code",
   "execution_count": 18,
   "metadata": {
    "ExecuteTime": {
     "end_time": "2019-09-07T03:34:37.809000Z",
     "start_time": "2019-09-07T03:34:37.757029Z"
    }
   },
   "outputs": [
    {
     "name": "stdout",
     "output_type": "stream",
     "text": [
      "Welcome back, Hesz!\n"
     ]
    }
   ],
   "source": [
    "# 3. 函数重构\n",
    "import json\n",
    "\n",
    "def greet_user():\n",
    "    '''问候用户，并指出姓名'''\n",
    "    filename = 'username.json'\n",
    "    try:\n",
    "        with open(filename) as f_obj:\n",
    "            username = json.load(f_obj)\n",
    "    except FileNotFoundError:\n",
    "        username = input(\"What is your name?\")\n",
    "        with open(filename, 'w') as f_obj:\n",
    "            json,dump(username, f_obj)\n",
    "            print(\"We'll remenber you when you come back, \" + username + \"!\")\n",
    "    else:\n",
    "        print(\"Welcome back, \" + username + \"!\")\n",
    "\n",
    "greet_user()"
   ]
  },
  {
   "cell_type": "code",
   "execution_count": 20,
   "metadata": {
    "ExecuteTime": {
     "end_time": "2019-09-07T03:49:21.049274Z",
     "start_time": "2019-09-07T03:49:21.038274Z"
    }
   },
   "outputs": [
    {
     "name": "stdout",
     "output_type": "stream",
     "text": [
      "Welcome back, Hesz!\n"
     ]
    }
   ],
   "source": [
    "import json\n",
    "\n",
    "def get_stored_username():\n",
    "    '''如果存储了用户名，就获取它'''\n",
    "    filename = 'username.json'\n",
    "    try:\n",
    "        with open(filename) as f_obj:\n",
    "            username = json.load(f_obj)\n",
    "    except FileNotFoundError:\n",
    "        return None\n",
    "    else:\n",
    "        return username\n",
    "\n",
    "def greet_user():\n",
    "    '''问候用户，并指出其姓名'''\n",
    "    username = get_stored_username()\n",
    "    if username:\n",
    "        print(\"Welcome back, \" + username + \"!\")\n",
    "    else:\n",
    "        username = input(\"What is your name? \")\n",
    "        filename = 'username.json'\n",
    "        with open(filename, 'w') as f_obj:\n",
    "            json.dump(username, f_obj)\n",
    "            print(\"We'll remember you when you come back, \" + username + \"!\")\n",
    "            \n",
    "greet_user()"
   ]
  },
  {
   "cell_type": "markdown",
   "metadata": {},
   "source": [
    "小结：我们在本章中学习了如何一次性读取整个文件，以及如何以每次一行的方法读取文件；如何写入文件，以及如何将文本附加到文件末尾；什么是异常以及如何处理程序可能引发的异常；如何利用json模块来存储Python数据结构。"
   ]
  },
  {
   "cell_type": "markdown",
   "metadata": {},
   "source": [
    "### 第11章 测试代码"
   ]
  },
  {
   "cell_type": "markdown",
   "metadata": {},
   "source": [
    "在本章中，你将学习如何使用Python模块unittest中的工具来测试代码。你将学习编写测试用例，核实一系列的输入都能得到预期的输出。"
   ]
  },
  {
   "cell_type": "markdown",
   "metadata": {},
   "source": [
    "#### 11.1 测试函数"
   ]
  },
  {
   "cell_type": "code",
   "execution_count": 21,
   "metadata": {
    "ExecuteTime": {
     "end_time": "2019-09-08T07:38:30.945796Z",
     "start_time": "2019-09-08T07:38:30.395789Z"
    }
   },
   "outputs": [],
   "source": [
    "def get_formatted_name(first, last):\n",
    "    '''Generation a neatly formatted full name.'''\n",
    "    full_name = first + ' ' + last\n",
    "    return full_name.title()"
   ]
  },
  {
   "cell_type": "code",
   "execution_count": 26,
   "metadata": {
    "ExecuteTime": {
     "end_time": "2019-09-08T08:00:46.207832Z",
     "start_time": "2019-09-08T08:00:17.890097Z"
    }
   },
   "outputs": [
    {
     "name": "stdout",
     "output_type": "stream",
     "text": [
      "Enter 'q' to quit at any time.\n",
      "\n",
      "Please give me a first name: janis\n",
      "\n",
      "Please give me a last name: joplin\n",
      "\tNeatly formatted name: Janis Joplin.\n",
      "\n",
      "Please give me a first name: q\n"
     ]
    }
   ],
   "source": [
    "print(\"Enter 'q' to quit at any time.\")\n",
    "while True:\n",
    "    first = input(\"\\nPlease give me a first name: \")\n",
    "    if first == 'q':\n",
    "        break\n",
    "    last = input(\"\\nPlease give me a last name: \")\n",
    "    if last == 'q':\n",
    "        break\n",
    "        \n",
    "    formatted_name = get_formatted_name(first, last)\n",
    "    print(\"\\tNeatly formatted name: \" + formatted_name + '.')"
   ]
  },
  {
   "cell_type": "code",
   "execution_count": 28,
   "metadata": {
    "ExecuteTime": {
     "end_time": "2019-09-08T08:06:13.318012Z",
     "start_time": "2019-09-08T08:06:13.304021Z"
    }
   },
   "outputs": [
    {
     "name": "stderr",
     "output_type": "stream",
     "text": [
      "E\n",
      "======================================================================\n",
      "ERROR: C:\\Users\\hsz\\AppData\\Roaming\\jupyter\\runtime\\kernel-597b0807-e2f9-4860-a48d-8a9e9c442b91 (unittest.loader._FailedTest)\n",
      "----------------------------------------------------------------------\n",
      "AttributeError: module '__main__' has no attribute 'C:\\Users\\hsz\\AppData\\Roaming\\jupyter\\runtime\\kernel-597b0807-e2f9-4860-a48d-8a9e9c442b91'\n",
      "\n",
      "----------------------------------------------------------------------\n",
      "Ran 1 test in 0.002s\n",
      "\n",
      "FAILED (errors=1)\n"
     ]
    },
    {
     "ename": "SystemExit",
     "evalue": "True",
     "output_type": "error",
     "traceback": [
      "An exception has occurred, use %tb to see the full traceback.\n",
      "\u001b[1;31mSystemExit\u001b[0m\u001b[1;31m:\u001b[0m True\n"
     ]
    },
    {
     "name": "stderr",
     "output_type": "stream",
     "text": [
      "c:\\users\\hsz\\appdata\\local\\programs\\python\\python36\\lib\\site-packages\\IPython\\core\\interactiveshell.py:3304: UserWarning: To exit: use 'exit', 'quit', or Ctrl-D.\n",
      "  warn(\"To exit: use 'exit', 'quit', or Ctrl-D.\", stacklevel=1)\n"
     ]
    }
   ],
   "source": [
    "'''unittest模块提供了代码测试工具，用于核实函数的某个方面没有问题，\n",
    "   测试用例是一组单元测试，这些单元测试一起核实函数在各种情形下的行为都符合要求。'''\n",
    "import unittest\n",
    "\n",
    "class NamesTestCase(unittest.TestCase):\n",
    "    '''测试代码'''\n",
    "    def test_first_last_name(self):\n",
    "        '''能够正确处理两个单词的姓名吗？'''\n",
    "        formatted_name = get_formatted_name('janis', 'joplin')\n",
    "        self.assertEqual(formatted_name, 'Janis Joplin') # 核实函数的输出是否和预期的输出一致\n",
    "\n",
    "unittest.main()"
   ]
  },
  {
   "cell_type": "code",
   "execution_count": 30,
   "metadata": {
    "ExecuteTime": {
     "end_time": "2019-09-08T08:56:35.715489Z",
     "start_time": "2019-09-08T08:56:35.693504Z"
    }
   },
   "outputs": [
    {
     "name": "stderr",
     "output_type": "stream",
     "text": [
      "E\n",
      "======================================================================\n",
      "ERROR: C:\\Users\\hsz\\AppData\\Roaming\\jupyter\\runtime\\kernel-597b0807-e2f9-4860-a48d-8a9e9c442b91 (unittest.loader._FailedTest)\n",
      "----------------------------------------------------------------------\n",
      "AttributeError: module '__main__' has no attribute 'C:\\Users\\hsz\\AppData\\Roaming\\jupyter\\runtime\\kernel-597b0807-e2f9-4860-a48d-8a9e9c442b91'\n",
      "\n",
      "----------------------------------------------------------------------\n",
      "Ran 1 test in 0.003s\n",
      "\n",
      "FAILED (errors=1)\n"
     ]
    },
    {
     "ename": "SystemExit",
     "evalue": "True",
     "output_type": "error",
     "traceback": [
      "An exception has occurred, use %tb to see the full traceback.\n",
      "\u001b[1;31mSystemExit\u001b[0m\u001b[1;31m:\u001b[0m True\n"
     ]
    },
    {
     "name": "stderr",
     "output_type": "stream",
     "text": [
      "c:\\users\\hsz\\appdata\\local\\programs\\python\\python36\\lib\\site-packages\\IPython\\core\\interactiveshell.py:3304: UserWarning: To exit: use 'exit', 'quit', or Ctrl-D.\n",
      "  warn(\"To exit: use 'exit', 'quit', or Ctrl-D.\", stacklevel=1)\n"
     ]
    }
   ],
   "source": [
    "# 添加新的测试\n",
    "import unittest\n",
    "\n",
    "class NamesTestCase(unittest.TestCase):\n",
    "    '''测试代码'''\n",
    "    def test_first_last_name(self):\n",
    "        '''能够正确处理两个单词的姓名吗？'''\n",
    "        formatted_name = get_formatted_name('janis', 'joplin')\n",
    "        self.assertEqual(formatted_name, 'Janis Joplin') # 核实函数的输出是否和预期的输出一致\n",
    "    \n",
    "    def test_first_middle_last_name(self):\n",
    "        '''能够正确处理三个单词的姓名吗？'''\n",
    "        formatted_name = get_formatted_name('wolfgang', 'mozart', 'amadeus' )\n",
    "        self.assertEqual(formatted_name, 'Wolfgang Amadeus Mozart')\n",
    "        \n",
    "unittest.main()"
   ]
  },
  {
   "cell_type": "markdown",
   "metadata": {},
   "source": [
    "### 11.2 测试类"
   ]
  },
  {
   "cell_type": "markdown",
   "metadata": {},
   "source": [
    "Python的unittest.TestCase类中提供了很多断言的方法。前面说过，断言方法检查你认为应该满足的条件是否确实满足，如果满足则程序正确运行，如果不满足则Python将引发异常。值得注意的是，只能在继承了unittest.TeseCase()的类中使用这些断言方法方法。"
   ]
  },
  {
   "cell_type": "raw",
   "metadata": {},
   "source": [
    "assertEqual(a, b)         核实a == b\n",
    "assertNotEqual(a, b)      核实a != b\n",
    "assertTrue(x)             核实x为True\n",
    "assertFalse(x)            核实x为False\n",
    "assertIn(item, list)      核实item在list中\n",
    "assertNotIn(item, list)   核实item不在list中"
   ]
  },
  {
   "cell_type": "markdown",
   "metadata": {},
   "source": [
    "对类的测试与对函数的测试是类似的，在对类的测试中，大部分工作都是测试类中方法的行为，但存在一些不同之处。"
   ]
  },
  {
   "cell_type": "markdown",
   "metadata": {},
   "source": [
    "##### 方法setUp()"
   ]
  },
  {
   "cell_type": "markdown",
   "metadata": {},
   "source": [
    "unittest.TestCase类包含方法setUp()，让我们只需创建这些对象一次，并在每一个测试方法中使用它们。在TestCase类中包含方法setUp()，Python将先运行它，再运行各个以test_打头的方法。这样，在你编写的每个测试方法中都可以使用方法setUp()中创建的对象。"
   ]
  },
  {
   "cell_type": "markdown",
   "metadata": {},
   "source": [
    "小结：在本章的学习中，我们学会了如何使用unittest模块工具来为函数和类编写测试代码；如何编写继承unittest.TestCase的类以及如何编写测试方法，以核实函数和类的行为符合预期。还学习了如何使用方法setUp()来根据类高效地创建实例并设置其属性，以便在类的所有测试方法中使用它们。"
   ]
  }
 ],
 "metadata": {
  "kernelspec": {
   "display_name": "Python 3",
   "language": "python",
   "name": "python3"
  },
  "language_info": {
   "codemirror_mode": {
    "name": "ipython",
    "version": 3
   },
   "file_extension": ".py",
   "mimetype": "text/x-python",
   "name": "python",
   "nbconvert_exporter": "python",
   "pygments_lexer": "ipython3",
   "version": "3.6.8"
  },
  "varInspector": {
   "cols": {
    "lenName": 16,
    "lenType": 16,
    "lenVar": 40
   },
   "kernels_config": {
    "python": {
     "delete_cmd_postfix": "",
     "delete_cmd_prefix": "del ",
     "library": "var_list.py",
     "varRefreshCmd": "print(var_dic_list())"
    },
    "r": {
     "delete_cmd_postfix": ") ",
     "delete_cmd_prefix": "rm(",
     "library": "var_list.r",
     "varRefreshCmd": "cat(var_dic_list()) "
    }
   },
   "types_to_exclude": [
    "module",
    "function",
    "builtin_function_or_method",
    "instance",
    "_Feature"
   ],
   "window_display": false
  }
 },
 "nbformat": 4,
 "nbformat_minor": 2
}
