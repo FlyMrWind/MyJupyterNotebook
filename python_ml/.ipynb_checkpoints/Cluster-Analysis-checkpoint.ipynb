{
 "cells": [
  {
   "cell_type": "markdown",
   "metadata": {},
   "source": [
    "### 一、使用k-means算法对相似对象进行分组"
   ]
  },
  {
   "cell_type": "markdown",
   "metadata": {},
   "source": [
    "在聚类算法的实际应用中，我们没有任何关于这些样本的类别基础信息；否则算法就要划分到监督学习的范畴了。由此，我们的目标就是根据样本自身特征的相似性对其进行分组，对此可采用k-means算法，具体有如下四个步骤：  \n",
    "(1)从样本点中随机选择k个点作为初始簇中心。  \n",
    "(2)将每个样本点划分到距离它最近的中心点$\\mu^{(j)}, \\mathrm{j} \\in\\{1, \\ldots, \\mathrm{k}\\}$所代表的簇中。  \n",
    "(3)用各簇中所有样本的中心点替代原有的中心点。  \n",
    "(4)重复步骤2和3，直到中心点不变或者达到预定迭代次数时，算法终止。  "
   ]
  },
  {
   "cell_type": "markdown",
   "metadata": {},
   "source": [
    "从上述过程可知，k-means聚类算法的关键是如何度量对象之间的相似性。可以用距离函数来度量对象之间的相似性，距离越小则相似性越大，反之则越小。在m维空间上，常常使用欧几里得距离的平方作为度量函数：  \n",
    "\n",
    "$$\n",
    "d(\\boldsymbol{x}, \\boldsymbol{y})^{2}=\\sum_{j=1}^{m}\\left(x_{j}-y_{j}\\right)^{2}=\\|\\boldsymbol{x}-\\boldsymbol{y}\\|_{2}^{2}\n",
    "$$\n",
    "\n",
    "在前面的公式中，下标索引j为样本点x和y的第j个维度(特征列)。"
   ]
  },
  {
   "cell_type": "markdown",
   "metadata": {},
   "source": [
    "基于欧几里得度量标准，我们可以将k-means算法描述为一个简单的优化问题，通过迭代使得簇内误差平方和(within-cluster sum of squared errors，SSE)最小，也称作簇惯性(cluster intertia)。  \n",
    "\n",
    "$$\n",
    "S S E=\\sum_{i=1}^{n} \\sum_{j=1}^{k} w^{(i, j)}=\\left\\|\\boldsymbol{x}^{(i)}-\\boldsymbol{\\mu}^{(j)}\\right\\|_{2}^{2}\n",
    "$$\n",
    "\n",
    "其中，μ(j)为簇j的中心点，如果样本x(i)属于簇j，则有w(i,j)＝1，否则w（i,j）＝0。"
   ]
  },
  {
   "cell_type": "markdown",
   "metadata": {},
   "source": [
    "#### 1.创建数据集"
   ]
  },
  {
   "cell_type": "code",
   "execution_count": 173,
   "metadata": {},
   "outputs": [
    {
     "data": {
      "image/png": "[encoded data removed]",
      "text/plain": [
       "<Figure size 432x288 with 1 Axes>"
      ]
     },
     "metadata": {
      "needs_background": "light"
     },
     "output_type": "display_data"
    }
   ],
   "source": [
    "from sklearn.datasets import make_blobs\n",
    "\n",
    "# 函数返回两个参数，第一个参数是点的二维坐标，第二个参数是类标。\n",
    "X, y = make_blobs(n_samples=150, n_features=2, centers=3, cluster_std=0.5, shuffle=True, random_state=0)\n",
    "\n",
    "\n",
    "import matplotlib.pyplot as plt\n",
    "plt.scatter(X[:, 0], X[:, 1], c='white',edgecolors='blue', marker='o', s=50)\n",
    "\n",
    "plt.grid()\n",
    "plt.show()"
   ]
  },
  {
   "cell_type": "markdown",
   "metadata": {},
   "source": [
    "#### 2.借助scikit-learn库中的KMeans类将k-means算法应用于我们的示例数据集："
   ]
  },
  {
   "cell_type": "code",
   "execution_count": 2,
   "metadata": {
    "scrolled": false
   },
   "outputs": [
    {
     "name": "stdout",
     "output_type": "stream",
     "text": [
      "cluster center points:\n",
      "[[ 0.9329651   4.35420712]\n",
      " [ 2.06521743  0.96137409]\n",
      " [-1.5947298   2.92236966]]\n"
     ]
    },
    {
     "data": {
      "image/png": "[encoded data removed]",
      "text/plain": [
       "<Figure size 504x360 with 1 Axes>"
      ]
     },
     "metadata": {
      "needs_background": "light"
     },
     "output_type": "display_data"
    }
   ],
   "source": [
    "from sklearn.cluster import KMeans\n",
    "\n",
    "km = KMeans(n_clusters=3, init='random', n_init=10, max_iter=300, tol=1e-04, random_state=0)\n",
    "\n",
    "y_km = km.fit_predict(X) # 返回簇的分类结果,是一个ndarray的一维数组，保存每一个数据的簇序号\n",
    "\n",
    "print('cluster center points:')\n",
    "print(km.cluster_centers_)\n",
    "\n",
    "plt.figure(figsize=(7, 5))\n",
    "plt.scatter(X[y_km==0, 0], X[y_km==0, 1], s=50, c='lightgreen', marker='s', label='cluster 1')\n",
    "plt.scatter(X[y_km==1, 0], X[y_km==1, 1], s=50, c='lightgray', marker='s', label='cluster 2')\n",
    "plt.scatter(X[y_km==2, 0], X[y_km==2, 1], s=50, c='lightblue', marker='s', label='cluster 3')\n",
    "plt.scatter(km.cluster_centers_[:, 0], km.cluster_centers_[:, 1], c='red',  marker='*',s=200, label='Center points')\n",
    "\n",
    "plt.legend(loc='lower left')\n",
    "plt.grid()\n",
    "plt.show()"
   ]
  },
  {
   "cell_type": "markdown",
   "metadata": {},
   "source": [
    "#### 3.k-means++算法"
   ]
  },
  {
   "cell_type": "markdown",
   "metadata": {},
   "source": [
    "经典的k-means算法，它使用**随机点作为初始中心点**，若初始中心点选择不当，有可能会导致簇效果不佳或产生收敛速度慢等问题。解决此问题的一种方案就是在数据集上多次运行k-means算法，并根据误差平方和(SSE)选择性能最好的模型。另一种方案就是使用**k-means++**算法让初始中心点彼此尽可能远离，相比传统k-means算法，它能够产生更好、更一致的结果。"
   ]
  },
  {
   "cell_type": "markdown",
   "metadata": {},
   "source": [
    "k-maens++算法比传统的k-menas算法多了一个计算中心点的步骤，可以总结为以下几步：  \n",
    "  \n",
    "  \n",
    "(1)初始化一个空的集合M，用于存储选定的k个中心点。  \n",
    "(2)从输入样本中随机选定第一个中心点μ(j)，并将其加入到集合M中。  \n",
    "(3)对于集合M之外的任一样本点x(i)，通过计算找到与中心点平方距离最短的样本$\\mathrm{d}\\left(\\mathrm{x}^{(\\mathrm{i})}, \\mathrm{M}\\right)^{2}$。  \n",
    "(4)使用加权概率分布$\\frac{d\\left(\\boldsymbol{\\mu}^{(p)}, \\mathbf{M}\\right)^{2}}{\\sum_{i} d\\left(\\boldsymbol{x}^{(i)}, \\mathbf{M}\\right)^{2}}$来随机选择下一个中心点μ(p)。  \n",
    "(5)重复步骤2、3，直到选定k个中心点。  \n",
    "(6)基于选定的中心点执行k-means算法。  "
   ]
  },
  {
   "cell_type": "markdown",
   "metadata": {},
   "source": [
    "k-means++算法在选取中心点时，遵循的原则是中心点之间的距离尽可能远。直接通过scikit-learn库的KMeans类即可实现此算法，只需要把init参数设为\"k-means++\"即可。"
   ]
  },
  {
   "cell_type": "markdown",
   "metadata": {},
   "source": [
    "#### 4.硬聚类和软聚类"
   ]
  },
  {
   "cell_type": "markdown",
   "metadata": {},
   "source": [
    "硬聚类(hard clustering)指的是数据集中每个样本只能划至一个簇的算法，例如我们在前面中讨论过的k-means算法。相反，软聚类(soft clustering)，有时也称作模糊聚类(fuzzy clustering)算法可以将一个样本划分到一个或者多个簇。"
   ]
  },
  {
   "cell_type": "markdown",
   "metadata": {},
   "source": [
    "一个常见的软聚类算法是模糊C-means(fuzzy C-means, FCM)算法。FCM的处理过程与k-means十分相似。但是，我们使用每个样本点隶属于各簇的概率来替代硬聚类的划分。在k-means中，我们使用二进制稀疏向量来表示各簇所含样本。在FCM中则使用属于某个簇的概率来组成隶属向量。\n",
    "\n",
    "$$\n",
    "\\left[\\begin{array}{l}{\\mu^{(1)} \\rightarrow 0.1} \\\\ {\\mu^{(2)} \\rightarrow 0.85} \\\\ {\\mu^{(3)} \\rightarrow 0.05}\\end{array}\\right]\n",
    "$$\n"
   ]
  },
  {
   "cell_type": "markdown",
   "metadata": {},
   "source": [
    "FCM算法可总结为以下四个步骤：  \n",
    "(1)指定k个中心点，并随机将每个样本点划分至某个簇。  \n",
    "(2)计算各簇中心$\\mu^{(j)}, j \\in\\{1, \\ldots, k\\}$。  \n",
    "(3)更新各样本点所属簇的成员隶属度(隶属向量)。  \n",
    "(4)重复步骤2、3，直到各样本点所属簇成员隶属度不变，或是达到用户自定义的容差阈值或最大迭代次数。"
   ]
  },
  {
   "cell_type": "markdown",
   "metadata": {},
   "source": [
    "FCM的目标函数如下式所示：\n",
    "\n",
    "$$\n",
    "J_{m}=\\sum_{i=1}^{n} \\sum_{j=1}^{k} w^{m(i, j)}\\left\\|\\boldsymbol{x}^{(i)}-\\boldsymbol{\\mu}^{(j)}\\right\\|_{2}^{2}, m \\in[1, \\infty]\n",
    "$$"
   ]
  },
  {
   "cell_type": "markdown",
   "metadata": {},
   "source": [
    "样本点属于某个簇的概率计算公式如下所示：  \n",
    "\n",
    "$$\n",
    "w^{(i, j)}=\\left[\\sum_{p=1}^{k}\\left(\\frac{\\left\\|\\boldsymbol{x}^{(i)}-\\boldsymbol{\\mu}^{(j)}\\right\\|_{2}}{\\left\\|\\boldsymbol{x}^{(i)}-\\boldsymbol{\\mu}^{(p)}\\right\\|_{2}}\\right)^{\\frac{2}{m-1}}\\right]^{-1}\n",
    "$$"
   ]
  },
  {
   "cell_type": "markdown",
   "metadata": {},
   "source": [
    "以样本属于特定簇的隶属度为权重，此簇中心μ(j)可以通过所有样本的加权均值计算得到：\n",
    "\n",
    "$$\n",
    "\\mu^{(j)}=\\frac{\\sum_{i=1}^{n} w^{m(i, j)} x^{(i)}}{\\sum_{i=1}^{n} w^{m(i, j)}}\n",
    "$$"
   ]
  },
  {
   "cell_type": "markdown",
   "metadata": {},
   "source": [
    "#### 4.使用肘方法确定簇的最佳数量"
   ]
  },
  {
   "cell_type": "markdown",
   "metadata": {},
   "source": [
    "由于没有数据集样本类标的确切数据，所以我们无法在无监督学习中使用评估监督学习模型性能的相关技术。为了对聚类效果进行定量分析，我们需要使用模型内部的固有度量来比较不同k-means聚类结果的性能，例如先前讨论过的**簇内误差平方和**(即聚类偏差)。"
   ]
  },
  {
   "cell_type": "code",
   "execution_count": 3,
   "metadata": {},
   "outputs": [
    {
     "name": "stdout",
     "output_type": "stream",
     "text": [
      "Distortion: 72.48\n"
     ]
    }
   ],
   "source": [
    "print('Distortion: %.2f' % km.inertia_)"
   ]
  },
  {
   "cell_type": "markdown",
   "metadata": {},
   "source": [
    "基于簇内误差平方和，我们可使用图形工具，即所谓的肘方法，针对给定任务估计出最优的簇数量k。直观地看，增加k的值可以降低聚类偏差。这是因为样本会更加接近其所在簇的中心点。肘方法的基本理念就是找出聚类偏差骤增时的k值，我们可以绘制出不同k值对应的聚类偏差图，以做更清晰的观察。"
   ]
  },
  {
   "cell_type": "code",
   "execution_count": 4,
   "metadata": {},
   "outputs": [
    {
     "data": {
      "image/png": "[encoded data removed]",
      "text/plain": [
       "<Figure size 432x288 with 1 Axes>"
      ]
     },
     "metadata": {
      "needs_background": "light"
     },
     "output_type": "display_data"
    }
   ],
   "source": [
    "distortions = []\n",
    "for i in range(1 ,11):\n",
    "    km = KMeans(n_clusters=i, init='k-means++', n_init=10, max_iter=300, random_state=0)\n",
    "    km.fit(X)\n",
    "    distortions.append(km.inertia_)\n",
    "plt.plot(range(1, 11), distortions, marker='o')\n",
    "plt.xlabel('Number of clusters')\n",
    "plt.ylabel('Distortion')\n",
    "plt.show()"
   ]
  },
  {
   "cell_type": "markdown",
   "metadata": {},
   "source": [
    "注：如上图所示，当k＝3时图案呈现了肘型，这表明对于此数据集来说，k＝3是聚类偏差骤增的k值，而此值就是簇的最佳数量。"
   ]
  },
  {
   "cell_type": "markdown",
   "metadata": {},
   "source": [
    "#### 5.通过轮廓图定量分析聚类质量"
   ]
  },
  {
   "cell_type": "markdown",
   "metadata": {},
   "source": [
    "轮廓分析(silhouette analysis)是另一种评估聚类质量的定量分析方法。轮廓分析可以使用一个图形工具来度量簇中样本聚集的密集程度。通过以下三个步骤，我们可以计算数据集中单个样本的轮廓系数。"
   ]
  },
  {
   "cell_type": "markdown",
   "metadata": {},
   "source": [
    "(1)将某一样本x(i)与簇内其他点之间的平均距离看作是簇的内聚度a(i)。  \n",
    "(2)将样本x(i)与其最近簇中所有点之间的平均距离看作是与下一最近簇的分离度b(i)。  \n",
    "(3)将簇分离度与簇内聚度之差除以二者中的较大者得到轮廓系数，如下式所示：  \n",
    "\n",
    "$$\n",
    "s^{(i)}=\\frac{b^{(i)}-a^{(i)}}{\\max \\left\\{b^{(i)}, a^{(i)}\\right\\}}\n",
    "$$"
   ]
  },
  {
   "cell_type": "markdown",
   "metadata": {},
   "source": [
    "轮廓系数的值介于-1到1之间。如果b(i) >> a(i)，我们可以近似得到一个值为1的理想的轮廓系数。"
   ]
  },
  {
   "cell_type": "markdown",
   "metadata": {},
   "source": [
    "轮廓系数可通过scikit-learn中metric模块下的silhouette_samples计算得到，也可选择使用silhouette_scores。后者计算所有样本点的轮廓系数均值，等价于numpy.mean(silhouette_samples(…))。"
   ]
  },
  {
   "cell_type": "code",
   "execution_count": 5,
   "metadata": {},
   "outputs": [
    {
     "data": {
      "image/png": "[encoded data removed]",
      "text/plain": [
       "<Figure size 432x288 with 1 Axes>"
      ]
     },
     "metadata": {
      "needs_background": "light"
     },
     "output_type": "display_data"
    }
   ],
   "source": [
    "km = KMeans(n_clusters=3, init='k-means++', n_init=10, max_iter=300, tol=1e-04, random_state=0)\n",
    "\n",
    "y_km = km.fit_predict(X)\n",
    "\n",
    "import numpy as np\n",
    "from matplotlib import cm\n",
    "from sklearn.metrics import silhouette_samples\n",
    "\n",
    "cluster_labels = np.unique(y_km)\n",
    "n_clusters = cluster_labels.shape[0]\n",
    "silhouette_vals = silhouette_samples(X, y_km, metric='euclidean')\n",
    "\n",
    "y_ax_lower, y_ax_upper = 0, 0\n",
    "yticks = []\n",
    "\n",
    "for i, c in enumerate(cluster_labels):\n",
    "    \n",
    "    c_silhouette_vals = silhouette_vals[y_km == c]\n",
    "    c_silhouette_vals.sort()\n",
    "    y_ax_upper += len(c_silhouette_vals)\n",
    "    color = cm.jet(i / n_clusters)\n",
    "    plt.barh(range(y_ax_lower, y_ax_upper), c_silhouette_vals, left=0, height=1.0, edgecolor='none', color=color)\n",
    "    yticks.append((y_ax_lower + y_ax_upper) / 2)\n",
    "    y_ax_lower += len(c_silhouette_vals)\n",
    "    \n",
    "silhouette_avg = np.mean(silhouette_vals)\n",
    "plt.axvline(silhouette_avg, color='red', linestyle='--')\n",
    "plt.yticks(yticks, cluster_labels + 1) # 设置轴的刻度，第一个参数是位置，第二个参数是刻度值\n",
    "plt.xlabel('Silhouette coefficient')\n",
    "plt.ylabel('Cluster')\n",
    "plt.show()"
   ]
  },
  {
   "cell_type": "markdown",
   "metadata": {},
   "source": [
    "由上图可见，轮廓系数未接近0点，此指标显示聚类效果不错。此外，为了评判聚类效果的优劣，我们在图中增加了轮廓系数的平均值（虚线）。\n",
    "\n",
    "为了解聚类效果不佳的轮廓图的形状，我们使用两个中心点来初始化k-means算法："
   ]
  },
  {
   "cell_type": "code",
   "execution_count": 6,
   "metadata": {},
   "outputs": [
    {
     "data": {
      "image/png": "[encoded data removed]",
      "text/plain": [
       "<Figure size 504x360 with 1 Axes>"
      ]
     },
     "metadata": {
      "needs_background": "light"
     },
     "output_type": "display_data"
    }
   ],
   "source": [
    "km = KMeans(n_clusters=2, init='k-means++', n_init=10, max_iter=300, tol=1e-04, random_state=0)\n",
    "y_km = km.fit_predict(X)\n",
    "\n",
    "plt.figure(figsize=(7, 5))\n",
    "plt.scatter(X[y_km==0, 0], X[y_km==0, 1], s=50, c='lightgreen', marker='s', label='cluster 1')\n",
    "plt.scatter(X[y_km==1, 0], X[y_km==1, 1], s=50, c='lightgray', marker='s', label='cluster 2')\n",
    "plt.scatter(X[y_km==2, 0], X[y_km==2, 1], s=50, c='lightblue', marker='s', label='cluster 3')\n",
    "plt.scatter(km.cluster_centers_[:, 0], km.cluster_centers_[:, 1], c='red',  marker='*',s=200, label='Center points')\n",
    "\n",
    "plt.legend(loc='lower left')\n",
    "plt.grid()\n",
    "plt.show()"
   ]
  },
  {
   "cell_type": "code",
   "execution_count": 7,
   "metadata": {},
   "outputs": [
    {
     "data": {
      "image/png": "[encoded data removed]",
      "text/plain": [
       "<Figure size 432x288 with 1 Axes>"
      ]
     },
     "metadata": {
      "needs_background": "light"
     },
     "output_type": "display_data"
    }
   ],
   "source": [
    "cluster_labels = np.unique(y_km)\n",
    "n_clusters = cluster_labels.shape[0]\n",
    "silhouette_vals = silhouette_samples(X, y_km, metric='euclidean')\n",
    "\n",
    "y_ax_lower, y_ax_upper = 0, 0\n",
    "yticks = []\n",
    "\n",
    "for i, c in enumerate(cluster_labels):\n",
    "    \n",
    "    c_silhouette_vals = silhouette_vals[y_km == c]\n",
    "    c_silhouette_vals.sort()\n",
    "    y_ax_upper += len(c_silhouette_vals)\n",
    "    color = cm.jet(i / n_clusters)\n",
    "    plt.barh(range(y_ax_lower, y_ax_upper), c_silhouette_vals, left=0, height=1.0, edgecolor='none', color=color)\n",
    "    yticks.append((y_ax_lower + y_ax_upper) / 2)\n",
    "    y_ax_lower += len(c_silhouette_vals)\n",
    "    \n",
    "silhouette_avg = np.mean(silhouette_vals)\n",
    "plt.axvline(silhouette_avg, color='red', linestyle='--')\n",
    "plt.yticks(yticks, cluster_labels + 1) # 设置轴的刻度，第一个参数是位置，第二个参数是刻度值\n",
    "plt.xlabel('Silhouette coefficient')\n",
    "plt.ylabel('Cluster')\n",
    "plt.show()"
   ]
  },
  {
   "cell_type": "markdown",
   "metadata": {},
   "source": [
    "#### 6.层次聚类"
   ]
  },
  {
   "cell_type": "markdown",
   "metadata": {},
   "source": [
    "将学习另一种基于原型的聚类：层次聚类（hierarchical clustering）。层次聚类算法的一个优势在于：它能够使我们绘制出树状图（dendrogram，基于二叉层次聚类的可视化），这有助于我们使用有意义的分类法解释聚类结果。**层次聚类的另一优势在于我们无需事先指定簇数量。**"
   ]
  },
  {
   "cell_type": "markdown",
   "metadata": {},
   "source": [
    "层次聚类有两种主要方法：凝聚(agglomerative)层次聚类和分裂(divisive)层次聚类。在分裂层次聚类中，我们首先把所有样本看作是在同一个簇中，然后迭代地将簇划分为更小的簇，直到每个簇只包含一个样本。本节我们将主要介绍凝聚层次聚类，它与分裂层次聚类相反，最初我们把每个样本都看作是一个单独的簇，重复地将最近的一对簇进行合并，直到所有的样本都在一个簇中为止。"
   ]
  },
  {
   "cell_type": "markdown",
   "metadata": {},
   "source": [
    "凝聚层次聚类中，判定簇间距离的两个标准方法分别是单连接（single linkage）和全连接（complete linkage）。我们可以使用单连接方法计算每一对簇中最相似两个样本的距离，并合并距离最近的两个样本所属簇。与之相反，全连接的方法是通过比较找到分布于两个簇中最不相似的样本（距离最远的样本），进而完成簇的合并。"
   ]
  },
  {
   "cell_type": "markdown",
   "metadata": {},
   "source": [
    "凝聚层次聚类中其他常用的算法还有平均连接和ward连接。以下内容**主要围绕着基于全连接方法的凝聚层次聚类展开**，其迭代过程可总结如下："
   ]
  },
  {
   "cell_type": "markdown",
   "metadata": {},
   "source": [
    "(1)计算得到所有样本间的距离矩阵。  \n",
    "(2)将每个数据点看作是一个单独的簇。  \n",
    "(3)基于最不相似(距离最远)样本的距离，合并两个最接近的簇。  \n",
    "(4)更新相似矩阵(样本间距离矩阵)。  \n",
    "(5)重复步骤2到4，直到所有样本都合并到一个簇。  "
   ]
  },
  {
   "cell_type": "markdown",
   "metadata": {},
   "source": [
    "以下代码讨论了如何计算距离矩阵。"
   ]
  },
  {
   "cell_type": "code",
   "execution_count": 177,
   "metadata": {},
   "outputs": [
    {
     "data": {
      "text/html": [
       "<div>\n",
       "<style scoped>\n",
       "    .dataframe tbody tr th:only-of-type {\n",
       "        vertical-align: middle;\n",
       "    }\n",
       "\n",
       "    .dataframe tbody tr th {\n",
       "        vertical-align: top;\n",
       "    }\n",
       "\n",
       "    .dataframe thead th {\n",
       "        text-align: right;\n",
       "    }\n",
       "</style>\n",
       "<table border=\"1\" class=\"dataframe\">\n",
       "  <thead>\n",
       "    <tr style=\"text-align: right;\">\n",
       "      <th></th>\n",
       "      <th>X</th>\n",
       "      <th>Y</th>\n",
       "      <th>Z</th>\n",
       "    </tr>\n",
       "  </thead>\n",
       "  <tbody>\n",
       "    <tr>\n",
       "      <th>ID_0</th>\n",
       "      <td>6.964692</td>\n",
       "      <td>2.861393</td>\n",
       "      <td>2.268515</td>\n",
       "    </tr>\n",
       "    <tr>\n",
       "      <th>ID_1</th>\n",
       "      <td>5.513148</td>\n",
       "      <td>7.194690</td>\n",
       "      <td>4.231065</td>\n",
       "    </tr>\n",
       "    <tr>\n",
       "      <th>ID_2</th>\n",
       "      <td>9.807642</td>\n",
       "      <td>6.848297</td>\n",
       "      <td>4.809319</td>\n",
       "    </tr>\n",
       "    <tr>\n",
       "      <th>ID_3</th>\n",
       "      <td>3.921175</td>\n",
       "      <td>3.431780</td>\n",
       "      <td>7.290497</td>\n",
       "    </tr>\n",
       "    <tr>\n",
       "      <th>ID_4</th>\n",
       "      <td>4.385722</td>\n",
       "      <td>0.596779</td>\n",
       "      <td>3.980443</td>\n",
       "    </tr>\n",
       "  </tbody>\n",
       "</table>\n",
       "</div>"
      ],
      "text/plain": [
       "             X         Y         Z\n",
       "ID_0  6.964692  2.861393  2.268515\n",
       "ID_1  5.513148  7.194690  4.231065\n",
       "ID_2  9.807642  6.848297  4.809319\n",
       "ID_3  3.921175  3.431780  7.290497\n",
       "ID_4  4.385722  0.596779  3.980443"
      ]
     },
     "execution_count": 177,
     "metadata": {},
     "output_type": "execute_result"
    }
   ],
   "source": [
    "# 生成数据\n",
    "import pandas as pd\n",
    "import numpy as np\n",
    "\n",
    "np.random.seed(123)\n",
    "variables = ['X', 'Y', 'Z']\n",
    "labels = ['ID_0', 'ID_1', 'ID_2', 'ID_3', 'ID_4']\n",
    "X = np.random.random_sample([5, 3])*10\n",
    "df = pd.DataFrame(X, columns=variables, index=labels)\n",
    "df"
   ]
  },
  {
   "cell_type": "markdown",
   "metadata": {},
   "source": [
    "使用SciPy库中spatial.distanct子模块下的pdist函数来计算距离矩阵，此矩阵作为层次聚类算法的输入："
   ]
  },
  {
   "cell_type": "code",
   "execution_count": 178,
   "metadata": {},
   "outputs": [
    {
     "name": "stdout",
     "output_type": "stream",
     "text": [
      "vector-form distance vector: \n",
      " [4.973534   5.51665266 5.89988504 3.83539555 4.34707339 5.10431109\n",
      " 6.69823298 7.24426159 8.31659367 4.382864  ]\n"
     ]
    },
    {
     "data": {
      "text/html": [
       "<div>\n",
       "<style scoped>\n",
       "    .dataframe tbody tr th:only-of-type {\n",
       "        vertical-align: middle;\n",
       "    }\n",
       "\n",
       "    .dataframe tbody tr th {\n",
       "        vertical-align: top;\n",
       "    }\n",
       "\n",
       "    .dataframe thead th {\n",
       "        text-align: right;\n",
       "    }\n",
       "</style>\n",
       "<table border=\"1\" class=\"dataframe\">\n",
       "  <thead>\n",
       "    <tr style=\"text-align: right;\">\n",
       "      <th></th>\n",
       "      <th>ID_0</th>\n",
       "      <th>ID_1</th>\n",
       "      <th>ID_2</th>\n",
       "      <th>ID_3</th>\n",
       "      <th>ID_4</th>\n",
       "    </tr>\n",
       "  </thead>\n",
       "  <tbody>\n",
       "    <tr>\n",
       "      <th>ID_0</th>\n",
       "      <td>0.000000</td>\n",
       "      <td>4.973534</td>\n",
       "      <td>5.516653</td>\n",
       "      <td>5.899885</td>\n",
       "      <td>3.835396</td>\n",
       "    </tr>\n",
       "    <tr>\n",
       "      <th>ID_1</th>\n",
       "      <td>4.973534</td>\n",
       "      <td>0.000000</td>\n",
       "      <td>4.347073</td>\n",
       "      <td>5.104311</td>\n",
       "      <td>6.698233</td>\n",
       "    </tr>\n",
       "    <tr>\n",
       "      <th>ID_2</th>\n",
       "      <td>5.516653</td>\n",
       "      <td>4.347073</td>\n",
       "      <td>0.000000</td>\n",
       "      <td>7.244262</td>\n",
       "      <td>8.316594</td>\n",
       "    </tr>\n",
       "    <tr>\n",
       "      <th>ID_3</th>\n",
       "      <td>5.899885</td>\n",
       "      <td>5.104311</td>\n",
       "      <td>7.244262</td>\n",
       "      <td>0.000000</td>\n",
       "      <td>4.382864</td>\n",
       "    </tr>\n",
       "    <tr>\n",
       "      <th>ID_4</th>\n",
       "      <td>3.835396</td>\n",
       "      <td>6.698233</td>\n",
       "      <td>8.316594</td>\n",
       "      <td>4.382864</td>\n",
       "      <td>0.000000</td>\n",
       "    </tr>\n",
       "  </tbody>\n",
       "</table>\n",
       "</div>"
      ],
      "text/plain": [
       "          ID_0      ID_1      ID_2      ID_3      ID_4\n",
       "ID_0  0.000000  4.973534  5.516653  5.899885  3.835396\n",
       "ID_1  4.973534  0.000000  4.347073  5.104311  6.698233\n",
       "ID_2  5.516653  4.347073  0.000000  7.244262  8.316594\n",
       "ID_3  5.899885  5.104311  7.244262  0.000000  4.382864\n",
       "ID_4  3.835396  6.698233  8.316594  4.382864  0.000000"
      ]
     },
     "execution_count": 178,
     "metadata": {},
     "output_type": "execute_result"
    }
   ],
   "source": [
    "from scipy.spatial.distance import pdist, squareform\n",
    "\n",
    "'''\n",
    "pdist函数得到两两样本之间的欧几里得距离(基于样本点的所有特征列)，得到是矢量的数据类型。\n",
    "squareform函数将这个矢量转换为矩阵形式，不对其值做任何改变。\n",
    "'''\n",
    "row_dist = pd.DataFrame(squareform(pdist(df, metric='euclidean')), columns=labels, index=labels)\n",
    "print('vector-form distance vector: \\n', pdist(df, metric='euclidean'))\n",
    "row_dist"
   ]
  },
  {
   "cell_type": "markdown",
   "metadata": {},
   "source": [
    "在上述代码中，我们基于样本的特征X、Y和Z，使用欧几里得距离计算了样本间的两两距离。通过将pdist函数的返回值输入到squareform函数中，我们得到了一个记录成对样本间距离的对称矩阵。"
   ]
  },
  {
   "cell_type": "markdown",
   "metadata": {},
   "source": [
    "下面我们使用SciPy中cluster.hierarchy子模块下的linkage函数，此函数以全连接作为距离判定标准，它能够返回一个所谓的关联矩阵(linkage matrix)。调用此函数需要注意输出数据的格式，该数据可以是pdist函数返回的距离矢量，或者是原始的数据(numpy ndarray格式的矩阵，数据大小为[n_samples, n_features])。<font color=red>**不能是上述squareform函数得到的距离矩阵。**</font>"
   ]
  },
  {
   "cell_type": "code",
   "execution_count": 179,
   "metadata": {},
   "outputs": [],
   "source": [
    "# 法一：使用pdist函数返回的距离矢量\n",
    "from scipy.cluster.hierarchy import linkage\n",
    "row_clusters = linkage(pdist(df, metric='euclidean'), method='complete')\n",
    "\n",
    "# 法二：以原始数据作为输入\n",
    "\n",
    "row_clusters_ = linkage(df.values, method='complete', metric='euclidean')\n"
   ]
  },
  {
   "cell_type": "code",
   "execution_count": 180,
   "metadata": {},
   "outputs": [
    {
     "data": {
      "text/html": [
       "<div>\n",
       "<style scoped>\n",
       "    .dataframe tbody tr th:only-of-type {\n",
       "        vertical-align: middle;\n",
       "    }\n",
       "\n",
       "    .dataframe tbody tr th {\n",
       "        vertical-align: top;\n",
       "    }\n",
       "\n",
       "    .dataframe thead th {\n",
       "        text-align: right;\n",
       "    }\n",
       "</style>\n",
       "<table border=\"1\" class=\"dataframe\">\n",
       "  <thead>\n",
       "    <tr style=\"text-align: right;\">\n",
       "      <th></th>\n",
       "      <th>row label 1</th>\n",
       "      <th>row label 2</th>\n",
       "      <th>distance</th>\n",
       "      <th>no. of items in clust.</th>\n",
       "    </tr>\n",
       "  </thead>\n",
       "  <tbody>\n",
       "    <tr>\n",
       "      <th>cluster 1</th>\n",
       "      <td>0.0</td>\n",
       "      <td>4.0</td>\n",
       "      <td>3.835396</td>\n",
       "      <td>2.0</td>\n",
       "    </tr>\n",
       "    <tr>\n",
       "      <th>cluster 2</th>\n",
       "      <td>1.0</td>\n",
       "      <td>2.0</td>\n",
       "      <td>4.347073</td>\n",
       "      <td>2.0</td>\n",
       "    </tr>\n",
       "    <tr>\n",
       "      <th>cluster 3</th>\n",
       "      <td>3.0</td>\n",
       "      <td>5.0</td>\n",
       "      <td>5.899885</td>\n",
       "      <td>3.0</td>\n",
       "    </tr>\n",
       "    <tr>\n",
       "      <th>cluster 4</th>\n",
       "      <td>6.0</td>\n",
       "      <td>7.0</td>\n",
       "      <td>8.316594</td>\n",
       "      <td>5.0</td>\n",
       "    </tr>\n",
       "  </tbody>\n",
       "</table>\n",
       "</div>"
      ],
      "text/plain": [
       "           row label 1  row label 2  distance  no. of items in clust.\n",
       "cluster 1          0.0          4.0  3.835396                     2.0\n",
       "cluster 2          1.0          2.0  4.347073                     2.0\n",
       "cluster 3          3.0          5.0  5.899885                     3.0\n",
       "cluster 4          6.0          7.0  8.316594                     5.0"
      ]
     },
     "execution_count": 180,
     "metadata": {},
     "output_type": "execute_result"
    }
   ],
   "source": [
    "pd.DataFrame(row_clusters, columns=['row label 1', 'row label 2', 'distance', 'no. of items in clust.'], \n",
    "             index=['cluster %d' % (i+1) for i in range(row_clusters.shape[0])])"
   ]
  },
  {
   "cell_type": "markdown",
   "metadata": {},
   "source": [
    "如上表所示，关联矩阵包含多行，每行代表一次簇的合并。矩阵的第一列和第二列分别表示每个簇中最不相似（距离最远）的样本，第三列为这些样本间的距离，最后一列为每个簇中样本的数量。"
   ]
  },
  {
   "cell_type": "markdown",
   "metadata": {},
   "source": [
    "下面采用树状图的形式对聚类结果进行可视化展示："
   ]
  },
  {
   "cell_type": "code",
   "execution_count": 181,
   "metadata": {},
   "outputs": [
    {
     "data": {
      "image/png": "[encoded data removed]",
      "text/plain": [
       "<Figure size 432x288 with 1 Axes>"
      ]
     },
     "metadata": {
      "needs_background": "light"
     },
     "output_type": "display_data"
    }
   ],
   "source": [
    "from scipy.cluster.hierarchy import dendrogram\n",
    "\n",
    "row_dendr = dendrogram(row_clusters, labels=labels)\n",
    "plt.tight_layout()\n",
    "plt.ylabel('Euclidean distance')\n",
    "plt.show()"
   ]
  },
  {
   "cell_type": "markdown",
   "metadata": {},
   "source": [
    "实际应用中，层次聚类的树状图通常与热度图（heat map）结合使用，这样我们可以使用不同的颜色来代表样本矩阵中的独立值。在本节中，我们讨论如何将树状图附加到热度图上，并同时显示在一行上。下面将逐步完成此项操作："
   ]
  },
  {
   "cell_type": "code",
   "execution_count": 182,
   "metadata": {},
   "outputs": [
    {
     "name": "stdout",
     "output_type": "stream",
     "text": [
      "[4, 0, 3, 2, 1]\n"
     ]
    },
    {
     "data": {
      "image/png": "[encoded data removed]",
      "text/plain": [
       "<Figure size 720x576 with 3 Axes>"
      ]
     },
     "metadata": {
      "needs_background": "light"
     },
     "output_type": "display_data"
    }
   ],
   "source": [
    "# 创建一个figure对象：\n",
    "fig = plt.figure(figsize=(10, 8))\n",
    "axd = fig.add_axes([0.09, 0.1, 0.2, 0.6])\n",
    "row_dendr = dendrogram(row_clusters, orientation='left')\n",
    "\n",
    "# 根据树状图对象中的簇类标重排原始DataFrame对象中的数据。\n",
    "print(row_dendr['leaves'][::-1])\n",
    "df_rowclust = df.iloc[row_dendr['leaves'][::-1]]\n",
    "# 基于重排后的原始数据，在树状图的右侧绘制热度图：\n",
    "axm = fig.add_axes([0.15, 0.1, 0.6, 0.6])\n",
    "cax = axm.matshow(df_rowclust.values, interpolation='nearest', cmap='hot_r')\n",
    "# 美化图形\n",
    "axd.set_xticks([]) # 删除坐标轴\n",
    "axd.set_yticks([])\n",
    "for i in axd.spines.values():\n",
    "    i.set_visible(False)\n",
    "fig.colorbar(cax)\n",
    "axm.set_xticklabels([''] + list(df_rowclust.columns))\n",
    "axm.set_yticklabels([''] + list(df_rowclust.index))\n",
    "plt.show()"
   ]
  },
  {
   "cell_type": "markdown",
   "metadata": {},
   "source": [
    "如上图所示，热度图中的行反映了树状图中样本聚类的情况。除了简单的树状图外，热度图中用颜色代表的各样本及其特征为我们提供了关于数据集的一个良好的概括。"
   ]
  },
  {
   "cell_type": "markdown",
   "metadata": {},
   "source": [
    "###### 通过scikit-learn进行凝聚聚类"
   ]
  },
  {
   "cell_type": "code",
   "execution_count": 183,
   "metadata": {},
   "outputs": [
    {
     "name": "stdout",
     "output_type": "stream",
     "text": [
      "Cluster labels: [0 1 1 0 0]\n"
     ]
    }
   ],
   "source": [
    "from sklearn.cluster import AgglomerativeClustering\n",
    "\n",
    "ac = AgglomerativeClustering(n_clusters=2, affinity='euclidean', linkage='complete')\n",
    "\n",
    "labels = ac.fit_predict(X) # 此函数会返回聚类的结果，返回的是每一个样本对应的簇序号\n",
    "\n",
    "print('Cluster labels: %s' % labels)"
   ]
  },
  {
   "cell_type": "markdown",
   "metadata": {},
   "source": [
    "#### 7.基于密度空间的聚类算法(Density-based Spatial Clustering of Applications with Noise，DBSCAN)"
   ]
  },
  {
   "cell_type": "markdown",
   "metadata": {},
   "source": [
    "在DBSCAN中，基于以下标准，每个样本点都被赋予一个特殊的标签：  \n",
    "如果在一个点周边的指定半径内，其他样本点的数量不小于指定数量(MinPts),则此样本点称为<font color=red>**核心点(core point)**</font>；在指定半径$\\varepsilon$内，如果一个点的邻居点少于MinPts个，但是却包含一个核心点，则此点称为<font color=red>**边界点(border point)**</font>；除了核心点和边界点外的其他样本点称为<font color=red>**噪声点(noise point)**</font>。"
   ]
  },
  {
   "cell_type": "markdown",
   "metadata": {},
   "source": [
    "在完成对核心点、边界点和噪声点的标记后，DBSCAN算法可总结为两个简单的步骤：  \n",
    "&emsp;&emsp;(1)基于每个核心点或者一组相连的核心点(如果核心点的距离很近，则将其看作是相连的)形成一个单独的簇。  \n",
    "&emsp;&emsp;(2)将每个边界点划分到相应的核心点所在的簇中。"
   ]
  },
  {
   "cell_type": "markdown",
   "metadata": {},
   "source": [
    "从以上过程可以看出，算法只对核心点和边界点进行迭代处理，并没有考虑噪声点。从图像上直观理解就是找到簇的核心以及边界来完成聚类。"
   ]
  },
  {
   "cell_type": "markdown",
   "metadata": {},
   "source": [
    "与k-means算法不同，DBSCAN的簇空间不一定是球状的，这也是此算法的优势之一。此外，不同于k-means和层次聚类，由于DBSCAN可以识别并移除噪声点，因此它不一定会将所有的样本点都划分到某一簇中。"
   ]
  },
  {
   "cell_type": "markdown",
   "metadata": {},
   "source": [
    "为了给出一个更能说明问题的例子，我们创建一个半月形结构的数据集，以对k-means聚类、层次聚类和DBSCAN聚类进行比较："
   ]
  },
  {
   "cell_type": "code",
   "execution_count": 166,
   "metadata": {},
   "outputs": [
    {
     "data": {
      "image/png": "[encoded data removed]",
      "text/plain": [
       "<Figure size 432x288 with 1 Axes>"
      ]
     },
     "metadata": {
      "needs_background": "light"
     },
     "output_type": "display_data"
    }
   ],
   "source": [
    "from sklearn.datasets import make_moons\n",
    "import matplotlib.pyplot as plt\n",
    "\n",
    "X, y = make_moons(n_samples=200, noise=0.05, random_state=0)\n",
    "plt.scatter(X[:, 0], X[:, 1])\n",
    "plt.show()"
   ]
  },
  {
   "cell_type": "code",
   "execution_count": 171,
   "metadata": {},
   "outputs": [
    {
     "data": {
      "image/png": "[encoded data removed]",
      "text/plain": [
       "<Figure size 576x216 with 2 Axes>"
      ]
     },
     "metadata": {
      "needs_background": "light"
     },
     "output_type": "display_data"
    }
   ],
   "source": [
    "f, [ax1, ax2] = plt.subplots(nrows=1, ncols=2, figsize=(8, 3))\n",
    "km = KMeans(n_clusters=2, random_state=0)\n",
    "y_km = km.fit_predict(X)\n",
    "ax1.scatter(X[y_km==0, 0], X[y_km==0, 1], c='lightblue', marker='o', s=40, label='cluster 1')\n",
    "ax1.scatter(X[y_km==1, 0], X[y_km==1, 1], c='red', marker='s', s=40, label='cluster 2')\n",
    "ax1.set_title('K-means clustering')\n",
    "\n",
    "\n",
    "ac = AgglomerativeClustering(n_clusters=2, affinity='euclidean', linkage='complete')\n",
    "y_ac = ac.fit_predict(X)\n",
    "ax2.scatter(X[y_ac==0, 0], X[y_ac==0, 1], c='lightblue', marker='o', s=40, label='cluster 1')\n",
    "ax2.scatter(X[y_ac==1, 0], X[y_ac==1, 1], c='red', marker='s', s=40, label='cluster 2')\n",
    "ax2.set_title('Agglomerative clustering')\n",
    "plt.legend()\n",
    "plt.show()"
   ]
  },
  {
   "cell_type": "markdown",
   "metadata": {},
   "source": [
    "从聚类结果图像可见，k-means算法以及基于全连接的层次聚类算法均无法将两个半月形的数据分开。"
   ]
  },
  {
   "cell_type": "code",
   "execution_count": 172,
   "metadata": {
    "scrolled": true
   },
   "outputs": [
    {
     "data": {
      "image/png": "[encoded data removed]",
      "text/plain": [
       "<Figure size 432x288 with 1 Axes>"
      ]
     },
     "metadata": {
      "needs_background": "light"
     },
     "output_type": "display_data"
    }
   ],
   "source": [
    "from sklearn.cluster import DBSCAN\n",
    "\n",
    "db = DBSCAN(eps=0.2, min_samples=5, metric='euclidean')\n",
    "\n",
    "y_db = db.fit_predict(X)\n",
    "\n",
    "plt.scatter(X[y_db==0, 0], X[y_db==0, 1], c='lightblue', marker='o', s=40, label='cluster 1')\n",
    "plt.scatter(X[y_db==1, 0], X[y_db==1, 1], c='red', marker='s', s=40, label='cluster 2')\n",
    "\n",
    "plt.legend()\n",
    "plt.show()\n"
   ]
  },
  {
   "cell_type": "markdown",
   "metadata": {},
   "source": [
    "DBSCAN算法可以成功地对半月形数据进行划分，这也是DBSCAN的优势之一(可对任意形状的数据进行聚类)。同时也应注意到DBSCAN算法的一些缺点，对于给定样本数量数据集，随着特征维度的增加，DBSCAN算法的计算量会迅速上升。此外，如果数据集的密度差异相对较大，则找到合适的MintPts及$\\varepsilon$的组合较为困难。"
   ]
  },
  {
   "cell_type": "markdown",
   "metadata": {},
   "source": [
    "总结：在本篇笔记中，探讨了三种最基本的聚类算法：基于原型的k-means聚类算法、凝聚层次聚类以及基于密度的空间聚类算法(DBSCAN)。k-means算法基于指定数量的簇中心，将样本划分为球形的簇。凝聚层次聚类不需要事先指定簇的数量，而且聚类的结果可以通过树状图进行可视化的展示，这有助于分析和解释聚类结果。DBSCAN算法基于样本的密度对其进行分组，并且它可以处理异常值以及识别非球形簇。"
   ]
  },
  {
   "cell_type": "markdown",
   "metadata": {},
   "source": [
    "在此，有必要提一下另一种更为先进的聚类方法：图聚类。而图聚类系列中最为突出的方法应该是谱聚类算法。虽然实现谱聚类有多种不同的方法，但它们的共同之处在于：均使用基于相似矩阵的特征向量来获得簇间的关系。有兴趣的读者可以通过以下链接了解详细内容：<http://arxiv.org/pdf/0711.0189v1.pdf>"
   ]
  }
 ],
 "metadata": {
  "kernelspec": {
   "display_name": "Python 3",
   "language": "python",
   "name": "python3"
  },
  "language_info": {
   "codemirror_mode": {
    "name": "ipython",
    "version": 3
   },
   "file_extension": ".py",
   "mimetype": "text/x-python",
   "name": "python",
   "nbconvert_exporter": "python",
   "pygments_lexer": "ipython3",
   "version": "3.6.8"
  }
 },
 "nbformat": 4,
 "nbformat_minor": 2
}
