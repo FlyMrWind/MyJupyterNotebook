{
 "cells": [
  {
   "cell_type": "markdown",
   "metadata": {},
   "source": [
    "### 本篇笔记简要介绍主成分分析的原理，并且将沿着主成分分析(PCA)的几个步骤逐渐实现此技术。"
   ]
  },
  {
   "cell_type": "markdown",
   "metadata": {},
   "source": [
    "主成分分析(PCA)是一种广泛应用于不同领域的无监督的线性数据转换技术，其突出作用是降维。PCA旨在基于特征之间的关系识别出数据内在的模式。简而言之，PCA的目标是在高维数据中找到最大方差的方向，并将数据映射到一个维度不大于原始数据的新的子空间上。从线性代数的几何意义分析，矩阵乘法就是线性映射的操作，通过k(k≤d)个特征向量构造映射矩阵，然后与原始输入X相乘，就得到了新的k维子空间。至于为什么要取前k个最大的特征值，是因为特征值反映了数据在特征向量对应维度上的方差大小。"
   ]
  },
  {
   "cell_type": "markdown",
   "metadata": {},
   "source": [
    "特征值对应的特征向量就是理想中想取得正确的坐标轴，而特征值就等于数据在旋转之后的坐标上对应维度上的方差。也就是说，直接求出矩阵A的特征向量得出对应的特征向量。我们就能找到旋转后正确的坐标轴。这个就是特征值和特征向量的一个实际应用：“得出使数据在各个维度区分度达到最大的坐标轴。”经过特征向量变换下的数据被称为变量的主成分，当前m个主成分累计的方差贡献率达到一个较高的百分数（如85%以上）的话，就保留着这m个主成分的数据。实现了对数据进行降维的目的。整个主成分分析的算法原理也就是这个。PCA基于最大方差理论来进行特征抽取，协方差矩阵反应的是各个特征维度上的线性关系，协方差越大则代表特征之间的线性管关系越弱，则如果原始的数据在这些方向上投影，就可以保留数据集的大部分信息。而矩阵的最大特征值对应的特征向量所指向的方向就是最大方差所在的方向。"
   ]
  },
  {
   "cell_type": "markdown",
   "metadata": {},
   "source": [
    "PCA算法的流程可以概括为以下几个步骤：  \n",
    "1)对原始d维数据做标准化处理。  \n",
    "2)构造样本的协方差矩阵。  \n",
    "3)计算协方差矩阵的特征值和相应的特征向量。  \n",
    "4)选择与前k个最大特征值对应的特征向量，其中k为新特征空间的维度(k ≤ d)。  \n",
    "5)通过前k个特征向量构建映射矩阵W。  \n",
    "6)通过映射矩阵W将d维的输入数据集X转换到新的k维特征子空间。"
   ]
  },
  {
   "cell_type": "markdown",
   "metadata": {},
   "source": [
    "#### 以下代码将按照PCA算法的实现流程逐步实现PCA技术"
   ]
  },
  {
   "cell_type": "markdown",
   "metadata": {},
   "source": [
    "###### 1.导入葡萄酒数据集，划分为训练集和验证集，并且做标准化处理"
   ]
  },
  {
   "cell_type": "code",
   "execution_count": 1,
   "metadata": {},
   "outputs": [],
   "source": [
    "import pandas as pd\n",
    "\n",
    "df_wine = pd.read_csv('http://archive.ics.uci.edu/ml/machine-learning-databases/wine/wine.data', header=None)\n",
    "\n",
    "from sklearn.model_selection import train_test_split\n",
    "from sklearn.preprocessing import StandardScaler\n",
    "X, y =df_wine.iloc[:, 1:].values, df_wine.iloc[:, 0].values\n",
    "\n",
    "X_train, X_test, y_train, y_test = \\\n",
    "                        train_test_split(X, y, test_size=0.3, random_state=0)\n",
    "\n",
    "sc = StandardScaler()\n",
    "\n",
    "X_train_std = sc.fit_transform(X_train)\n",
    "X_test_std = sc.transform(X_test)"
   ]
  },
  {
   "cell_type": "markdown",
   "metadata": {},
   "source": [
    "###### 2.构造协方差矩阵，求其特征值和特征向量"
   ]
  },
  {
   "cell_type": "code",
   "execution_count": 12,
   "metadata": {},
   "outputs": [
    {
     "name": "stdout",
     "output_type": "stream",
     "text": [
      "Eigenvalues: \n",
      "[4.8923083  2.46635032 1.42809973 1.01233462 0.84906459 0.60181514\n",
      " 0.52251546 0.08414846 0.33051429 0.29595018 0.16831254 0.21432212\n",
      " 0.2399553 ]\n",
      "(13, 13)\n"
     ]
    }
   ],
   "source": [
    "import numpy as np\n",
    "cov_mat = np.cov(X_train_std.T) # 先求一个转置，让特征以行的形式排列\n",
    "eigen_vals, eigen_vecs = np.linalg.eig(cov_mat) # 返回两个参数，分别是特征值和特征向量\n",
    "print('Eigenvalues: \\n%s' % eigen_vals)\n",
    "print(eigen_vecs.shape)"
   ]
  },
  {
   "cell_type": "markdown",
   "metadata": {},
   "source": [
    "###### 3.计算并且可视化方差贡献率和方差贡献率的累计和"
   ]
  },
  {
   "cell_type": "code",
   "execution_count": 4,
   "metadata": {
    "scrolled": true
   },
   "outputs": [
    {
     "data": {
      "image/png": "[encoded data removed]",
      "text/plain": [
       "<Figure size 432x288 with 1 Axes>"
      ]
     },
     "metadata": {
      "needs_background": "light"
     },
     "output_type": "display_data"
    }
   ],
   "source": [
    "tot = sum(eigen_vals)\n",
    "\n",
    "var_exp = [(i/tot) for i in sorted(eigen_vals, reverse=True)] # 排序后求方差贡献率\n",
    "\n",
    "cum_var_exp = np.cumsum(var_exp) # 返回方差贡献率的累计和\n",
    "\n",
    "import matplotlib.pyplot as plt\n",
    "\n",
    "plt.bar(range(1, 14), var_exp, alpha=0.5, align='center', label='individual explained variance') # 绘制方差贡献率直方图\n",
    "plt.step(range(1, 14), cum_var_exp, where='mid', label='cumulative explained variance') # 绘制阶梯图\n",
    "\n",
    "plt.ylabel('Explained variance ratio')\n",
    "plt.xlabel('Principal components')\n",
    "plt.legend(loc='upper left')\n",
    "plt.show()"
   ]
  },
  {
   "cell_type": "markdown",
   "metadata": {},
   "source": [
    "###### 4.构造降序排列的特征对(特征值和特征向量构成的数值对)"
   ]
  },
  {
   "cell_type": "code",
   "execution_count": 10,
   "metadata": {},
   "outputs": [
    {
     "name": "stdout",
     "output_type": "stream",
     "text": [
      "13\n"
     ]
    }
   ],
   "source": [
    "eigen_pairs = [(np.abs(eigen_vals[i]), eigen_vecs[:, i]) for i in range(len(eigen_vals))]\n",
    "eigen_pairs.sort(reverse=True)\n",
    "print(len(eigen_pairs))"
   ]
  },
  {
   "cell_type": "code",
   "execution_count": 44,
   "metadata": {},
   "outputs": [
    {
     "data": {
      "text/plain": [
       "array([ 0.14669811, -0.24224554, -0.02993442, -0.25519002,  0.12079772,\n",
       "        0.38934455,  0.42326486, -0.30634956,  0.30572219, -0.09869191,\n",
       "        0.30032535,  0.36821154,  0.29259713])"
      ]
     },
     "execution_count": 44,
     "metadata": {},
     "output_type": "execute_result"
    }
   ],
   "source": [
    "eigen_pairs[0][1]"
   ]
  },
  {
   "cell_type": "code",
   "execution_count": 48,
   "metadata": {},
   "outputs": [
    {
     "name": "stdout",
     "output_type": "stream",
     "text": [
      "<class 'tuple'>\n",
      "[[ 0.14669811  0.50417079]\n",
      " [-0.24224554  0.24216889]\n",
      " [-0.02993442  0.28698484]\n",
      " [-0.25519002 -0.06468718]\n",
      " [ 0.12079772  0.22995385]\n",
      " [ 0.38934455  0.09363991]\n",
      " [ 0.42326486  0.01088622]\n",
      " [-0.30634956  0.01870216]\n",
      " [ 0.30572219  0.03040352]\n",
      " [-0.09869191  0.54527081]\n",
      " [ 0.30032535 -0.27924322]\n",
      " [ 0.36821154 -0.174365  ]\n",
      " [ 0.29259713  0.36315461]]\n"
     ]
    }
   ],
   "source": [
    "idx = np.argsort(np.abs(eigen_vals))[-1], np.argsort(np.abs(eigen_vals))[-2]\n",
    "print(type(idx))\n",
    "W_ = eigen_vecs[:,idx]\n",
    "print(W_)"
   ]
  },
  {
   "cell_type": "markdown",
   "metadata": {},
   "source": [
    "###### 5.构造映射矩阵(13x2)"
   ]
  },
  {
   "cell_type": "code",
   "execution_count": 47,
   "metadata": {},
   "outputs": [
    {
     "name": "stdout",
     "output_type": "stream",
     "text": [
      "Matrix W:\n",
      " [[ 0.14669811  0.50417079]\n",
      " [-0.24224554  0.24216889]\n",
      " [-0.02993442  0.28698484]\n",
      " [-0.25519002 -0.06468718]\n",
      " [ 0.12079772  0.22995385]\n",
      " [ 0.38934455  0.09363991]\n",
      " [ 0.42326486  0.01088622]\n",
      " [-0.30634956  0.01870216]\n",
      " [ 0.30572219  0.03040352]\n",
      " [-0.09869191  0.54527081]\n",
      " [ 0.30032535 -0.27924322]\n",
      " [ 0.36821154 -0.174365  ]\n",
      " [ 0.29259713  0.36315461]]\n"
     ]
    }
   ],
   "source": [
    "W = np.hstack((eigen_pairs[0][1][:, np.newaxis], eigen_pairs[1][1][:, np.newaxis])) # 水平堆叠数组\n",
    "'''np.newwaxis的作用是在当前位置新增加一行，在此处的作用相当于将行向量转置为列向量'''\n",
    "                                \n",
    "print('Matrix W:\\n', W)"
   ]
  },
  {
   "cell_type": "markdown",
   "metadata": {},
   "source": [
    "##### 6.完成特征映射并且利用散点图进行可视化"
   ]
  },
  {
   "cell_type": "code",
   "execution_count": 46,
   "metadata": {
    "scrolled": true
   },
   "outputs": [],
   "source": [
    "X_train_pca = X_train_std.dot(W) # 葡萄酒数据集变成124x2的矩阵"
   ]
  },
  {
   "cell_type": "code",
   "execution_count": 45,
   "metadata": {},
   "outputs": [
    {
     "data": {
      "image/png": "[encoded data removed]",
      "text/plain": [
       "<Figure size 432x288 with 1 Axes>"
      ]
     },
     "metadata": {
      "needs_background": "light"
     },
     "output_type": "display_data"
    }
   ],
   "source": [
    "colors = ['r', 'b', 'g']\n",
    "markers = ['s', 'x', 'o']\n",
    "\n",
    "for l, c, m in zip(np.unique(y_train), colors, markers):\n",
    "    plt.scatter(X_train_pca[y_train==l, 0], X_train_pca[y_train==l, 1], c=c, label=l, marker=m)\n",
    "    \n",
    "plt.xlabel('PC 1')\n",
    "plt.ylabel('PC 2')\n",
    "\n",
    "plt.legend(loc='lower left')\n",
    "\n",
    "plt.show()"
   ]
  },
  {
   "cell_type": "markdown",
   "metadata": {},
   "source": [
    "#### 调用scikit-learn库进行主成分分析"
   ]
  },
  {
   "cell_type": "code",
   "execution_count": 50,
   "metadata": {},
   "outputs": [],
   "source": [
    "from matplotlib.colors import ListedColormap\n",
    "import matplotlib.pyplot as plt\n",
    "\n",
    "def plot_decision_regions(X, y, classifier, test_idx=None, resolution=0.02):\n",
    "    \n",
    "    # setup marker generator and color map\n",
    "    markers = ['s','x', 'o','^','v']\n",
    "    colors = ['red', 'blue','lightgreen', 'gray','cyan']\n",
    "    cmap = ListedColormap(colors[:len(np.unique(y))])\n",
    "    \n",
    "    \"\"\"\n",
    "    plot the decision surface\n",
    "    将最大值，最小值向量生成二维数组xx1,xx2\n",
    "    np.arange(x1_min, x1_max, resolution) 最小值最大值之间生成序列，步长为resolution\n",
    "    ---\n",
    "    \"\"\"\n",
    "    x1_min, x1_max = X[:, 0].min() - 1, X[:, 0].max() + 1\n",
    "    x2_min, x2_max = X[:, 1].min() - 1, X[:, 1].max() + 1\n",
    "    \n",
    "    new_x1 = np.arange(x1_min, x1_max, resolution)\n",
    "    new_x2 = np.arange(x2_min, x2_max, resolution)\n",
    "    xx1, xx2 = np.meshgrid(new_x1, new_x2)\n",
    "\n",
    "    # xx1, xx2 = np.meshgrid(np.array(x1_min, x1_max, resolution), np.array(x2_min, x2_max, resolution))\n",
    "    # 预测值\n",
    "    Z = classifier.predict(np.array([xx1.ravel(), xx2.ravel()]).T)\n",
    "    Z = Z.reshape(xx1.shape)\n",
    "    plt.contourf(xx1, xx2, Z, alpha=0.4, cmap=cmap) # 绘制等高线(轮廓)，使用不同的颜色对不同区域进行填充，不专门绘制等高线，但不同颜色的分界即可代表等高线\n",
    "    plt.xlim(xx1.min(), xx1.max())\n",
    "    plt.ylim(xx2.min(), xx2.max())\n",
    "    \n",
    "    # plot all samples\n",
    "    for idx ,c1 in enumerate(np.unique(y)):\n",
    "        plt.scatter(x=X[y == c1, 0], y=X[y == c1, 1], alpha=0.8, cmap=cmap, marker=markers[idx], label=c1)"
   ]
  },
  {
   "cell_type": "code",
   "execution_count": 56,
   "metadata": {},
   "outputs": [
    {
     "name": "stdout",
     "output_type": "stream",
     "text": [
      "(124, 2)\n"
     ]
    },
    {
     "data": {
      "image/png": "[encoded data removed]",
      "text/plain": [
       "<Figure size 432x288 with 1 Axes>"
      ]
     },
     "metadata": {
      "needs_background": "light"
     },
     "output_type": "display_data"
    }
   ],
   "source": [
    "from sklearn.linear_model import LogisticRegression\n",
    "from sklearn.decomposition import PCA\n",
    "\n",
    "pca = PCA(n_components=2) # 参数n_components控制了对主成分的保留个数，设置为None可以将所以主成分保留下来\n",
    "lr = LogisticRegression(solver='lbfgs', multi_class='multinomial')\n",
    "X_train_pca = pca.fit_transform(X_train_std)\n",
    "X_test_pca = pca.transform(X_test_std)\n",
    "print(X_train_pca.shape)\n",
    "\n",
    "lr.fit(X_train_pca, y_train)\n",
    "plot_decision_regions(X_train_pca, y_train, classifier=lr)\n",
    "plt.xlabel('PC1')\n",
    "plt.ylabel('PC2')\n",
    "plt.legend(loc='lower left')\n",
    "plt.show()"
   ]
  },
  {
   "cell_type": "code",
   "execution_count": 52,
   "metadata": {},
   "outputs": [
    {
     "data": {
      "image/png": "[encoded data removed]",
      "text/plain": [
       "<Figure size 432x288 with 1 Axes>"
      ]
     },
     "metadata": {
      "needs_background": "light"
     },
     "output_type": "display_data"
    }
   ],
   "source": [
    "# 绘制模型在测试集的决策区域\n",
    "plot_decision_regions(X_test_pca, y_test, classifier=lr)\n",
    "plt.xlabel('PC1')\n",
    "plt.ylabel('PC2')\n",
    "plt.legend(loc='lower left')\n",
    "plt.show()"
   ]
  },
  {
   "cell_type": "code",
   "execution_count": 53,
   "metadata": {},
   "outputs": [
    {
     "data": {
      "text/plain": [
       "array([0.37329648, 0.18818926, 0.10896791, 0.07724389, 0.06478595,\n",
       "       0.04592014, 0.03986936, 0.02521914, 0.02258181, 0.01830924,\n",
       "       0.01635336, 0.01284271, 0.00642076])"
      ]
     },
     "execution_count": 53,
     "metadata": {},
     "output_type": "execute_result"
    }
   ],
   "source": [
    "pca = PCA(n_components=None)\n",
    "X_train_pca = pca.fit_transform(X_train_std)\n",
    "pca.explained_variance_ratio_"
   ]
  },
  {
   "cell_type": "code",
   "execution_count": null,
   "metadata": {},
   "outputs": [],
   "source": []
  }
 ],
 "metadata": {
  "kernelspec": {
   "display_name": "Python 3",
   "language": "python",
   "name": "python3"
  },
  "language_info": {
   "codemirror_mode": {
    "name": "ipython",
    "version": 3
   },
   "file_extension": ".py",
   "mimetype": "text/x-python",
   "name": "python",
   "nbconvert_exporter": "python",
   "pygments_lexer": "ipython3",
   "version": "3.6.8"
  }
 },
 "nbformat": 4,
 "nbformat_minor": 2
}
