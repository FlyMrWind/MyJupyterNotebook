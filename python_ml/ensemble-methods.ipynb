{
 "cells": [
  {
   "cell_type": "markdown",
   "metadata": {},
   "source": [
    "集成学习是将不同的分类器组合成为一个元分类器，与包含其中的单个分类器相比，元分类器具有更好的泛化能力。集成学习方法采用多数投票原则来得到最终的预测类标，这种原则把大多数分类器预测的结果作为最红的分类类标。"
   ]
  },
  {
   "cell_type": "code",
   "execution_count": 5,
   "metadata": {},
   "outputs": [
    {
     "data": {
      "text/plain": [
       "0.03432750701904297"
      ]
     },
     "execution_count": 5,
     "metadata": {},
     "output_type": "execute_result"
    }
   ],
   "source": [
    "from scipy.special import comb\n",
    "import math\n",
    "\n",
    "# 求集成分类器的出错的概率，这里假设每个分类器错误的概率相同\n",
    "def ensemble_error(n_classifier, error):\n",
    "    k_start = math.ceil(n_classifier / 2.0) # 返回大于等于函数中参数的整数\n",
    "    probs = [comb(n_classifier, k) * error**k * (1-error)**(n_classifier - k) for k in range(k_start, n_classifier + 1)]\n",
    "    # comb(n, m)是求组合数\n",
    "    return sum(probs)\n",
    "\n",
    "ensemble_error(n_classifier=11, error=0.25)"
   ]
  },
  {
   "cell_type": "code",
   "execution_count": 6,
   "metadata": {},
   "outputs": [
    {
     "data": {
      "image/png": "[encoded data removed]",
      "text/plain": [
       "<Figure size 432x288 with 1 Axes>"
      ]
     },
     "metadata": {
      "needs_background": "light"
     },
     "output_type": "display_data"
    }
   ],
   "source": [
    "import numpy as np\n",
    "error_range = np.arange(0.1, 1.01, 0.01)\n",
    "ens_errors = [ensemble_error(n_classifier=11, error=error) for error in error_range]\n",
    "\n",
    "import matplotlib.pyplot as plt\n",
    "\n",
    "plt.plot(error_range, ens_errors, label='Ensembel error', linewidth=2)\n",
    "plt.plot(error_range, error_range, linestyle='--', label='Base error', linewidth=2)\n",
    "plt.xlabel('Base error')\n",
    "plt.ylabel('Base/Ensemble error')\n",
    "plt.legend(loc='upper left')\n",
    "plt.grid()\n",
    "plt.show()"
   ]
  },
  {
   "cell_type": "markdown",
   "metadata": {},
   "source": [
    "从图中可以看出，成员分类器的出错率低于随机猜测时，集成分类器的出错率要低于单个分类器。"
   ]
  },
  {
   "cell_type": "markdown",
   "metadata": {},
   "source": [
    "###  <font color=red>一、实现一个简单的多数投票(majority voting)分类器</font>"
   ]
  },
  {
   "cell_type": "markdown",
   "metadata": {},
   "source": [
    "如果多数投票分类器中的所有单一分类器的重要性相同，则最终的预测类标由大多数单一分类器预测的类标决定。如果给每一个分类器赋予权重，则最终的预测结果由预测类标的数量乘上权重以后得到的分数决定。"
   ]
  },
  {
   "cell_type": "markdown",
   "metadata": {},
   "source": [
    "举一个简单的例子，假设三个单一分类器组成多数投票分类器，对某一样本的预测结果是[0, 0, 1]，则在重要性相同的情况下，多数投票分类器的预测结果是类别0。如果三个分类器分别赋予权值[0.2, 0.2, 0.6]，则类别0的分数是0.2 * 2 = 0.4，类别1的分数是1 * 0.6 = 0.6，最终的预测结果是类别1。"
   ]
  },
  {
   "cell_type": "code",
   "execution_count": 7,
   "metadata": {},
   "outputs": [
    {
     "data": {
      "text/plain": [
       "1"
      ]
     },
     "execution_count": 7,
     "metadata": {},
     "output_type": "execute_result"
    }
   ],
   "source": [
    "import numpy as np\n",
    "\n",
    "'''\n",
    "np.argmax()返回数组中最大值的下标\n",
    "np.bincount()计算数组中整数的个数后乘以权值返回\n",
    "'''\n",
    "\n",
    "np.argmax(np.bincount([0, 0, 1], weights=[0.2, 0.2, 0.6]))"
   ]
  },
  {
   "cell_type": "markdown",
   "metadata": {},
   "source": [
    "另一种思路是用预测类别的概率来替代类标"
   ]
  },
  {
   "cell_type": "code",
   "execution_count": 8,
   "metadata": {},
   "outputs": [
    {
     "data": {
      "text/plain": [
       "0"
      ]
     },
     "execution_count": 8,
     "metadata": {},
     "output_type": "execute_result"
    }
   ],
   "source": [
    "ex = np.array([[0.9, 0.1],\n",
    "               [0.8, 0.2],\n",
    "               [0.4, 0.6]])\n",
    "\n",
    "np.argmax(np.average(ex, axis=0, weights=[0.2, 0.2, 0.6]))"
   ]
  },
  {
   "cell_type": "markdown",
   "metadata": {},
   "source": [
    "##### 以下是实现多数投票分类器类的完整代码"
   ]
  },
  {
   "cell_type": "code",
   "execution_count": 9,
   "metadata": {},
   "outputs": [],
   "source": [
    "from sklearn.base import BaseEstimator\n",
    "from sklearn.base import ClassifierMixin\n",
    "from sklearn.preprocessing import LabelEncoder\n",
    "from sklearn.externals import six\n",
    "from sklearn.base import clone\n",
    "from sklearn.pipeline import _name_estimators\n",
    "import numpy as np\n",
    "import operator\n",
    "\n",
    "class MajorityVoteClassifier(BaseEstimator, ClassifierMixin):\n",
    "    def __init__(self, classifiers, vote='classlabel', weights=None):\n",
    "        self.classifiers = classifiers\n",
    "        self.named_classifiers = {key: value for key, value in _name_estimators(classifiers)}\n",
    "        self.vote = vote\n",
    "        self.weights = weights\n",
    "        \n",
    "    def fit(self, X, y):\n",
    "        ''' Fit classifiers\n",
    "        Parameters\n",
    "        ----------\n",
    "        X:{array-like, sparse matrix},\n",
    "        shape = [n_samples, n_features]\n",
    "        Matrix of training samples.\n",
    "        \n",
    "        y: array-like, shape = [n_samples]\n",
    "        \n",
    "            Vector of target class labels.\n",
    "        Return\n",
    "        ----------\n",
    "        self: object\n",
    "        \n",
    "        '''\n",
    "        # Use LabelEncoder to ensure class label start\n",
    "        # with 0, which is important for np.argmax\n",
    "        # call in self.predict\n",
    "        \n",
    "        self.lablenc_= LabelEncoder()\n",
    "        self.lablenc_.fit(y)\n",
    "        self.classes_ = self.lablenc_.classes_\n",
    "        self.classifiers_ = []\n",
    "        for clf in self.classifiers:\n",
    "            fitted_clf = clone(clf).fit(X, self.lablenc_.transform(y))\n",
    "            self.classifiers_.append(fitted_clf)\n",
    "        return self\n",
    "    def predict(self, X):\n",
    "        '''Predict class label for X\n",
    "        Parameters\n",
    "        ----------\n",
    "        \n",
    "        X: {array-leke, sparse matrix},\n",
    "        shape = [n_samples, n_features]\n",
    "        Matrix of training samples.\n",
    "        \n",
    "        Returns\n",
    "        ----------\n",
    "        maj_vote: array-like, shape = [n_samples]\n",
    "            Predicted class labels.\n",
    "        '''\n",
    "        if self.vote == 'probability':\n",
    "            maj_vote = np.argmax(self.predict_proba(X), axis=1)\n",
    "            \n",
    "        else: \n",
    "            # 'classlabel' vote\n",
    "            # collect retule from clf.predict calls\n",
    "            predictions = np.asarray([clf.predict(X) for clf in self.classifiers_]).T\n",
    "            maj_vote = np.apply_along_axis(lambda x: np.argmax(np.bincount(x, weights=self.weights)), axis=1, arr=predictions)\n",
    "        maj_vote = self.lablenc_.inverse_transform(maj_vote)\n",
    "        return maj_vote\n",
    "    def predict_proba(self, X):\n",
    "        '''Predict class probabilities for x.\n",
    "        \n",
    "        Parameters\n",
    "        ----------\n",
    "        X: {array-like, sparse matrix},\n",
    "            shape = [n_samples, n_feayutes]\n",
    "            Training vectors, where n_samples is the number of samples\n",
    "            and n_faetures is the number of features.\n",
    "            \n",
    "        Return\n",
    "        ---------\n",
    "        avg_proba: array-like,\n",
    "            shape = [n_samples, n_classes]\n",
    "            Weighted average probability for each class per sample.\n",
    "            '''\n",
    "        probas = np.asarray([clf.predict_proba(X) for clf in self.classifiers_])\n",
    "        avg_proba = np.average(probas, axis=0, weights=self.weights)\n",
    "        return avg_proba\n",
    "    \n",
    "    def get_params(self, deep=True):\n",
    "        '''Get classfier parameter names for GridSearch'''\n",
    "        if not deep:\n",
    "            return super(MajorityVoteClassifier, self).get_params(deep=False)\n",
    "        else:\n",
    "            out = self.named_classifiers.copy()\n",
    "            for name, step in six.iteritems(self.named_classifiers):\n",
    "                for key, value in six.iteritems(step.get_params(deep=True)):\n",
    "                    out['%s__%s' % (name, key)] = value   \n",
    "            return out"
   ]
  },
  {
   "cell_type": "code",
   "execution_count": 10,
   "metadata": {},
   "outputs": [
    {
     "name": "stdout",
     "output_type": "stream",
     "text": [
      "(150, 4)\n",
      "(150,)\n"
     ]
    }
   ],
   "source": [
    "from sklearn import datasets\n",
    "from sklearn.model_selection import train_test_split\n",
    "from sklearn.preprocessing import StandardScaler\n",
    "from sklearn.preprocessing import LabelEncoder\n",
    "\n",
    "iris = datasets.load_iris()\n",
    "print(iris.data.shape)\n",
    "print(iris.target.shape)\n",
    "\n",
    "X, y = iris.data[50:, [1, 2]], iris.target[50:]\n",
    "le = LabelEncoder()\n",
    "y = le.fit_transform(y)"
   ]
  },
  {
   "cell_type": "code",
   "execution_count": 11,
   "metadata": {},
   "outputs": [],
   "source": [
    "X_train, X_test, y_train, y_test = \\\n",
    "        train_test_split(X, y, test_size=0.5, random_state=1)"
   ]
  },
  {
   "cell_type": "markdown",
   "metadata": {},
   "source": [
    "用训练数据集训练三种不同类型的分类器：logistic回归分类器；决策树分类器以及k-近邻分类器，并且通过10折交叉验证看一下各个分类器在训练数据集上的性能表现。"
   ]
  },
  {
   "cell_type": "code",
   "execution_count": 12,
   "metadata": {
    "scrolled": false
   },
   "outputs": [
    {
     "name": "stdout",
     "output_type": "stream",
     "text": [
      "10-fold cross validation:\n",
      "\n",
      "ROC AUC: 0.95 (+/- 0.15) [Logistic Regression]\n",
      "ROC AUC: 0.92 (+/- 0.15) [Decision Tree]\n",
      "ROC AUC: 0.93 (+/- 0.10) [KNN]\n"
     ]
    }
   ],
   "source": [
    "from sklearn.model_selection import cross_val_score\n",
    "from sklearn.linear_model import LogisticRegression\n",
    "from sklearn.tree import DecisionTreeClassifier\n",
    "from sklearn.neighbors import KNeighborsClassifier\n",
    "from sklearn.pipeline import Pipeline\n",
    "import numpy as np\n",
    "\n",
    "clf1 = LogisticRegression(penalty='l2', C=0.1, solver='lbfgs', random_state=0)\n",
    "clf2 = DecisionTreeClassifier(max_depth=1, criterion='entropy', random_state=0)\n",
    "clf3 = KNeighborsClassifier(n_neighbors=1, p=2, metric='minkowski')\n",
    "pipe1 = Pipeline([['sc', StandardScaler()], ['clf', clf1]])\n",
    "# 送入决策树的数据不需要标准化处理\n",
    "pipe3 = Pipeline([['sc', StandardScaler()], ['clf', clf3]])\n",
    "clf_labels = ['Logistic Regression', 'Decision Tree', 'KNN']\n",
    "print('10-fold cross validation:\\n')\n",
    "\n",
    "for clf, label in zip([pipe1, clf2, pipe3], clf_labels):\n",
    "    # cross_val_score()调用k折交叉验证,返回ndarray.shape=(cv,)\n",
    "    scores = cross_val_score(estimator=clf, X=X_train, y=y_train, cv=10, scoring='roc_auc')\n",
    "    print('ROC AUC: %0.2f (+/- %0.2f) [%s]' % (scores.mean(), scores.std(), label))"
   ]
  },
  {
   "cell_type": "code",
   "execution_count": 13,
   "metadata": {},
   "outputs": [
    {
     "name": "stdout",
     "output_type": "stream",
     "text": [
      "Accuracy: 0.95 (+/- 0.15) [Logistic Regression]\n",
      "Accuracy: 0.92 (+/- 0.15) [Decision Tree]\n",
      "Accuracy: 0.93 (+/- 0.10) [KNN]\n",
      "Accuracy: 0.97 (+/- 0.10) [Majority Voting]\n"
     ]
    }
   ],
   "source": [
    "mv_clf = MajorityVoteClassifier(classifiers=[pipe1, clf2, pipe3])\n",
    "\n",
    "clf_labels += ['Majority Voting']\n",
    "\n",
    "all_clf = [pipe1, clf2, pipe3, mv_clf]\n",
    "\n",
    "for clf, label in zip(all_clf, clf_labels):\n",
    "    scores = cross_val_score(estimator=clf, X=X_train, y=y_train, cv=10, scoring='roc_auc')\n",
    "    print('Accuracy: %0.2f (+/- %0.2f) [%s]' % (scores.mean(), scores.std(), label))"
   ]
  },
  {
   "cell_type": "markdown",
   "metadata": {},
   "source": [
    "评估和优化集成分类器，在测试数据上计算上述代码实现的集成分类器的受试者工作特性曲线(ROC)，以验证其在未知数据上的泛化能力。AUC(Area Under roc Curve)是一种用来度量分类模型好坏的一个标准。顾名思义，AUC的值就是处于ROC曲线下方的那部分面积的大小。通常，AUC的值介于0.5到1.0之间，较大的AUC代表了模型具有较好的性能。"
   ]
  },
  {
   "cell_type": "code",
   "execution_count": 14,
   "metadata": {},
   "outputs": [
    {
     "data": {
      "image/png": "[encoded data removed]",
      "text/plain": [
       "<Figure size 432x288 with 1 Axes>"
      ]
     },
     "metadata": {
      "needs_background": "light"
     },
     "output_type": "display_data"
    }
   ],
   "source": [
    "import matplotlib.pyplot as plt\n",
    "from sklearn.metrics import roc_curve\n",
    "from sklearn.metrics import auc\n",
    "colors = ['black', 'orange', 'blue', 'green']\n",
    "linestyles = [':', '--', '-.', '-']\n",
    "\n",
    "for clf, label, clr, ls in zip(all_clf, clf_labels, colors, linestyles):\n",
    "    # 假设正类的标签是1\n",
    "    y_pred = clf.fit(X_train, y_train).predict_proba(X_test)[:, 1]\n",
    "    fpr, tpr, thresholds = roc_curve(y_true=y_test, y_score=y_pred)\n",
    "    roc_auc = auc(x=fpr, y=tpr)\n",
    "    # fpr假阳性(假正率)为横轴，tpr真阳性(真正率)为纵轴\n",
    "    plt.plot(fpr, tpr, color=clr, linestyle=ls, label='%s (auc = %0.2f)' % (label, roc_auc))\n",
    "    \n",
    "plt.legend(loc='lower right')\n",
    "plt.plot([0, 1], [0, 1], linestyle='--', color='gray', linewidth=2)\n",
    "\n",
    "plt.xlim([-0.1, 1.1])\n",
    "plt.ylim([-0.1, 1.1])\n",
    "plt.grid()\n",
    "plt.xlabel('Flase Positive Rate')\n",
    "plt.xlabel('True Positive Rate')\n",
    "plt.show()"
   ]
  },
  {
   "cell_type": "code",
   "execution_count": 37,
   "metadata": {},
   "outputs": [
    {
     "data": {
      "image/png": "[encoded data removed]",
      "text/plain": [
       "<Figure size 864x576 with 4 Axes>"
      ]
     },
     "metadata": {
      "needs_background": "light"
     },
     "output_type": "display_data"
    }
   ],
   "source": [
    "sc = StandardScaler()\n",
    "X_train_std = sc.fit_transform(X_train)\n",
    "\n",
    "from itertools import product\n",
    "import matplotlib.pyplot as plt\n",
    "from matplotlib.colors import ListedColormap\n",
    "\n",
    "# colors = ['lightgreen', 'gray','cyan', 'red', 'blue']\n",
    "# cmap = ListedColormap(colors[:len(np.unique(y))])\n",
    "\n",
    "x_min = X_train_std[:, 0].min() - 1\n",
    "x_max = X_train_std[:, 0].max() + 1\n",
    "y_min = X_train_std[:, 1].min() - 1\n",
    "y_max = X_train_std[:, 1].max() + 1\n",
    "\n",
    "xx, yy = np.meshgrid(np.arange(x_min, x_max, 0.1), np.arange(y_min, y_max, 0.1)) # np.meshgrid()函数返回坐标矩阵\n",
    "fig, axarr = plt.subplots(nrows=2, ncols=2, sharex='col', sharey='row', figsize=(12, 8))\n",
    "\n",
    "for idx, clf, lb in zip(product([0, 1], [0, 1]), all_clf, clf_labels):\n",
    "\n",
    "    clf.fit(X_train_std, y_train)\n",
    "    # np.c_()将两个数组左右合并，要求行数相等。如果是一维数组，相当于两个列向量合并\n",
    "    Z = clf.predict(np.c_[xx.ravel(), yy.ravel()])\n",
    "    # Z = clf.predict(np.array([xx.ravel(), yy.ravel()]).T) # revel()函数将多维数组进行降维处理返回一维的数组\n",
    "    Z = Z.reshape(xx.shape)\n",
    "    \n",
    "    axarr[idx].contourf(xx, yy, Z, alpha=0.3)# 绘制等高线(决策区域)\n",
    "    axarr[idx].scatter(X_train_std[y_train==0, 0], X_train_std[y_train==0, 1], c='blue', marker='^', s=50)\n",
    "    axarr[idx].scatter(X_train_std[y_train==1, 0], X_train_std[y_train==1, 1], c='red', marker='o', s=50)\n",
    "    axarr[idx].set_title(lb, fontsize=16)\n",
    "\n",
    "plt.text(-3.5, -4.5, s='Sepal width [standardized]', ha='center', va='center', fontsize=16)\n",
    "plt.text(-10.5, 4.5, s='Petal length [standardized]', ha='center', va='center', fontsize=16, rotation=90)\n",
    "\n",
    "plt.show()                     "
   ]
  },
  {
   "cell_type": "markdown",
   "metadata": {
    "scrolled": false
   },
   "source": [
    "注：一开始得不到logistic回归模型的决策区域，是因为定义的c值过小(正则化的强度过大)，增大c值后能够正常显示。"
   ]
  },
  {
   "cell_type": "markdown",
   "metadata": {},
   "source": [
    "网格搜索(10折交叉验证)打印出相应的参数组合以及分数"
   ]
  },
  {
   "cell_type": "code",
   "execution_count": 16,
   "metadata": {
    "scrolled": false
   },
   "outputs": [
    {
     "name": "stdout",
     "output_type": "stream",
     "text": [
      "0.967 +/- 0.10 {'decisiontreeclassifier__max_depth': 1, 'pipeline-1__clf__C': 0.001}\n",
      "0.967 +/- 0.10 {'decisiontreeclassifier__max_depth': 1, 'pipeline-1__clf__C': 0.1}\n",
      "1.000 +/- 0.00 {'decisiontreeclassifier__max_depth': 1, 'pipeline-1__clf__C': 100.0}\n",
      "0.967 +/- 0.10 {'decisiontreeclassifier__max_depth': 2, 'pipeline-1__clf__C': 0.001}\n",
      "0.967 +/- 0.10 {'decisiontreeclassifier__max_depth': 2, 'pipeline-1__clf__C': 0.1}\n",
      "1.000 +/- 0.00 {'decisiontreeclassifier__max_depth': 2, 'pipeline-1__clf__C': 100.0}\n"
     ]
    }
   ],
   "source": [
    "from sklearn.model_selection import GridSearchCV\n",
    "params = {'decisiontreeclassifier__max_depth': [1, 2], 'pipeline-1__clf__C': [0.001, 0.1, 100.0]}\n",
    "grid = GridSearchCV(estimator=mv_clf, param_grid=params, cv=10, scoring='roc_auc')\n",
    "grid.fit(X_train, y_train)\n",
    "\n",
    "for param, mean, std in zip(grid.cv_results_['params'], grid.cv_results_['mean_test_score'], grid.cv_results_['std_test_score']):\n",
    "    print('%0.3f +/- %0.2f %r' % (mean, std, param))"
   ]
  },
  {
   "cell_type": "code",
   "execution_count": 17,
   "metadata": {},
   "outputs": [
    {
     "name": "stdout",
     "output_type": "stream",
     "text": [
      "Best parameters: {'decisiontreeclassifier__max_depth': 1, 'pipeline-1__clf__C': 100.0}\n",
      "Best score: 1.000\n"
     ]
    }
   ],
   "source": [
    "# 打印出最好的参数组合\n",
    "print('Best parameters: %s' % grid.best_params_)\n",
    "\n",
    "# 打印出最好的评估分数\n",
    "print('Best score: %0.3f' % grid.best_score_)"
   ]
  },
  {
   "cell_type": "markdown",
   "metadata": {},
   "source": [
    "**以上讨论的多数投票集成方法可以称之为<font color=red>堆叠法(stacking)</font>，下面将探讨另外一种集成学习方法：<font color=red>bagging</font>。**"
   ]
  },
  {
   "cell_type": "markdown",
   "metadata": {},
   "source": [
    "### <font color=green>二、通过bagging算法提高不稳定模型的准确率。</font>"
   ]
  },
  {
   "cell_type": "code",
   "execution_count": 18,
   "metadata": {},
   "outputs": [],
   "source": [
    "import pandas as pd\n",
    "df_wine = pd.read_csv('http://archive.ics.uci.edu/ml/machine-learning-databases/wine/wine.data', header=None)"
   ]
  },
  {
   "cell_type": "code",
   "execution_count": 19,
   "metadata": {},
   "outputs": [
    {
     "data": {
      "text/html": [
       "<div>\n",
       "<style scoped>\n",
       "    .dataframe tbody tr th:only-of-type {\n",
       "        vertical-align: middle;\n",
       "    }\n",
       "\n",
       "    .dataframe tbody tr th {\n",
       "        vertical-align: top;\n",
       "    }\n",
       "\n",
       "    .dataframe thead th {\n",
       "        text-align: right;\n",
       "    }\n",
       "</style>\n",
       "<table border=\"1\" class=\"dataframe\">\n",
       "  <thead>\n",
       "    <tr style=\"text-align: right;\">\n",
       "      <th></th>\n",
       "      <th>Class label</th>\n",
       "      <th>Alcohol</th>\n",
       "      <th>Malic acid</th>\n",
       "      <th>Ash</th>\n",
       "      <th>Alcalinity of ash</th>\n",
       "      <th>Magnesium</th>\n",
       "      <th>Total phenols</th>\n",
       "      <th>Flavanoids</th>\n",
       "      <th>Nonflavanoid phenols</th>\n",
       "      <th>Proanthocyanins</th>\n",
       "      <th>Color intensity</th>\n",
       "      <th>Hue</th>\n",
       "      <th>OD280/OD315 of diluted wines</th>\n",
       "      <th>Proline</th>\n",
       "    </tr>\n",
       "  </thead>\n",
       "  <tbody>\n",
       "    <tr>\n",
       "      <th>173</th>\n",
       "      <td>3</td>\n",
       "      <td>13.71</td>\n",
       "      <td>5.65</td>\n",
       "      <td>2.45</td>\n",
       "      <td>20.5</td>\n",
       "      <td>95</td>\n",
       "      <td>1.68</td>\n",
       "      <td>0.61</td>\n",
       "      <td>0.52</td>\n",
       "      <td>1.06</td>\n",
       "      <td>7.7</td>\n",
       "      <td>0.64</td>\n",
       "      <td>1.74</td>\n",
       "      <td>740</td>\n",
       "    </tr>\n",
       "    <tr>\n",
       "      <th>174</th>\n",
       "      <td>3</td>\n",
       "      <td>13.40</td>\n",
       "      <td>3.91</td>\n",
       "      <td>2.48</td>\n",
       "      <td>23.0</td>\n",
       "      <td>102</td>\n",
       "      <td>1.80</td>\n",
       "      <td>0.75</td>\n",
       "      <td>0.43</td>\n",
       "      <td>1.41</td>\n",
       "      <td>7.3</td>\n",
       "      <td>0.70</td>\n",
       "      <td>1.56</td>\n",
       "      <td>750</td>\n",
       "    </tr>\n",
       "    <tr>\n",
       "      <th>175</th>\n",
       "      <td>3</td>\n",
       "      <td>13.27</td>\n",
       "      <td>4.28</td>\n",
       "      <td>2.26</td>\n",
       "      <td>20.0</td>\n",
       "      <td>120</td>\n",
       "      <td>1.59</td>\n",
       "      <td>0.69</td>\n",
       "      <td>0.43</td>\n",
       "      <td>1.35</td>\n",
       "      <td>10.2</td>\n",
       "      <td>0.59</td>\n",
       "      <td>1.56</td>\n",
       "      <td>835</td>\n",
       "    </tr>\n",
       "    <tr>\n",
       "      <th>176</th>\n",
       "      <td>3</td>\n",
       "      <td>13.17</td>\n",
       "      <td>2.59</td>\n",
       "      <td>2.37</td>\n",
       "      <td>20.0</td>\n",
       "      <td>120</td>\n",
       "      <td>1.65</td>\n",
       "      <td>0.68</td>\n",
       "      <td>0.53</td>\n",
       "      <td>1.46</td>\n",
       "      <td>9.3</td>\n",
       "      <td>0.60</td>\n",
       "      <td>1.62</td>\n",
       "      <td>840</td>\n",
       "    </tr>\n",
       "    <tr>\n",
       "      <th>177</th>\n",
       "      <td>3</td>\n",
       "      <td>14.13</td>\n",
       "      <td>4.10</td>\n",
       "      <td>2.74</td>\n",
       "      <td>24.5</td>\n",
       "      <td>96</td>\n",
       "      <td>2.05</td>\n",
       "      <td>0.76</td>\n",
       "      <td>0.56</td>\n",
       "      <td>1.35</td>\n",
       "      <td>9.2</td>\n",
       "      <td>0.61</td>\n",
       "      <td>1.60</td>\n",
       "      <td>560</td>\n",
       "    </tr>\n",
       "  </tbody>\n",
       "</table>\n",
       "</div>"
      ],
      "text/plain": [
       "     Class label  Alcohol  Malic acid   Ash  Alcalinity of ash  Magnesium  \\\n",
       "173            3    13.71        5.65  2.45               20.5         95   \n",
       "174            3    13.40        3.91  2.48               23.0        102   \n",
       "175            3    13.27        4.28  2.26               20.0        120   \n",
       "176            3    13.17        2.59  2.37               20.0        120   \n",
       "177            3    14.13        4.10  2.74               24.5         96   \n",
       "\n",
       "     Total phenols  Flavanoids  Nonflavanoid phenols  Proanthocyanins  \\\n",
       "173           1.68        0.61                  0.52             1.06   \n",
       "174           1.80        0.75                  0.43             1.41   \n",
       "175           1.59        0.69                  0.43             1.35   \n",
       "176           1.65        0.68                  0.53             1.46   \n",
       "177           2.05        0.76                  0.56             1.35   \n",
       "\n",
       "     Color intensity   Hue  OD280/OD315 of diluted wines  Proline  \n",
       "173              7.7  0.64                          1.74      740  \n",
       "174              7.3  0.70                          1.56      750  \n",
       "175             10.2  0.59                          1.56      835  \n",
       "176              9.3  0.60                          1.62      840  \n",
       "177              9.2  0.61                          1.60      560  "
      ]
     },
     "execution_count": 19,
     "metadata": {},
     "output_type": "execute_result"
    }
   ],
   "source": [
    "df_wine.columns = ['Class label', 'Alcohol', 'Malic acid', 'Ash', 'Alcalinity of ash', 'Magnesium', 'Total phenols', 'Flavanoids',\n",
    "                  'Nonflavanoid phenols', 'Proanthocyanins', 'Color intensity', 'Hue', 'OD280/OD315 of diluted wines','Proline']\n",
    "df_wine = df_wine[df_wine['Class label'] !=1 ]\n",
    "X = df_wine[['Alcohol', 'Hue']].values\n",
    "y = df_wine['Class label'].values\n",
    "df_wine.tail()"
   ]
  },
  {
   "cell_type": "code",
   "execution_count": 20,
   "metadata": {},
   "outputs": [],
   "source": [
    "from sklearn.preprocessing import LabelEncoder\n",
    "from sklearn.model_selection import train_test_split\n",
    "\n",
    "le = LabelEncoder()\n",
    "y = le.fit_transform(y)\n",
    "\n",
    "X_train, X_test, y_train, y_test = \\\n",
    "                                train_test_split(X, y, test_size=0.40, shuffle=True, random_state=1)"
   ]
  },
  {
   "cell_type": "markdown",
   "metadata": {},
   "source": [
    "**从scikit-learn中导入已经实现好的BaggingClassifier类**"
   ]
  },
  {
   "cell_type": "code",
   "execution_count": 21,
   "metadata": {},
   "outputs": [],
   "source": [
    "from sklearn.tree import DecisionTreeClassifier\n",
    "from sklearn.ensemble import BaggingClassifier\n",
    "\n",
    "tree = DecisionTreeClassifier(criterion='entropy', max_depth=None)\n",
    "bag = BaggingClassifier(base_estimator=tree, n_estimators=500, max_samples=1.0, max_features=1.0, bootstrap=True, bootstrap_features=False, n_jobs=1, random_state=1)"
   ]
  },
  {
   "cell_type": "markdown",
   "metadata": {},
   "source": [
    "用单棵决策树来训练模型并且返回训练集和测试集的准确率"
   ]
  },
  {
   "cell_type": "code",
   "execution_count": 22,
   "metadata": {},
   "outputs": [
    {
     "name": "stdout",
     "output_type": "stream",
     "text": [
      "Decision tree's train/test accuracy: 1.000/0.854\n"
     ]
    }
   ],
   "source": [
    "from sklearn.metrics import accuracy_score\n",
    "\n",
    "tree = tree.fit(X_train, y_train) # 拟合训练数据(训练模型)\n",
    "\n",
    "y_train_pred = tree.predict(X_train) # 返回预测的类标\n",
    "y_test_pred = tree.predict(X_test)\n",
    "\n",
    "tree_train_acc = accuracy_score(y_train, y_train_pred)\n",
    "tree_test_acc = accuracy_score(y_test, y_test_pred)\n",
    "\n",
    "print('Decision tree\\'s train/test accuracy: %0.3f/%0.3f' % (tree_train_acc, tree_test_acc))"
   ]
  },
  {
   "cell_type": "markdown",
   "metadata": {},
   "source": [
    "注：从上述决策树在训练集和测试集的准确率来看，两者相差比较大，模型产生了过拟合。"
   ]
  },
  {
   "cell_type": "code",
   "execution_count": 23,
   "metadata": {},
   "outputs": [
    {
     "name": "stdout",
     "output_type": "stream",
     "text": [
      "Bagging's tree/test accuracy: 1.000/0.896\n"
     ]
    }
   ],
   "source": [
    "bag = bag.fit(X_train, y_train)\n",
    "\n",
    "y_train_pred = bag.predict(X_train) # 返回预测的类标\n",
    "y_test_pred = bag.predict(X_test)\n",
    "\n",
    "bag_train_acc = accuracy_score(y_train, y_train_pred)\n",
    "bag_test_acc = accuracy_score(y_test, y_test_pred)\n",
    "\n",
    "print('Bagging\\'s tree/test accuracy: %0.3f/%0.3f' % (bag_train_acc, bag_test_acc))"
   ]
  },
  {
   "cell_type": "markdown",
   "metadata": {},
   "source": [
    "注：从Bagging分类器得到的准确率看，过拟合程度较之决策树略小。下面从决策区域来比较两者的分类性能。"
   ]
  },
  {
   "cell_type": "code",
   "execution_count": 35,
   "metadata": {},
   "outputs": [
    {
     "data": {
      "image/png": "[encoded data removed]",
      "text/plain": [
       "<Figure size 864x360 with 2 Axes>"
      ]
     },
     "metadata": {
      "needs_background": "light"
     },
     "output_type": "display_data"
    }
   ],
   "source": [
    "import matplotlib.pyplot as plt\n",
    "import numpy as np\n",
    "\n",
    "x_min = X_train[:, 0].min() - 1\n",
    "x_max = X_train[:, 0].max() + 1\n",
    "y_min = X_train[:, 1].min() - 1\n",
    "y_max = X_train[:, 1].max() + 1\n",
    "xx, yy = np.meshgrid(np.arange(x_min, x_max, 0.1), np.arange(y_min, y_max, 0.1)) # 返回坐标矩阵\n",
    "\n",
    "fig, axarr = plt.subplots(nrows=1, ncols=2, sharex='col', sharey='row', figsize=(12, 5))\n",
    "\n",
    "clf_ = [tree, bag]\n",
    "labels_ = ['Decision Tree', 'Bagging']\n",
    "for idx, clf, lb, in zip([0 ,1], clf_, labels_):\n",
    "    clf.fit(X_train, y_train)\n",
    "    Z = clf.predict(np.c_[xx.ravel(), yy.ravel()])\n",
    "    Z = Z.reshape(xx.shape)\n",
    "    \n",
    "    axarr[idx].contourf(xx, yy, Z, alpha=0.5)\n",
    "    axarr[idx].scatter(X_train[y_train==0, 0], X_train[y_train==0, 1], c='blue', marker='^')\n",
    "    axarr[idx].scatter(X_train[y_train==1, 0], X_train[y_train==1, 1], c='red', marker='o')\n",
    "    axarr[idx].set_title(lb, fontsize=16)\n",
    "\n",
    "axarr[0].set_ylabel('Alcohol', fontsize=16)\n",
    "plt.text(10.0, -1.0, s='Hue', ha='center', va='center', fontsize=16)\n",
    "\n",
    "plt.show()"
   ]
  },
  {
   "cell_type": "markdown",
   "metadata": {},
   "source": [
    "### <font color=blue>三、通过自适应boosting(Adaptive Boosting, AdaBoost)提高弱学习机的性能</font>"
   ]
  },
  {
   "cell_type": "markdown",
   "metadata": {},
   "source": [
    "**boosting**主要针对难以区分的训练样本，也就是说，弱学习机通过在错误分类的样本上的学习来提高分类的性能。与**bagging**不同，boosting的初始化阶段，算法使用无放回抽样从训练样本中的随机抽取一个子集。"
   ]
  },
  {
   "cell_type": "markdown",
   "metadata": {},
   "source": [
    "自适应boosting(AdaBoost)与原始的boosting过程不同，使用的时整个训练集来训练弱学习机，其中训练样本在每次迭代中都会被重新赋予一个权重，在上一个弱学习机错误的基础上进行学习进而构造一个更加强大的分类器。AdaBoost算法可以概括为以下伪代码：  \n",
    "\n",
    "(1)以等值的方式为权重向量w赋值，其中$\\sum_{i} w_{i}=1$。  \n",
    "(2)在m轮boosting操作中，对第j轮做如下的操作：  \n",
    "&emsp;&emsp;1)训练一个加权的弱学习机：$C_{j}=\\operatorname{train}(\\boldsymbol{X}, \\boldsymbol{y}, \\boldsymbol{w})$。  \n",
    "&emsp;&emsp;2)预测样本类标：$\\hat{y}=\\operatorname{predict}\\left(C_{j}, \\boldsymbol{X}\\right)$。  \n",
    "&emsp;&emsp;3)计算权重错误率：$\\varepsilon=w \\cdot(\\hat{y}==y)$。  \n",
    "&emsp;&emsp;4)计算相关系数：$\\alpha_{j}=0.5 \\log \\frac{1-\\varepsilon}{\\varepsilon}$。  \n",
    "&emsp;&emsp;5)更新权重：$w :=w \\times \\exp \\left(-\\alpha_{j} \\times \\hat{y} \\times y\\right)$。  \n",
    "&emsp;&emsp;6)归一化权重：使其和为1，$w :=w / \\sum_{i} w_{i}$。  \n",
    "(3)完成最后的预测：$\\hat{y}=\\left(\\sum_{j=1}^{m}\\left(\\alpha_{j} \\times \\operatorname{predict}\\left(C_{j}, \\boldsymbol{X}\\right)\\right)>0\\right)$。\n"
   ]
  },
  {
   "cell_type": "markdown",
   "metadata": {},
   "source": [
    "该算法在训练开始前，给训练集中的每个样本初始化一个等值的权重，然后开始第一轮训练。根据模型的预测结果计算权重错误率以及相关系数，用计算的结果对权值进行更新，归一化权重以后又开始下一轮的训练。训练的轮次是超参数，设置的标准可以是模型的准确率达到某个理想值。每一轮训练后计算得到的相关系数需要保存下来，在最后的多数投票预测环节当作权重来使用。"
   ]
  },
  {
   "cell_type": "markdown",
   "metadata": {},
   "source": [
    "**以下代码实现了基于scikit-learn库训练一个AdaBoost集成分类器**"
   ]
  },
  {
   "cell_type": "code",
   "execution_count": 25,
   "metadata": {},
   "outputs": [
    {
     "name": "stdout",
     "output_type": "stream",
     "text": [
      "Decision tree's train/test accuracy: 0.845/0.854\n"
     ]
    }
   ],
   "source": [
    "from sklearn.tree import DecisionTreeClassifier\n",
    "from sklearn.ensemble import AdaBoostClassifier\n",
    "\n",
    "tree = DecisionTreeClassifier(criterion='entropy', max_depth=1)\n",
    "abc = AdaBoostClassifier(base_estimator=tree, n_estimators=500, learning_rate=0.1, random_state=0)\n",
    "\n",
    "tree = tree.fit(X_train, y_train)\n",
    "y_train_pred = tree.predict(X_train) # 返回预测的类标\n",
    "y_test_pred = tree.predict(X_test)\n",
    "tree_train_acc = accuracy_score(y_train, y_train_pred)\n",
    "tree_test_acc = accuracy_score(y_test, y_test_pred)\n",
    "print('Decision tree\\'s train/test accuracy: %0.3f/%0.3f' % (tree_train_acc, tree_test_acc))"
   ]
  },
  {
   "cell_type": "code",
   "execution_count": 27,
   "metadata": {},
   "outputs": [
    {
     "name": "stdout",
     "output_type": "stream",
     "text": [
      "AdaBoost's train/test accuracy: 1.000/0.875\n"
     ]
    }
   ],
   "source": [
    "abc.fit(X_train, y_train)\n",
    "y_train_pred = abc.predict(X_train) # 返回预测的类标\n",
    "y_test_pred = abc.predict(X_test)\n",
    "abc_train_acc = accuracy_score(y_train, y_train_pred)\n",
    "abc_test_acc = accuracy_score(y_test, y_test_pred)\n",
    "print('AdaBoost\\'s train/test accuracy: %0.3f/%0.3f' % (abc_train_acc, abc_test_acc))"
   ]
  },
  {
   "cell_type": "code",
   "execution_count": 34,
   "metadata": {},
   "outputs": [
    {
     "data": {
      "image/png": "[encoded data removed]",
      "text/plain": [
       "<Figure size 864x360 with 2 Axes>"
      ]
     },
     "metadata": {
      "needs_background": "light"
     },
     "output_type": "display_data"
    }
   ],
   "source": [
    "import matplotlib.pyplot as plt\n",
    "import numpy as np\n",
    "\n",
    "x_min = X_train[:, 0].min() - 1\n",
    "x_max = X_train[:, 0].max() + 1\n",
    "y_min = X_train[:, 1].min() - 1\n",
    "y_max = X_train[:, 1].max() + 1\n",
    "xx, yy = np.meshgrid(np.arange(x_min, x_max, 0.1), np.arange(y_min, y_max, 0.1)) # 返回坐标矩阵\n",
    "\n",
    "fig, axarr = plt.subplots(nrows=1, ncols=2, sharex='col', sharey='row', figsize=(12, 5))\n",
    "\n",
    "clf_ = [tree, abc]\n",
    "labels_ = ['Decision Tree', 'AdaBoost']\n",
    "for idx, clf, lb, in zip([0 ,1], clf_, labels_):\n",
    "    clf.fit(X_train, y_train)\n",
    "    Z = clf.predict(np.c_[xx.ravel(), yy.ravel()])\n",
    "    Z = Z.reshape(xx.shape)\n",
    "    \n",
    "    axarr[idx].contourf(xx, yy, Z, alpha=0.5)\n",
    "    axarr[idx].scatter(X_train[y_train==0, 0], X_train[y_train==0, 1], c='blue', marker='^')\n",
    "    axarr[idx].scatter(X_train[y_train==1, 0], X_train[y_train==1, 1], c='red', marker='o')\n",
    "    axarr[idx].set_title(lb, fontsize=16)\n",
    "\n",
    "axarr[0].set_ylabel('Alcohol', fontsize=16)\n",
    "plt.text(10.0, -1.0, s='Hue', ha='center', va='center', fontsize=16)\n",
    "\n",
    "plt.show()"
   ]
  },
  {
   "cell_type": "markdown",
   "metadata": {},
   "source": [
    "总结：从以上探讨的内容可以得出结论，集成分类器的性能较之单独分类器有明显的提升，但是相应的需要付出更多的计算成本。在工程问题上不仅需要考虑分类的准确性，还需要考虑工程实现的复杂性和成本。我们用Python实现了一个MajorityVoteClassifier类，它可以通过组合不同的算法得到一个分类器。进而我们学习了bagging，它能够在训练集上通过bootstrap进行随机抽样，并以多数投票为准则组合多个单独训练的成员分类器，成为一种能够有效降低模型方差的模型。然后我们讨论了AdaBoost，它是一种基于弱学习机的算法，能够从前一个弱学习机错误中进行学习。"
   ]
  }
 ],
 "metadata": {
  "kernelspec": {
   "display_name": "Python 3",
   "language": "python",
   "name": "python3"
  },
  "language_info": {
   "codemirror_mode": {
    "name": "ipython",
    "version": 3
   },
   "file_extension": ".py",
   "mimetype": "text/x-python",
   "name": "python",
   "nbconvert_exporter": "python",
   "pygments_lexer": "ipython3",
   "version": "3.6.8"
  }
 },
 "nbformat": 4,
 "nbformat_minor": 2
}
