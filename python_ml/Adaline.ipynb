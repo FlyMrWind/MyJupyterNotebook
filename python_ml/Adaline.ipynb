{
 "cells": [
  {
   "cell_type": "markdown",
   "metadata": {},
   "source": [
    "# 自适应线性神经网络的的python代码实现"
   ]
  },
  {
   "cell_type": "markdown",
   "metadata": {},
   "source": [
    "使用梯度下降算法(Gradient Descent, GD)来优化自适应线性神经网络。GD算法在整个训练集上计算梯度和更新权重，只适用于小型数据集。"
   ]
  },
  {
   "cell_type": "code",
   "execution_count": 20,
   "metadata": {},
   "outputs": [],
   "source": [
    "import numpy as np\n",
    "\n",
    "class AdalineGD(object):\n",
    "    \"\"\"ADAptive Linear classifier.\n",
    "    Parameters\n",
    "    ----------\n",
    "    eta: float\n",
    "        Learning rate(between 0.0 and 1.0)\n",
    "        \n",
    "    n_iter: int\n",
    "        Passer over the trainging dataset.\n",
    "        \n",
    "    Attributes\n",
    "    ----------\n",
    "    \n",
    "    W_: id-array\n",
    "        Weighht after fitting.\n",
    "    errors_: list\n",
    "        Number of misclassfication in every epoch.\n",
    "    \"\"\"\n",
    "    # 学习率默认为0.01，训练的次数默认为50\n",
    "    def __init__(self, eta=0.01, n_iter=50):\n",
    "        self.eta = eta\n",
    "        self.n_iter = n_iter\n",
    "    def fit(self, X, y):\n",
    "        \"\"\"Fit training data.\n",
    "        \n",
    "        Paratermeters\n",
    "        ------------\n",
    " \n",
    "        X: {array-like}, shape = [n_samples, n_features]\n",
    "            Trainging vectors, \n",
    "            where n_samples is the number of samples and n_features is the number of features.\n",
    "        y: array-like, shape = {n_samples}\n",
    "            Target values.\n",
    "            \n",
    "        Returns\n",
    "        -------\n",
    "        self: object\n",
    "        \"\"\"\n",
    "        self.w_ = np.zeros(1 + X.shape[1])\n",
    "        self.cost_ = []\n",
    "        \n",
    "        #对权值和偏置进行更新\n",
    "        for _ in range(self.n_iter):\n",
    "            output = self.net_input(X)\n",
    "            errors = (y - output)\n",
    "            self.w_[1:] += self.eta * X.T.dot(errors)\n",
    "            self.w_[0] += self.eta * errors.sum()\n",
    "            cost = (errors**2).sum() / 2.0\n",
    "            self.cost_.append(cost)\n",
    "        return self\n",
    "    \n",
    "    def net_input(self, X):\n",
    "        \"\"\"Calculate net input\"\"\"\n",
    "        return np.dot(X, self.w_[1:]) + self.w_[0]\n",
    "    \n",
    "    def activation(self, X):\n",
    "        \"\"\"Compute linear activation\"\"\"\n",
    "        return self.net_input(X)\n",
    "        \n",
    "    def predict(self, X):\n",
    "        \"\"\"Return class label after unit step\"\"\"\n",
    "        return np.where(self.activation(X) >= 0.0, 1, -1)\n"
   ]
  },
  {
   "cell_type": "code",
   "execution_count": 3,
   "metadata": {},
   "outputs": [
    {
     "name": "stdout",
     "output_type": "stream",
     "text": [
      "(150, 5)\n"
     ]
    },
    {
     "data": {
      "text/html": [
       "<div>\n",
       "<style scoped>\n",
       "    .dataframe tbody tr th:only-of-type {\n",
       "        vertical-align: middle;\n",
       "    }\n",
       "\n",
       "    .dataframe tbody tr th {\n",
       "        vertical-align: top;\n",
       "    }\n",
       "\n",
       "    .dataframe thead th {\n",
       "        text-align: right;\n",
       "    }\n",
       "</style>\n",
       "<table border=\"1\" class=\"dataframe\">\n",
       "  <thead>\n",
       "    <tr style=\"text-align: right;\">\n",
       "      <th></th>\n",
       "      <th>0</th>\n",
       "      <th>1</th>\n",
       "      <th>2</th>\n",
       "      <th>3</th>\n",
       "      <th>4</th>\n",
       "    </tr>\n",
       "  </thead>\n",
       "  <tbody>\n",
       "    <tr>\n",
       "      <th>145</th>\n",
       "      <td>6.7</td>\n",
       "      <td>3.0</td>\n",
       "      <td>5.2</td>\n",
       "      <td>2.3</td>\n",
       "      <td>Iris-virginica</td>\n",
       "    </tr>\n",
       "    <tr>\n",
       "      <th>146</th>\n",
       "      <td>6.3</td>\n",
       "      <td>2.5</td>\n",
       "      <td>5.0</td>\n",
       "      <td>1.9</td>\n",
       "      <td>Iris-virginica</td>\n",
       "    </tr>\n",
       "    <tr>\n",
       "      <th>147</th>\n",
       "      <td>6.5</td>\n",
       "      <td>3.0</td>\n",
       "      <td>5.2</td>\n",
       "      <td>2.0</td>\n",
       "      <td>Iris-virginica</td>\n",
       "    </tr>\n",
       "    <tr>\n",
       "      <th>148</th>\n",
       "      <td>6.2</td>\n",
       "      <td>3.4</td>\n",
       "      <td>5.4</td>\n",
       "      <td>2.3</td>\n",
       "      <td>Iris-virginica</td>\n",
       "    </tr>\n",
       "    <tr>\n",
       "      <th>149</th>\n",
       "      <td>5.9</td>\n",
       "      <td>3.0</td>\n",
       "      <td>5.1</td>\n",
       "      <td>1.8</td>\n",
       "      <td>Iris-virginica</td>\n",
       "    </tr>\n",
       "  </tbody>\n",
       "</table>\n",
       "</div>"
      ],
      "text/plain": [
       "       0    1    2    3               4\n",
       "145  6.7  3.0  5.2  2.3  Iris-virginica\n",
       "146  6.3  2.5  5.0  1.9  Iris-virginica\n",
       "147  6.5  3.0  5.2  2.0  Iris-virginica\n",
       "148  6.2  3.4  5.4  2.3  Iris-virginica\n",
       "149  5.9  3.0  5.1  1.8  Iris-virginica"
      ]
     },
     "execution_count": 3,
     "metadata": {},
     "output_type": "execute_result"
    }
   ],
   "source": [
    "import pandas as pd\n",
    "df = pd.read_csv('http://archive.ics.uci.edu/ml/machine-learning-databases/iris/iris.data', header = None)\n",
    "print(df.shape)\n",
    "df.tail() # 从数据集尾部开始显示数据，以此来判断数据是否已经成功导入"
   ]
  },
  {
   "cell_type": "code",
   "execution_count": 6,
   "metadata": {},
   "outputs": [
    {
     "name": "stdout",
     "output_type": "stream",
     "text": [
      "(100,)\n",
      "(100, 2)\n"
     ]
    },
    {
     "data": {
      "image/png": "[encoded data removed]",
      "text/plain": [
       "<Figure size 576x288 with 2 Axes>"
      ]
     },
     "metadata": {
      "needs_background": "light"
     },
     "output_type": "display_data"
    }
   ],
   "source": [
    "import matplotlib.pyplot as plt\n",
    "import numpy as np\n",
    "\n",
    "y = df.iloc[0:100, 4].values # 取出矩阵的第四列数据，即鸢尾花的名称字符串\n",
    "y = np.where(y == 'Iris-setosa', -1, 1) # 根据字符串来定义标签\n",
    "X = df.iloc[0:100, [0, 2]].values #去除第一列和第三列的数据，即花瓣长度和萼片长度\n",
    "print(y.shape)\n",
    "print(X.shape)\n",
    "\n",
    "fig, ax = plt.subplots(nrows=1, ncols=2, figsize=(8, 4)) # 返回两个参数，一个fig对象，ax是fig对象中绘图区域的列表，此处将fig图像分成了一行两列，即分成了两个绘图区域，返回的ax也是一行两列的列表。\n",
    "adal1 = AdalineGD(n_iter=20, eta=0.01).fit(X, y)\n",
    "\n",
    "# 绘制第一个损失图，学习率为0.01\n",
    "ax[0].plot(range(1, len(adal1.cost_)+1), np.log10(adal1.cost_), marker='o')\n",
    "ax[0].set_xlabel('Epochs')# 设置x轴标签\n",
    "ax[0].set_ylabel('log(sum-squared-error)')\n",
    "ax[0].set_title('Adaline - Learning rate 0.01')\n",
    "\n",
    "# 绘制第二个损失图，学习率为0.0001\n",
    "adal2 = AdalineGD(n_iter=20, eta=0.0001).fit(X, y)\n",
    "ax[1].plot(range(1, len(adal2.cost_)+1), adal2.cost_, marker='o')\n",
    "ax[1].set_xlabel('Epochs')# 设置x轴标签\n",
    "ax[1].set_ylabel('sum-squared-error')\n",
    "ax[1].set_title('Adaline - Learning rate 0.0001')\n",
    "plt.tight_layout(pad=0.4, w_pad=0.5, h_pad=1.0) # 用于解决子图的标签相互遮挡的问题\n",
    "plt.show()\n"
   ]
  },
  {
   "cell_type": "code",
   "execution_count": 33,
   "metadata": {},
   "outputs": [
    {
     "name": "stdout",
     "output_type": "stream",
     "text": [
      "(100, 2)\n",
      "5.471000000000001\n",
      "2.8620000000000005\n"
     ]
    }
   ],
   "source": [
    "X_std = np.copy(X) # 深拷贝得到X的一个副本，副本与原数据两者互不影响\n",
    "print(X_std.shape)\n",
    "X_std[:, 0] = (X[:, 0] - X[:, 0].mean()) / X[:, 0].std() # 对两个特征分别做归一化处理\n",
    "X_std[:, 1] = (X[:, 1] - X[:, 1].mean()) / X[:, 1].std()\n",
    "print(X[:, 0].mean())\n",
    "print(X[:, 1].mean())"
   ]
  },
  {
   "cell_type": "code",
   "execution_count": 28,
   "metadata": {},
   "outputs": [],
   "source": [
    "from matplotlib.colors import ListedColormap\n",
    "\n",
    "def plot_decision_regions(X, y, classifier, resolution=0.02):\n",
    "    \n",
    "    # setup marker generator and color map\n",
    "    markers = ['s','x', 'o','^','v']\n",
    "    colors = ['red', 'blue','lightgreen', 'gray','cyan']\n",
    "    cmap = ListedColormap(colors[:len(np.unique(y))])\n",
    "    \n",
    "    \"\"\"\n",
    "    plot the decision surface\n",
    "    将最大值，最小值向量生成二维数组xx1,xx2\n",
    "    np.arange(x1_min, x1_max, resolution) 最小值最大值之间生成序列，步长为resolution\n",
    "    ---\n",
    "    \"\"\"\n",
    "    x1_min, x1_max = X[:, 0].min() - 1, X[:, 0].max() + 1\n",
    "    x2_min, x2_max = X[:, 1].min() - 1, X[:, 1].max() + 1\n",
    "    \n",
    "    new_x1 = np.arange(x1_min, x1_max, resolution)\n",
    "    new_x2 = np.arange(x2_min, x2_max, resolution)\n",
    "    xx1, xx2 = np.meshgrid(new_x1, new_x2)\n",
    "\n",
    "    # xx1, xx2 = np.meshgrid(np.array(x1_min, x1_max, resolution), np.array(x2_min, x2_max, resolution))\n",
    "    # 预测值\n",
    "    Z = classifier.predict(np.array([xx1.ravel(), xx2.ravel()]).T)\n",
    "    Z = Z.reshape(xx1.shape)\n",
    "    plt.contourf(xx1, xx2, Z, alpha=0.4, cmap=cmap) # 绘制等高线(轮廓)，使用不同的颜色对不同区域进行填充，不专门绘制等高线，但不同颜色的分界即可代表等高线\n",
    "    plt.xlim(xx1.min(), xx1.max())\n",
    "    plt.ylim(xx2.min(), xx2.max())\n",
    "    \n",
    "    # plot class samples\n",
    "    for idx, c1 in enumerate(np.unique(y)):\n",
    "        plt.scatter(x=X[y == c1, 0], y=X[y == c1, 1], alpha=0.8, cmap=cmap, marker=markers[idx], label=c1)"
   ]
  },
  {
   "cell_type": "code",
   "execution_count": 43,
   "metadata": {},
   "outputs": [
    {
     "data": {
      "image/png": "[encoded data removed]",
      "text/plain": [
       "<Figure size 432x288 with 1 Axes>"
      ]
     },
     "metadata": {
      "needs_background": "light"
     },
     "output_type": "display_data"
    },
    {
     "data": {
      "image/png": "[encoded data removed]",
      "text/plain": [
       "<Figure size 432x288 with 1 Axes>"
      ]
     },
     "metadata": {
      "needs_background": "light"
     },
     "output_type": "display_data"
    }
   ],
   "source": [
    "adal = AdalineGD(n_iter=15, eta=0.01)\n",
    "adal.fit(X_std, y)\n",
    "plot_decision_regions(X_std, y, classifier=adal)\n",
    "plt.title('Adaline-Gradient Descent')\n",
    "plt.xlabel(\"sepal length [standardized]\")\n",
    "plt.xlabel(\"petal length [standardized]\")\n",
    "plt.legend(loc='upper left')\n",
    "plt.show() #分成两个fig对象来画图，plt.show()将图显示出来，代表着绘图结束。\n",
    "\n",
    "plt.plot(range(1, len(adal.cost_)+1), adal.cost_, marker='o')\n",
    "plt.xlabel(\"Epochs\")\n",
    "plt.ylabel('sum-squared-error')\n",
    "plt.show()"
   ]
  }
 ],
 "metadata": {
  "kernelspec": {
   "display_name": "Python 3",
   "language": "python",
   "name": "python3"
  },
  "language_info": {
   "codemirror_mode": {
    "name": "ipython",
    "version": 3
   },
   "file_extension": ".py",
   "mimetype": "text/x-python",
   "name": "python",
   "nbconvert_exporter": "python",
   "pygments_lexer": "ipython3",
   "version": "3.6.8"
  }
 },
 "nbformat": 4,
 "nbformat_minor": 2
}
